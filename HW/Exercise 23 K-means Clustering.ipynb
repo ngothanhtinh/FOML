{
 "cells": [
  {
   "cell_type": "markdown",
   "id": "370c4e82-c6b0-48c3-aa20-4ea04485a199",
   "metadata": {},
   "source": [
    "### K-means Clustering"
   ]
  },
  {
   "cell_type": "code",
   "execution_count": 1,
   "id": "92aa6cb9-875b-4775-b15d-1f0a44749360",
   "metadata": {},
   "outputs": [],
   "source": [
    "import numpy as np\n",
    "import matplotlib\n",
    "import matplotlib.pyplot as plt"
   ]
  },
  {
   "cell_type": "markdown",
   "id": "9aa2e38d-0961-4230-a395-149b202ec91a",
   "metadata": {},
   "source": [
    "**Training data**"
   ]
  },
  {
   "cell_type": "code",
   "execution_count": 2,
   "id": "7bbbe684-4724-470a-aa48-6242d224436c",
   "metadata": {},
   "outputs": [
    {
     "data": {
      "image/png": "[encoded data removed]",
      "text/plain": [
       "<Figure size 432x288 with 1 Axes>"
      ]
     },
     "metadata": {
      "needs_background": "light"
     },
     "output_type": "display_data"
    }
   ],
   "source": [
    "# synthetic data\n",
    "mu1_act = np.array([2,22])\n",
    "mu2_act = np.array([20,18])\n",
    "mu3_act = np.array([9,12])\n",
    "mu4_act = np.array([10,2])\n",
    "sigma = np.array([[4,0],[0,4]])\n",
    "\n",
    "X1 = np.random.multivariate_normal(mu1_act,sigma,100)\n",
    "X2 = np.random.multivariate_normal(mu2_act,sigma,100)\n",
    "X3 = np.random.multivariate_normal(mu3_act,sigma,100)\n",
    "X4 = np.random.multivariate_normal(mu4_act,sigma,100)\n",
    "\n",
    "X = np.concatenate((X1,X2,X3,X4),0)\n",
    "\n",
    "# Plot sample data\n",
    "plt.plot(X[:,0],X[:,1],'ro')\n",
    "plt.show()"
   ]
  },
  {
   "cell_type": "code",
   "execution_count": 3,
   "id": "1d85caeb-0667-4fa4-a5d9-0516facf0538",
   "metadata": {},
   "outputs": [
    {
     "data": {
      "text/plain": [
       "array([[ 5.28843991, 20.87660506],\n",
       "       [ 6.45147731, 21.81971444],\n",
       "       [ 6.72722242, 21.557458  ],\n",
       "       [ 2.60981771, 23.88207016],\n",
       "       [-1.6874491 , 22.49869878]])"
      ]
     },
     "execution_count": 3,
     "metadata": {},
     "output_type": "execute_result"
    }
   ],
   "source": [
    "X[:5,:]"
   ]
  },
  {
   "cell_type": "markdown",
   "id": "3a82d681-578c-4f1e-87f6-6417a650126b",
   "metadata": {},
   "source": [
    "**The k-means clustering algorithm:**"
   ]
  },
  {
   "cell_type": "markdown",
   "id": "7fabdaec-a1fd-44b9-9a7e-4f7b857ead29",
   "metadata": {},
   "source": [
    "Randomly initialize $\\mu_1, \\ldots, \\mu_k$"
   ]
  },
  {
   "cell_type": "markdown",
   "id": "8b49a238-4a10-4be1-941d-2cfb77b86908",
   "metadata": {},
   "source": [
    "Repeat until convergence:\n",
    "  - For $i \\in 1..m$, let $c^{(i)} \\leftarrow \\mathrm{argmin}_j \\|\\mu_j - \\mathbf{x}^{(i)} \\|^{2}.$\n",
    "  - For $j \\in 1..k$, let $$ \\mu_j \\leftarrow \\frac{\\sum_i \\delta(c^{(i)} = j) \\mathbf{x}^{(i)}}{\\sum_i \\delta(c^{(i)} = j)}$$"
   ]
  },
  {
   "cell_type": "markdown",
   "id": "bc04a812-5834-4fa2-9caf-d01559817eb8",
   "metadata": {},
   "source": [
    "The cost function minimized by k-means is\n",
    "$$J(\\mu) = \\sum_{i=1}^m \\| x^{(i)} - \\mu_{c^{(i)}} \\|^2$$"
   ]
  },
  {
   "cell_type": "code",
   "execution_count": 4,
   "id": "cdea9c61-f16d-42e3-84f1-aee289693970",
   "metadata": {},
   "outputs": [],
   "source": [
    "# Randomly initialize mu's by choosing k elements from X without replacement\n",
    "# np.random.choice(): Generates a random sample from a given 1-D array\n",
    "# replace=True: meaning that a value of a can be selected multiple times.\n",
    "k1 = 4\n",
    "m1 = X.shape[0]\n",
    "indices1 = np.random.choice(np.arange(m1), k1, replace=False)\n",
    "mu1 = X[indices1,:]\n",
    "cold1 = np.zeros(m1)"
   ]
  },
  {
   "cell_type": "code",
   "execution_count": 5,
   "id": "0e98f2d9-1d37-483a-9ca9-9b3937632b93",
   "metadata": {
    "tags": []
   },
   "outputs": [
    {
     "data": {
      "text/plain": [
       "((400,), (4, 2))"
      ]
     },
     "execution_count": 5,
     "metadata": {},
     "output_type": "execute_result"
    }
   ],
   "source": [
    "cold1.shape,mu1.shape"
   ]
  },
  {
   "cell_type": "code",
   "execution_count": 6,
   "id": "2f2a1a77-beff-4c7a-8995-7cae5168600e",
   "metadata": {},
   "outputs": [],
   "source": [
    "# axis 0 refers to the rows, and axis 1 refers to the columns\n",
    "# axis=0. This means to sum row-wise, along axis 0. In other words, the output has the same size as this axis"
   ]
  },
  {
   "cell_type": "markdown",
   "id": "a8a3b1c9-5ed2-4dc1-b8f5-3695f4ddf786",
   "metadata": {},
   "source": [
    "$\\|\\mu_j - \\mathbf{x}^{(i)} \\|^{2} \\rightarrow \\small \\text{distances}$"
   ]
  },
  {
   "cell_type": "code",
   "execution_count": 7,
   "id": "f1091e4f-9b37-4dcf-94a0-c5df108ddef2",
   "metadata": {},
   "outputs": [],
   "source": [
    "distances1 = np.zeros((k1,m1))\n",
    "for j in range(k1):\n",
    "        distances1[j,:] = ((mu1[j,:]-X)*(mu1[j,:]-X)).sum(axis=1).reshape(1,-1)"
   ]
  },
  {
   "cell_type": "code",
   "execution_count": 8,
   "id": "d7018af0-c2a4-49b5-af8e-d9902cb082b5",
   "metadata": {},
   "outputs": [
    {
     "data": {
      "text/plain": [
       "(400, 2)"
      ]
     },
     "execution_count": 8,
     "metadata": {},
     "output_type": "execute_result"
    }
   ],
   "source": [
    "((mu1[j,:]-X)*(mu1[j,:]-X)).shape"
   ]
  },
  {
   "cell_type": "code",
   "execution_count": 9,
   "id": "58158226-1eaa-44ab-94b6-a62eb2c699e3",
   "metadata": {},
   "outputs": [
    {
     "data": {
      "text/plain": [
       "(400,)"
      ]
     },
     "execution_count": 9,
     "metadata": {},
     "output_type": "execute_result"
    }
   ],
   "source": [
    "((mu1[j,:]-X)*(mu1[j,:]-X)).sum(axis=1).shape"
   ]
  },
  {
   "cell_type": "code",
   "execution_count": 10,
   "id": "6a4d0c0e-ce21-47e8-89c3-52d681576140",
   "metadata": {
    "tags": []
   },
   "outputs": [
    {
     "data": {
      "text/plain": [
       "(1, 400)"
      ]
     },
     "execution_count": 10,
     "metadata": {},
     "output_type": "execute_result"
    }
   ],
   "source": [
    "((mu1[j,:]-X)*(mu1[j,:]-X)).sum(axis=1).reshape(1,-1).shape"
   ]
  },
  {
   "cell_type": "code",
   "execution_count": 11,
   "id": "0578f750-b7a1-419f-b54b-35bee5db28b1",
   "metadata": {},
   "outputs": [
    {
     "data": {
      "text/plain": [
       "((4, 400), 2)"
      ]
     },
     "execution_count": 11,
     "metadata": {},
     "output_type": "execute_result"
    }
   ],
   "source": [
    "distances1.shape,distances1.ndim"
   ]
  },
  {
   "cell_type": "code",
   "execution_count": 12,
   "id": "e8b86216-2b91-495f-9a43-81013641a816",
   "metadata": {},
   "outputs": [
    {
     "data": {
      "text/plain": [
       "array([[276.55570496, 300.35737126, 290.03992328],\n",
       "       [131.83826623, 146.50317109, 139.12038912],\n",
       "       [147.95923249, 128.20919882, 120.4623226 ],\n",
       "       [ 45.01816511,  57.77187968,  62.72321579]])"
      ]
     },
     "execution_count": 12,
     "metadata": {},
     "output_type": "execute_result"
    }
   ],
   "source": [
    "distances1[:,:3]"
   ]
  },
  {
   "cell_type": "markdown",
   "id": "66287159-294d-4804-a6de-0b51c3fbda93",
   "metadata": {},
   "source": [
    "$c^{(i)} \\leftarrow \\mathrm{argmin}_j \\|\\mu_j - \\mathbf{x}^{(i)} \\|^{2}$"
   ]
  },
  {
   "cell_type": "code",
   "execution_count": 13,
   "id": "9d36db85-4160-4964-9174-882a4a1b5a6b",
   "metadata": {},
   "outputs": [
    {
     "data": {
      "text/plain": [
       "(numpy.ndarray, (400,), 1)"
      ]
     },
     "execution_count": 13,
     "metadata": {},
     "output_type": "execute_result"
    }
   ],
   "source": [
    "# Returns the indices of the minimum values along an axis = 0.\n",
    "# C is index of class\n",
    "C1 = np.argmin(distances1, axis=0)\n",
    "type(C1),C1.shape,C1.ndim"
   ]
  },
  {
   "cell_type": "code",
   "execution_count": 14,
   "id": "a56812a9-68bf-4c28-99d1-987e4b1f22a5",
   "metadata": {},
   "outputs": [
    {
     "data": {
      "text/plain": [
       "array([3, 3, 3, 3, 3, 3, 3, 3, 3, 3, 3, 3, 3, 3, 3, 3, 3, 3, 3, 3, 3, 3,\n",
       "       3, 3, 3, 3, 3, 3, 3, 3, 3, 3, 3, 3, 3, 3, 3, 3, 3, 3, 3, 3, 3, 3,\n",
       "       3, 3, 3, 3, 3, 3, 3, 3, 3, 3, 3, 3, 1, 3, 3, 3, 3, 3, 3, 3, 3, 3,\n",
       "       3, 3, 3, 3, 3, 3, 3, 3, 3, 3, 3, 3, 3, 3, 3, 3, 3, 3, 3, 3, 3, 3,\n",
       "       3, 3, 3, 3, 3, 3, 3, 3, 3, 3, 3, 3, 2, 2, 2, 2, 2, 2, 2, 2, 2, 2,\n",
       "       2, 2, 2, 2, 2, 2, 2, 2, 2, 2, 2, 2, 2, 2, 2, 2, 2, 2, 2, 2, 2, 2,\n",
       "       2, 2, 2, 2, 2, 2, 2, 2, 2, 2, 2, 2, 2, 2, 2, 2, 2, 2, 2, 2, 2, 2,\n",
       "       2, 2, 2, 2, 2, 2, 2, 2, 2, 2, 2, 2, 2, 2, 2, 2, 2, 2, 2, 2, 2, 2,\n",
       "       2, 2, 2, 2, 2, 2, 2, 2, 2, 2, 2, 2, 2, 2, 2, 2, 2, 2, 2, 2, 2, 2,\n",
       "       2, 2, 1, 1, 1, 1, 1, 1, 1, 1, 1, 1, 1, 1, 1, 1, 1, 1, 1, 1, 1, 1,\n",
       "       1, 1, 1, 1, 1, 1, 1, 1, 1, 1, 1, 1, 1, 1, 1, 1, 1, 1, 1, 1, 1, 1,\n",
       "       1, 1, 1, 1, 1, 1, 1, 1, 1, 1, 1, 1, 1, 1, 1, 1, 1, 1, 1, 1, 1, 1,\n",
       "       1, 1, 1, 1, 1, 1, 1, 1, 1, 1, 1, 1, 1, 1, 1, 1, 1, 1, 1, 1, 1, 1,\n",
       "       1, 1, 1, 1, 1, 2, 1, 1, 1, 1, 1, 1, 1, 1, 0, 0, 0, 0, 0, 0, 0, 0,\n",
       "       0, 0, 0, 0, 0, 0, 0, 0, 0, 0, 0, 0, 0, 0, 0, 0, 0, 0, 0, 0, 0, 0,\n",
       "       0, 0, 0, 0, 0, 0, 0, 0, 0, 0, 0, 0, 0, 0, 0, 0, 0, 0, 0, 0, 0, 0,\n",
       "       0, 0, 0, 0, 0, 0, 0, 0, 0, 0, 0, 0, 0, 0, 0, 0, 0, 0, 0, 0, 0, 0,\n",
       "       0, 0, 0, 0, 0, 0, 0, 0, 0, 0, 0, 0, 0, 0, 0, 0, 0, 0, 0, 0, 0, 0,\n",
       "       0, 0, 0, 0])"
      ]
     },
     "execution_count": 14,
     "metadata": {},
     "output_type": "execute_result"
    }
   ],
   "source": [
    "C1"
   ]
  },
  {
   "cell_type": "markdown",
   "id": "e0ef6dd4-6531-41b4-8188-2002eae59ab8",
   "metadata": {},
   "source": [
    "$J(\\mu) = \\sum_{i=1}^m \\| x^{(i)} - \\mu_{c^{(i)}} \\|^2$"
   ]
  },
  {
   "cell_type": "code",
   "execution_count": 15,
   "id": "5d4d237d-53a9-421a-bdde-076c2095a7e6",
   "metadata": {
    "tags": []
   },
   "outputs": [
    {
     "data": {
      "text/plain": [
       "15.048605801586016"
      ]
     },
     "execution_count": 15,
     "metadata": {},
     "output_type": "execute_result"
    }
   ],
   "source": [
    "# Return the minimum along a given axis = 0.\n",
    "J1 = np.min(distances1, axis=0).mean()\n",
    "J1"
   ]
  },
  {
   "cell_type": "code",
   "execution_count": 16,
   "id": "3b73fdc9-f4e7-4a3e-a76d-eaba7566ea8a",
   "metadata": {},
   "outputs": [
    {
     "data": {
      "text/plain": [
       "(array([45.01816511, 57.77187968, 62.72321579]), (400,))"
      ]
     },
     "execution_count": 16,
     "metadata": {},
     "output_type": "execute_result"
    }
   ],
   "source": [
    "np.min(distances1, axis=0)[:3],np.min(distances1, axis=0).shape"
   ]
  },
  {
   "cell_type": "markdown",
   "id": "d7baf507-9f21-4e30-bf43-83cdeefa9ce9",
   "metadata": {},
   "source": [
    "$$ \\mu_j \\leftarrow \\frac{\\sum_i \\delta(c^{(i)} = j) \\mathbf{x}^{(i)}}{\\sum_i \\delta(c^{(i)} = j)}$$"
   ]
  },
  {
   "cell_type": "code",
   "execution_count": 17,
   "id": "320e4e34-d1be-44a8-8599-15de265f8d26",
   "metadata": {},
   "outputs": [
    {
     "data": {
      "text/plain": [
       "((4, 2),\n",
       " array([[ 9.13866553,  4.69848812],\n",
       "        [ 8.80991396,  9.94785917],\n",
       "        [17.09993927, 17.97010972],\n",
       "        [-1.03945338, 23.10728472]]))"
      ]
     },
     "execution_count": 17,
     "metadata": {},
     "output_type": "execute_result"
    }
   ],
   "source": [
    "mu1 = X[indices1,:]\n",
    "mu1.shape,mu1"
   ]
  },
  {
   "cell_type": "code",
   "execution_count": 18,
   "id": "c838c737-501e-4bf2-9591-ed5e4b70957a",
   "metadata": {},
   "outputs": [],
   "source": [
    "for j in range(k1):\n",
    "    mu1[j,:] = X[C1==j,:].mean(axis=0)"
   ]
  },
  {
   "cell_type": "code",
   "execution_count": 19,
   "id": "098004df-18fb-4eb8-b50b-ecff9b17d251",
   "metadata": {},
   "outputs": [
    {
     "data": {
      "text/plain": [
       "(99, 2)"
      ]
     },
     "execution_count": 19,
     "metadata": {},
     "output_type": "execute_result"
    }
   ],
   "source": [
    "X[C1==j,:].shape"
   ]
  },
  {
   "cell_type": "code",
   "execution_count": 20,
   "id": "da450b36-629d-447a-af2d-e40c2ab60c5f",
   "metadata": {},
   "outputs": [
    {
     "data": {
      "text/plain": [
       "(2,)"
      ]
     },
     "execution_count": 20,
     "metadata": {},
     "output_type": "execute_result"
    }
   ],
   "source": [
    "X[C1==j,:].mean(axis=0).shape"
   ]
  },
  {
   "cell_type": "code",
   "execution_count": 21,
   "id": "f6908c3e-96be-428a-9220-d9810f440375",
   "metadata": {},
   "outputs": [
    {
     "data": {
      "text/plain": [
       "(4, 2)"
      ]
     },
     "execution_count": 21,
     "metadata": {},
     "output_type": "execute_result"
    }
   ],
   "source": [
    "mu1.shape"
   ]
  },
  {
   "cell_type": "code",
   "execution_count": 22,
   "id": "73635cbb-c6c2-4fe8-877d-ca7650529383",
   "metadata": {},
   "outputs": [],
   "source": [
    "while True:\n",
    "    distances1 = np.zeros((k1,m1))\n",
    "    \n",
    "    # C <- argmin_j |mu_j - x_i|\n",
    "    for j in range(k1):\n",
    "        distances1[j,:] = ((mu1[j,:]-X)*(mu1[j,:]-X)).sum(axis=1).reshape(1,-1)\n",
    "    C1 = np.argmin(distances1, axis=0)\n",
    "    J1 = np.min(distances1, axis=0).mean() #Cost Function\n",
    "    \n",
    "    \n",
    "     # mu_j = average of points closest to cluster j\n",
    "    for j in range(k1):\n",
    "        mu1[j,:] = X[C1==j,:].mean(axis = 0)\n",
    "        \n",
    "    # check convergence\n",
    "    if (C1 == cold1).all():\n",
    "        break\n",
    "    cold1 = np.copy(C1)"
   ]
  },
  {
   "cell_type": "code",
   "execution_count": 23,
   "id": "f7f3bc7a-8e05-4ff6-8488-7f909f6ab746",
   "metadata": {},
   "outputs": [
    {
     "data": {
      "text/plain": [
       "(array([[10.16382822,  1.92670851],\n",
       "        [ 8.96765648, 11.71836732],\n",
       "        [19.95327611, 17.77714135],\n",
       "        [ 1.88731561, 21.89986162]]),\n",
       " 7.591864572795486)"
      ]
     },
     "execution_count": 23,
     "metadata": {},
     "output_type": "execute_result"
    }
   ],
   "source": [
    "mu1,J1"
   ]
  },
  {
   "cell_type": "code",
   "execution_count": 24,
   "id": "82fcd691-e372-47c8-82e9-1107625218c5",
   "metadata": {},
   "outputs": [
    {
     "data": {
      "image/png": "[encoded data removed]",
      "text/plain": [
       "<Figure size 432x288 with 1 Axes>"
      ]
     },
     "metadata": {
      "needs_background": "light"
     },
     "output_type": "display_data"
    }
   ],
   "source": [
    "plt.plot(X[:,0],X[:,1],'ro')\n",
    "plt.plot(mu1[:,0],mu1[:,1],'go')\n",
    "plt.show()"
   ]
  },
  {
   "cell_type": "markdown",
   "id": "bfeb3077-e546-41ec-8f91-75b8c03216b2",
   "metadata": {},
   "source": [
    "**K-Means Function**"
   ]
  },
  {
   "cell_type": "code",
   "execution_count": 25,
   "id": "bf1afca2-c49d-4466-a4c4-fb25edf96c47",
   "metadata": {},
   "outputs": [],
   "source": [
    "# K-means function\n",
    "def k_means(X,k):\n",
    "    # Initialize k cluster centroids\n",
    "    m = X.shape[0]\n",
    "    indices = np.random.choice(np.arange(m),k,replace=False)\n",
    "    mu = X[indices,:]\n",
    "    cold = np.zeros(m)\n",
    "    # Repeat until convergence\n",
    "    while True:\n",
    "        distance = np.zeros((k,m))\n",
    "        for j in range(k):\n",
    "            distance[j,:] = ((mu[j,:]-X)*(mu[j,:]-X)).sum(axis=1).reshape(1,-1)\n",
    "        C = np.argmin(distance, axis=0)\n",
    "        J = np.min(distance, axis=0).mean()\n",
    "        \n",
    "        #Update parameter\n",
    "        for j in range(k):\n",
    "            mu[j,:] = X[C==j,:].mean(axis=0)\n",
    "        \n",
    "        #Check for convergence\n",
    "        if (C==cold).all(): #Check if all items in a list are True\n",
    "            break\n",
    "        cold = np.copy(C)\n",
    "    return mu,J"
   ]
  },
  {
   "cell_type": "code",
   "execution_count": 42,
   "id": "fe78b0c7-368e-4525-9ffb-9d458e94d127",
   "metadata": {},
   "outputs": [],
   "source": [
    "Mu,J = k_means(X,4)"
   ]
  },
  {
   "cell_type": "code",
   "execution_count": 27,
   "id": "63793b2f-b215-4d7c-ad30-914abcc6fc0e",
   "metadata": {},
   "outputs": [
    {
     "data": {
      "image/png": "[encoded data removed]",
      "text/plain": [
       "<Figure size 576x360 with 1 Axes>"
      ]
     },
     "metadata": {
      "needs_background": "light"
     },
     "output_type": "display_data"
    }
   ],
   "source": [
    "# Get cost of cluster assignments for different values of k\n",
    "cost = []\n",
    "for k  in range(1,11):\n",
    "    Mu2,J2 = k_means(X,k)\n",
    "    cost.append(J2)\n",
    "plt.figure(figsize=(8,5))\n",
    "plt.plot(np.arange(1,11),cost,'r-')\n",
    "plt.title('Cost of cluster assignments for different values of k')\n",
    "plt.show()"
   ]
  },
  {
   "cell_type": "code",
   "execution_count": 39,
   "id": "847cf78f-6595-4a67-9661-e0bdcf7e2e51",
   "metadata": {},
   "outputs": [],
   "source": [
    "# predict function\n",
    "def kmeans_predict(X,mu):\n",
    "    m = X.shape[0]\n",
    "    k = mu.shape[0]\n",
    "    results = np.zeros(m)\n",
    "    for i in range(m):\n",
    "        x = X[i,:]\n",
    "        distance = np.zeros((k,1))\n",
    "        for j in range(k):\n",
    "            distance[j,:] = ((mu[j,:]-x)**2).sum()\n",
    "        c = np.argmin(distance,axis=0)\n",
    "        results[i] = c[0]\n",
    "    return results"
   ]
  },
  {
   "cell_type": "code",
   "execution_count": 41,
   "id": "7311c5eb-2c2c-43bd-9057-fa5551bbc288",
   "metadata": {
    "tags": []
   },
   "outputs": [
    {
     "data": {
      "image/png": "[encoded data removed]",
      "text/plain": [
       "<Figure size 576x360 with 1 Axes>"
      ]
     },
     "metadata": {
      "needs_background": "light"
     },
     "output_type": "display_data"
    }
   ],
   "source": [
    "# Plot results\n",
    "plt.figure(figsize=(8,5))\n",
    "\n",
    "#color points\n",
    "indices = kmeans_predict(X,Mu)\n",
    "plt.plot(X[indices==0,0],X[indices==0,1],'ro',label='Class 1')\n",
    "plt.plot(X[indices==1,0],X[indices==1,1],'yo',label='Class 2')\n",
    "plt.plot(X[indices==2,0],X[indices==2,1],'bo',label='Class 3')\n",
    "plt.plot(X[indices==3,0],X[indices==3,1],'mo',label='Class 4')\n",
    "\n",
    "#color regions\n",
    "grid_x,grid_y = np.mgrid[-5:30:100j,-5:30:100j]\n",
    "grid_xy = np.vstack([grid_x.ravel(),grid_y.ravel()]).T\n",
    "z = kmeans_predict(grid_xy,Mu).reshape((100,100))\n",
    "plt.contourf(grid_x,grid_y,z,alpha = 0.2)\n",
    "\n",
    "# Center points\n",
    "plt.plot(Mu[:,0],Mu[:,1],'gs')\n",
    "\n",
    "plt.title('K-Means Clustering')\n",
    "plt.legend()\n",
    "plt.show()"
   ]
  },
  {
   "cell_type": "markdown",
   "id": "8ffa9444-ebd3-4eb9-9bde-bffa614c5204",
   "metadata": {
    "tags": []
   },
   "source": [
    "**Reference:**\n",
    "\n",
    "[1]. https://www.dominodatalab.com/blog/getting-started-with-k-means-clustering-in-python\n",
    "\n",
    "[2].https://machinelearningcoban.com/2017/01/01/kmeans/"
   ]
  }
 ],
 "metadata": {
  "kernelspec": {
   "display_name": "Python 3 (ipykernel)",
   "language": "python",
   "name": "python3"
  },
  "language_info": {
   "codemirror_mode": {
    "name": "ipython",
    "version": 3
   },
   "file_extension": ".py",
   "mimetype": "text/x-python",
   "name": "python",
   "nbconvert_exporter": "python",
   "pygments_lexer": "ipython3",
   "version": "3.9.7"
  }
 },
 "nbformat": 4,
 "nbformat_minor": 5
}
