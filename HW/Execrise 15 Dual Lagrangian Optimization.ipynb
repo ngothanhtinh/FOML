{
 "cells": [
  {
   "cell_type": "markdown",
   "metadata": {},
   "source": [
    "### Exercise 15"
   ]
  },
  {
   "cell_type": "code",
   "execution_count": 1,
   "metadata": {},
   "outputs": [],
   "source": [
    "import numpy as np\n",
    "import matplotlib.pyplot as plt\n",
    "import cvxopt"
   ]
  },
  {
   "cell_type": "code",
   "execution_count": 2,
   "metadata": {},
   "outputs": [
    {
     "data": {
      "image/png": "[encoded data removed]",
      "text/plain": [
       "<Figure size 720x576 with 1 Axes>"
      ]
     },
     "metadata": {
      "needs_background": "light"
     },
     "output_type": "display_data"
    }
   ],
   "source": [
    "# Synthenic data\n",
    "mu1 = np.array([3,2])\n",
    "mu2 = np.array([16,12])\n",
    "sigma = np.array([[6,0],[0,6]])\n",
    "\n",
    "X1 = np.random.multivariate_normal(mu1,sigma,100)\n",
    "X2 = np.random.multivariate_normal(mu2,sigma,100)\n",
    "\n",
    "plt.figure(figsize=(10,8))\n",
    "plt.plot(X1[:,0],X1[:,1],'ro',label='Class 0')\n",
    "plt.plot(X2[:,0],X2[:,1],'bo',label='Class 1')\n",
    "plt.legend()\n",
    "plt.show()"
   ]
  },
  {
   "cell_type": "markdown",
   "metadata": {},
   "source": [
    "#### Dual Lagrangian Optimization for Maximum Margin\n",
    "\n",
    "- Traning data: $X \\in R^{n}, y = \\{-1,1\\}$\n",
    "$$\n",
    "2D: \\mathbf{X} = \\begin{vmatrix}x_{1}^{1} & x_{2}^{1} \\\\x_{1}^{2} & x_{2}^{2}\\\\: & :\\\\x_{1}^{m} & x_{2}^{m}\\end{vmatrix} , \\mathbf{y} = \\begin{vmatrix} -1\\\\-1\\\\:\\\\1\\end{vmatrix}\n",
    "$$"
   ]
  },
  {
   "cell_type": "code",
   "execution_count": 3,
   "metadata": {},
   "outputs": [],
   "source": [
    "# Training data\n",
    "X = np.concatenate((X1,X2),0)\n",
    "y = np.concatenate((-np.ones((100,1)),np.ones((100,1))),0)\n",
    "m = X.shape[0]\n",
    "n = np.unique(y).shape[0]"
   ]
  },
  {
   "cell_type": "markdown",
   "metadata": {},
   "source": [
    "**General Quadratic Programming**\n",
    "$$x^{*} = arg \\min_{x}\\frac{1}{2}x^{T}Qx+c^{T}x+r $$ $$\\text{Subject to : $Ax \\leq b\\\\ Ex = d$}$$\n",
    "- **cvxopt**.solvers.qp(P,q,G,h,A,b) find the **sol['x']**"
   ]
  },
  {
   "cell_type": "markdown",
   "metadata": {},
   "source": [
    "**Dual Lagrangian**\n",
    "\n",
    "Lagrangian Function:\n",
    "$$ \\mathcal L = \\sum_{i=1}^{m}\\alpha_{i} - \\frac{1}{2} \\sum_{i=1}^{m}\\sum_{j=1}^{m}\\alpha_{i}\\alpha_{j}y^{(i)}y^{(j)}<x^{(i)},x^{(j)}>$$\n",
    "\n",
    "**cvxopt** *requires that the problem be a minimization problem, so we need to multiplying Lagrangian function by -1*\n",
    "\n",
    "Optimization Problem:\n",
    "$$ \\mathcal W(\\alpha) = \\min_{\\alpha} \\frac{1}{2} \\sum_{i=1}^{m}\\sum_{j=1}^{m}\\alpha_{i}\\alpha_{j}y^{(i)}y^{(j)}<x^{(i)},x^{(j)}> - \\sum_{i=1}^{m}\\alpha_{i} $$\n",
    "$$\\text{Such that: $-\\alpha_{i} \\le 0, i \\in 1...m \\\\ \\sum_{i=1}^{m}\\alpha_{i}y^{(i)} = 0 $}$$\n",
    "\n",
    "$$Q=y^{(i)}y^{(j)}<x^{(i)},x^{(j)}> ; c = \\underbrace{\\begin{vmatrix} -1\\\\-1\\\\:\\\\-1\\end{vmatrix}}_{m \\times 1} ; A = \\underbrace{\\begin{vmatrix}-1 & 0 & .. & 0 \\\\0 & -1 & .. & 0\\\\: & :& :\\\\-1 & 0 & .. & -1\\end{vmatrix}}_{m \\times m} ; b =\\underbrace{\\begin{vmatrix}0\\\\0 \\\\\\\\0\\end{vmatrix}}_{m \\times 1} ; E = \\underbrace{\\begin{vmatrix}y_{1} & y_{2} & .. & y_{m}\\end{vmatrix}}_{1 \\times m} ; d = 0$$"
   ]
  },
  {
   "cell_type": "code",
   "execution_count": 4,
   "metadata": {},
   "outputs": [],
   "source": [
    "# Set Q,c,A,b,E,h\n",
    "Q = (y@y.T)*(X@X.T)\n",
    "c = - np.ones((m,1))\n",
    "A = -np.eye(m)\n",
    "b = np.zeros((m,1))\n",
    "E = y.T\n",
    "d = np.zeros((1,1))"
   ]
  },
  {
   "cell_type": "code",
   "execution_count": 5,
   "metadata": {},
   "outputs": [
    {
     "name": "stdout",
     "output_type": "stream",
     "text": [
      "     pcost       dcost       gap    pres   dres\n",
      " 0: -1.4782e+01 -2.5234e+01  6e+02  2e+01  2e+00\n",
      " 1: -1.0999e+01 -1.9833e+00  5e+01  2e+00  2e-01\n",
      " 2: -2.9379e-01 -6.2768e-02  1e+00  5e-02  3e-03\n",
      " 3: -1.8895e-02 -5.6660e-02  4e-02  7e-17  1e-14\n",
      " 4: -3.6188e-02 -4.3538e-02  7e-03  2e-17  3e-15\n",
      " 5: -4.2828e-02 -4.3208e-02  4e-04  8e-18  2e-15\n",
      " 6: -4.3166e-02 -4.3170e-02  4e-06  2e-17  2e-15\n",
      " 7: -4.3170e-02 -4.3170e-02  4e-08  9e-18  2e-15\n",
      "Optimal solution found.\n"
     ]
    }
   ],
   "source": [
    "# Define cvxopt_solvers_qp() function\n",
    "def cvxopt_solvers_qp(Q,c,A=None,b=None,E=None,d=None):\n",
    "    Q = .5*(Q+Q.T) # make Q is symmetric\n",
    "    args = [cvxopt.matrix(Q),cvxopt.matrix(c)]\n",
    "    if A is not None:\n",
    "        args.extend([cvxopt.matrix(A),cvxopt.matrix(b)])\n",
    "    if E is not None:\n",
    "        args.extend([cvxopt.matrix(E),cvxopt.matrix(d)])\n",
    "    sol = cvxopt.solvers.qp(*args)\n",
    "    return np.array(sol['x']).reshape(Q.shape[1])\n",
    "opt_params = cvxopt_solvers_qp(Q,c,A,b,E,d)"
   ]
  },
  {
   "cell_type": "code",
   "execution_count": 6,
   "metadata": {},
   "outputs": [
    {
     "data": {
      "text/plain": [
       "(200,)"
      ]
     },
     "execution_count": 6,
     "metadata": {},
     "output_type": "execute_result"
    }
   ],
   "source": [
    "opt_params.shape"
   ]
  },
  {
   "cell_type": "code",
   "execution_count": 7,
   "metadata": {},
   "outputs": [
    {
     "name": "stdout",
     "output_type": "stream",
     "text": [
      "Alphas that are not zero: [0.04316958 0.0159463  0.02722329]\n",
      "Corresponding labels:\n",
      " [[-1.]\n",
      " [ 1.]\n",
      " [ 1.]]\n"
     ]
    }
   ],
   "source": [
    "print('Alphas that are not zero:', opt_params[opt_params > 1e-5])\n",
    "print('Corresponding labels:\\n',  y[opt_params > 1e-5])"
   ]
  },
  {
   "cell_type": "markdown",
   "metadata": {},
   "source": [
    "**Find w,b**:\n",
    "\n",
    "$\\mathcal S \\small \\text{ is the set of indexes of the support vectors: } \\mathcal S = \\{ i \\in 1..m | \\alpha_{i} > 0 \\}; N_{\\mathcal S} = len(\\mathcal S)$\n",
    "\n",
    "$$b =\\frac{1}{N_{\\mathcal S}}\\sum_{i \\in \\mathcal S} \\left(y^{(i)} - \\sum_{j \\in \\mathcal S}\\alpha_{j}y^{(j)} \\left<x^{(i)},x^{(j)}\\right> \\right)$$\n",
    "\n",
    "$$w = \\sum_{i=1}^{m}\\alpha_{i}y^{(i)}x^{(i)}$$"
   ]
  },
  {
   "cell_type": "code",
   "execution_count": 8,
   "metadata": {},
   "outputs": [
    {
     "name": "stdout",
     "output_type": "stream",
     "text": [
      "Optimal Solution: -3.3915268694065976 [[0.22460549 0.18945057]]\n"
     ]
    }
   ],
   "source": [
    "# Define the function to find b,w\n",
    "def find_b_w(X,y,alpha):\n",
    "    S = np.where(alpha > 1e-5)[0] # numpy array\n",
    "    X_s = X[S,:]\n",
    "    y_s = y[S]\n",
    "    alpha_s = alpha[S].reshape(-1,1)\n",
    "    b = (y_s -((alpha_s*y_s).T*(X_s@X_s.T)).sum(axis=1, keepdims=True)).mean()\n",
    "    w = ((alpha_s*y_s).T@X_s)\n",
    "    print('Optimal Solution:',b,w)\n",
    "    return b, w\n",
    "b, w = find_b_w(X,y,opt_params)"
   ]
  },
  {
   "cell_type": "markdown",
   "metadata": {},
   "source": [
    "**Make the prediction**\n",
    "$$\\mathcal h_{w,b}(x) = \n",
    "\\begin{cases}\n",
    "+ 1 \\quad \\text{$w^{T}x + b \\ge 0$} \\\\ \n",
    "-1 \\quad \\text{otherwise}\n",
    "\\end{cases} \\\\\n",
    "\\text{Note that: $ w^{T}x + b = \\sum_{i=1}^{m}\\alpha_{i}y^{(i)}\\left< x^{i},x \\right> \\\\ \\sum_{i=1}^{m}\\alpha_{i}y^{(i)}\\left< x^{(i)},x \\right> = \\left(\\sum_{i}^{m}\\alpha_{i}y^{(i)}x^{(i)} \\right)^{T}x$}\n",
    "$$"
   ]
  },
  {
   "cell_type": "code",
   "execution_count": 9,
   "metadata": {},
   "outputs": [
    {
     "data": {
      "text/plain": [
       "((1, 2), (200, 2), 0.22460548619958165)"
      ]
     },
     "execution_count": 9,
     "metadata": {},
     "output_type": "execute_result"
    }
   ],
   "source": [
    "w.shape,X.shape,w[0,0]"
   ]
  },
  {
   "cell_type": "code",
   "execution_count": 10,
   "metadata": {},
   "outputs": [
    {
     "name": "stdout",
     "output_type": "stream",
     "text": [
      "Accuracy: 100.0\n"
     ]
    }
   ],
   "source": [
    "# Accuracy\n",
    "y_pred = np.where(w@X.T+b >=0,+1,1)\n",
    "accuracy = (y_pred == y).sum()/y.shape[0]\n",
    "print('Accuracy:', accuracy)"
   ]
  },
  {
   "cell_type": "markdown",
   "metadata": {},
   "source": [
    "**Plot result**:\n",
    "- Center line: $W^{T}\\mathbf{x}+b = 0$\n",
    "- Margin : $W^{T}\\mathbf{x}+b = 1$\n",
    "- Margin : $W^{T}\\mathbf{x}+b = -1$\n",
    "\n",
    "**n = 2**:\n",
    "\n",
    "- Center line : $w_{1}x_{1}+w_{2}x_{2} + b = 0 \\rightarrow x_{2} = \\frac{-w_{1}x_{1}-b}{w_{2}}$\n",
    "- Margin: $w_{1}x_{1}+w_{2}x_{2} + b = 1 \\rightarrow x_{2} = \\frac{-w_{1}x_{1}-b+1}{w_{2}}$\n",
    "- Margin : $w_{1}x_{1}+w_{2}x_{2} + b = -1 \\rightarrow x_{2} = \\frac{-w_{1}x_{1}-b-1}{w_{2}}$"
   ]
  },
  {
   "cell_type": "code",
   "execution_count": 16,
   "metadata": {},
   "outputs": [
    {
     "data": {
      "image/png": "[encoded data removed]",
      "text/plain": [
       "<Figure size 720x576 with 1 Axes>"
      ]
     },
     "metadata": {
      "needs_background": "light"
     },
     "output_type": "display_data"
    }
   ],
   "source": [
    "plt.figure(figsize=(10,8))\n",
    "plt.plot(X1[:,0],X1[:,1],'ro',label='Class 0')\n",
    "plt.plot(X2[:,0],X2[:,1],'bo',label='Class 1')\n",
    "\n",
    "# Center line\n",
    "x11 = 5\n",
    "x12 = 15\n",
    "x21 = (-w[0,0]*x11-b)/w[0,1]\n",
    "x22 = (-w[0,0]*x12-b)/w[0,1]\n",
    "plt.plot((x11,x12),(x21,x22),'g-',label='Dual Lagrangian Optimization')\n",
    "\n",
    "# Red margin\n",
    "x11 = 5\n",
    "x12 = 15\n",
    "x21 = (-w[0,0]*x11-b-1)/w[0,1]\n",
    "x22 = (-w[0,0]*x12-b-1)/w[0,1]\n",
    "plt.plot((x11,x12),(x21,x22),'k-')\n",
    "\n",
    "# Blue margin\n",
    "x11 = 5\n",
    "x12 = 19\n",
    "x21 = (-w[0,0]*x11-b+1)/w[0,1]\n",
    "x22 = (-w[0,0]*x12-b+1)/w[0,1]\n",
    "plt.plot((x11,x12),(x21,x22),'k-')\n",
    "\n",
    "plt.legend()\n",
    "plt.show()"
   ]
  },
  {
   "cell_type": "code",
   "execution_count": null,
   "metadata": {},
   "outputs": [],
   "source": []
  }
 ],
 "metadata": {
  "kernelspec": {
   "display_name": "Python 3 (ipykernel)",
   "language": "python",
   "name": "python3"
  },
  "language_info": {
   "codemirror_mode": {
    "name": "ipython",
    "version": 3
   },
   "file_extension": ".py",
   "mimetype": "text/x-python",
   "name": "python",
   "nbconvert_exporter": "python",
   "pygments_lexer": "ipython3",
   "version": "3.9.7"
  }
 },
 "nbformat": 4,
 "nbformat_minor": 4
}
