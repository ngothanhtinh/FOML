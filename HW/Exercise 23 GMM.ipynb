{
 "cells": [
  {
   "cell_type": "markdown",
   "id": "ff7a0192-a656-4e9e-8099-187c94cf6b3a",
   "metadata": {
    "tags": []
   },
   "source": [
    "### Gaussian mixtures models (GMM)"
   ]
  },
  {
   "cell_type": "code",
   "execution_count": 48,
   "id": "46967fcb-ec0b-4bff-8dd7-1f15404a9c71",
   "metadata": {},
   "outputs": [],
   "source": [
    "import numpy as np\n",
    "import matplotlib\n",
    "import matplotlib.pyplot as plt\n",
    "import scipy\n",
    "from scipy import stats"
   ]
  },
  {
   "cell_type": "markdown",
   "id": "73f4e206-a921-4a55-b130-7f19a6677358",
   "metadata": {},
   "source": [
    "The GMM is similar to k-means except\n",
    "- It performs a \"soft\" assignment of samples to clusters\n",
    "- It models clusters of different sizes\n",
    "- It models clusters of different shapes albeit Gaussian shaped"
   ]
  },
  {
   "cell_type": "code",
   "execution_count": 14,
   "id": "a94128b6-35bc-4983-9229-8dd50a8cd76c",
   "metadata": {},
   "outputs": [
    {
     "data": {
      "text/plain": [
       "[<matplotlib.lines.Line2D at 0x7f6013469e20>]"
      ]
     },
     "execution_count": 14,
     "metadata": {},
     "output_type": "execute_result"
    },
    {
     "data": {
      "image/png": "[encoded data removed]",
      "text/plain": [
       "<Figure size 432x288 with 1 Axes>"
      ]
     },
     "metadata": {
      "needs_background": "light"
     },
     "output_type": "display_data"
    }
   ],
   "source": [
    "# Synthetic data\n",
    "mu_act = np.array([10,10])\n",
    "sigma_1 = np.array([[10,9.8],[9.8,10]])\n",
    "sigma_2 = np.array([[10,-9.8],[-9.8,10]])\n",
    "\n",
    "X1 = np.random.multivariate_normal(mu_act,sigma_1,100)\n",
    "X2 = np.random.multivariate_normal(mu_act,sigma_2,100)\n",
    "\n",
    "X = np.concatenate((X1,X2),0)\n",
    "\n",
    "plt.plot(X[:,0],X[:,1],'ro')"
   ]
  },
  {
   "cell_type": "markdown",
   "id": "59ca24c8-45b1-4d8a-a26a-df7b3c1d764d",
   "metadata": {},
   "source": [
    "**GMM Algorithm**"
   ]
  },
  {
   "cell_type": "markdown",
   "id": "94a02912-87a7-4691-9d53-12060bc92d96",
   "metadata": {},
   "source": [
    "- Randomly/arbitrarily initialize $\\phi_1, \\ldots, \\mu_1, \\ldots, \\Sigma_1, \\ldots$\n",
    "- Repeat until convergence:\n",
    "  - E-step:\n",
    "    - For $i \\in 1..m$, $j \\in 1..k$,\n",
    "      $$w^{(i)}_j \\leftarrow p(z^{(i)} \\mid \\mathbf{x}^{(i)} ; \\phi_1, \\ldots, \\mu_1, \\ldots, \\Sigma_1, \\ldots)$$\n",
    "  - M-step:\n",
    "    - Update $\\phi_1, \\ldots$: $$\\phi_j \\leftarrow \\frac{1}{m} \\sum_{i=1}^m w_j^{(i)}$$\n",
    "    - Update $\\mu_1, \\ldots$: $$\\mu_j \\leftarrow \\frac{\\sum_i w_j^{(i)} \\mathbf{x}^{(i)}}{\\sum_i w_j^{(i)}}$$\n",
    "    - Update $\\Sigma_1, \\ldots$: $$\\Sigma_j \\leftarrow \\frac{\\sum_i w_j^{(i)} (\\mathbf{x}^{(i)}-\\mu_j)(\\mathbf{x}^{(i)}-\\mu_j)^T}{\\sum_i w_j^{(i)}}$$"
   ]
  },
  {
   "cell_type": "code",
   "execution_count": 118,
   "id": "64f7852b-6b8e-4530-a867-1c521bdfe987",
   "metadata": {},
   "outputs": [],
   "source": [
    "k1 = 2\n",
    "m1 = X.shape[0]\n",
    "indices1 = np.random.choice(np.arange(m1),k1,replace=False)\n",
    "mu1 = X[indices1,:]\n",
    "data_cov1 = X.T@X/m1\n",
    "sigma1 = []\n",
    "for j in range(k1):\n",
    "    sigma1.append(data_cov1.copy())\n",
    "phi1 = np.ones(k1)/k1"
   ]
  },
  {
   "cell_type": "code",
   "execution_count": 64,
   "id": "595d4afa-1a66-43e8-8e96-5374aa3a22ef",
   "metadata": {},
   "outputs": [
    {
     "data": {
      "text/plain": [
       "(2, 2)"
      ]
     },
     "execution_count": 64,
     "metadata": {},
     "output_type": "execute_result"
    }
   ],
   "source": [
    "mu1.shape"
   ]
  },
  {
   "cell_type": "code",
   "execution_count": 65,
   "id": "bb5c895d-dc83-4b8a-b881-0a7106ad5a0a",
   "metadata": {},
   "outputs": [
    {
     "data": {
      "text/plain": [
       "((2, 2),\n",
       " array([[106.05570885,  98.52686477],\n",
       "        [ 98.52686477, 111.12516754]]))"
      ]
     },
     "execution_count": 65,
     "metadata": {},
     "output_type": "execute_result"
    }
   ],
   "source": [
    "data_cov1.shape,data_cov1"
   ]
  },
  {
   "cell_type": "code",
   "execution_count": 66,
   "id": "900c937f-8d7c-4edc-ad88-4ac5d045972b",
   "metadata": {},
   "outputs": [
    {
     "data": {
      "text/plain": [
       "(list,\n",
       " [array([[106.05570885,  98.52686477],\n",
       "         [ 98.52686477, 111.12516754]]),\n",
       "  array([[106.05570885,  98.52686477],\n",
       "         [ 98.52686477, 111.12516754]])])"
      ]
     },
     "execution_count": 66,
     "metadata": {},
     "output_type": "execute_result"
    }
   ],
   "source": [
    "type(sigma1),sigma1"
   ]
  },
  {
   "cell_type": "code",
   "execution_count": 67,
   "id": "d4f1f2c0-2820-4aac-9dca-3c569226feaa",
   "metadata": {
    "tags": []
   },
   "outputs": [
    {
     "data": {
      "text/plain": [
       "((2,), array([0.5, 0.5]))"
      ]
     },
     "execution_count": 67,
     "metadata": {},
     "output_type": "execute_result"
    }
   ],
   "source": [
    "phi1.shape,phi1"
   ]
  },
  {
   "cell_type": "code",
   "execution_count": 68,
   "id": "b04b054d-94d2-4715-b7d4-05b6436b985b",
   "metadata": {},
   "outputs": [
    {
     "data": {
      "text/plain": [
       "(2, 2)"
      ]
     },
     "execution_count": 68,
     "metadata": {},
     "output_type": "execute_result"
    }
   ],
   "source": [
    "j = 1\n",
    "sigma1[j].shape"
   ]
  },
  {
   "cell_type": "code",
   "execution_count": 119,
   "id": "cf09a86b-b2cd-4721-bfdb-ce902942ef8c",
   "metadata": {},
   "outputs": [],
   "source": [
    "wold = np.zeros((k1,m1))\n",
    "steps = []\n",
    "costs = []\n",
    "step = 0 \n",
    "while True:\n",
    "    step +=1\n",
    "    steps.append(step)\n",
    "    \n",
    "    # E-step: Calculate weight for each point in each cluster p(z^i = j | x^i)\n",
    "    w1 = np.zeros((k1,m1))\n",
    "    for j in range(k1):\n",
    "        w1[j,:] = scipy.stats.multivariate_normal.pdf(X,mean=mu1[j,:],cov=sigma1[j])*phi1[j] #Probability density function\n",
    "    cost = -np.log(w1.sum(axis=0)).mean()\n",
    "    costs.append(cost)\n",
    "    w1 = w1/w1.sum(axis=0)\n",
    "    \n",
    "    # M-step: Update parameters\n",
    "    phi1= w.mean(axis=1)\n",
    "    for j in range(k1):\n",
    "        mu1[j,:] = (w1[j,:].reshape(m1,1)*X).sum(axis=0)/w1[j,:].sum()\n",
    "    \n",
    "    for j in range(k1):\n",
    "        sigma1[j] = ((w1[j:j+1,:].T*(X-mu1[j,:])).T@(X-mu1[j,:]))/w1[j,:].sum()\n",
    "        \n",
    "    # Check for convergence\n",
    "    if (w1 - wold <= 1e-6).all():\n",
    "        break\n",
    "    wold = w1.copy()"
   ]
  },
  {
   "cell_type": "code",
   "execution_count": 131,
   "id": "04e34aed-6922-4a87-89ec-8fe2f3f7778f",
   "metadata": {},
   "outputs": [
    {
     "data": {
      "text/plain": [
       "list"
      ]
     },
     "execution_count": 131,
     "metadata": {},
     "output_type": "execute_result"
    }
   ],
   "source": [
    "type(sigma1)"
   ]
  },
  {
   "cell_type": "code",
   "execution_count": 120,
   "id": "45f6a339-49da-4d78-bee7-3f5bcf1bda91",
   "metadata": {},
   "outputs": [
    {
     "name": "stdout",
     "output_type": "stream",
     "text": [
      "Cost: 4.1663983849116395\n"
     ]
    },
    {
     "data": {
      "image/png": "[encoded data removed]",
      "text/plain": [
       "<Figure size 432x288 with 1 Axes>"
      ]
     },
     "metadata": {
      "needs_background": "light"
     },
     "output_type": "display_data"
    }
   ],
   "source": [
    "print('Cost:',costs[-1])\n",
    "\n",
    "plt.plot(steps, costs,'r-')\n",
    "plt.title('Cost per step')\n",
    "plt.show()"
   ]
  },
  {
   "cell_type": "markdown",
   "id": "b6f94322-f4f6-4446-9ec7-49308566a10d",
   "metadata": {},
   "source": [
    "**GMM Function**"
   ]
  },
  {
   "cell_type": "code",
   "execution_count": 189,
   "id": "887dd179-1254-4c68-8d97-9776eea70c28",
   "metadata": {},
   "outputs": [],
   "source": [
    "def gmm(X,k):\n",
    "    # Initialize parameters\n",
    "    m = X.shape[0]\n",
    "    indices = np.random.choice(np.arange(m),k,replace=False)\n",
    "    mu = X[indices,:]\n",
    "    data_cov = X.T@X/m\n",
    "    sigma = []\n",
    "    for i in range(k):\n",
    "        sigma.append(data_cov.copy())\n",
    "    phi = np.ones(k)/k\n",
    "    \n",
    "    # Repeat until convergence\n",
    "    wold = np.zeros((k,m))\n",
    "    while True:\n",
    "        w = np.zeros((k,m))\n",
    "        # E-step\n",
    "        for j in range(k):\n",
    "            w[j,:]=scipy.stats.multivariate_normal.pdf(X[:,:],mean=mu[j,:],cov=sigma[j])*phi[j]\n",
    "        w = w/w.sum(axis=0)\n",
    "        cost = -np.log(w.sum(axis=0)).mean()\n",
    "        \n",
    "        # M-step: Update the parameters\n",
    "        phi = w.mean(axis=1)\n",
    "        \n",
    "        for j in range(k):\n",
    "            mu[j,:] = (w[j,:].reshape(m,1)*X).sum(axis=0)/w[j,:].sum()\n",
    "            \n",
    "        for j in range(k):\n",
    "            sigma[j] = (w[j:j+1,:].T*(X - mu[j,:])).T@(X - mu[j,:])/w[j,:].sum()\n",
    "        \n",
    "        # Check for convergence\n",
    "        if (w - wold <= 1e-6).all():\n",
    "            break\n",
    "        \n",
    "        wold = w.copy()\n",
    "    return phi, mu, sigma"
   ]
  },
  {
   "cell_type": "code",
   "execution_count": 190,
   "id": "4be2bf08-f9cf-416b-a9ba-a2dc584ae366",
   "metadata": {},
   "outputs": [],
   "source": [
    "phi, mu, sigma =  gmm(X,2)"
   ]
  },
  {
   "cell_type": "code",
   "execution_count": 200,
   "id": "c0cef756-a631-4a80-bd1d-910ee0691063",
   "metadata": {},
   "outputs": [],
   "source": [
    "# predict function\n",
    "def gmm_predict(X,phi,mu,sigma):\n",
    "    m = X.shape[0]\n",
    "    k = mu.shape[0]\n",
    "    w = np.zeros((k,m))\n",
    "    for i in range(m):\n",
    "        for j in range(k):\n",
    "            w[j,i]=scipy.stats.multivariate_normal.pdf(X[i,:],mean=mu[j,:],cov=sigma[j])*phi[j]\n",
    "        results = np.argmax(w,axis=0)\n",
    "    return results"
   ]
  },
  {
   "cell_type": "code",
   "execution_count": 199,
   "id": "6790fa3d-6f8c-404c-9c99-7924f4cf0039",
   "metadata": {},
   "outputs": [
    {
     "data": {
      "image/png": "[encoded data removed]",
      "text/plain": [
       "<Figure size 720x576 with 1 Axes>"
      ]
     },
     "metadata": {
      "needs_background": "light"
     },
     "output_type": "display_data"
    }
   ],
   "source": [
    "# Plot results\n",
    "plt.figure(figsize = (10,8))\n",
    "\n",
    "# Color points\n",
    "indices = gmm_predict(X,phi,mu,sigma)\n",
    "plt.plot(X[indices==0,0],X[indices==0,1],'ro',label='Class 1')\n",
    "plt.plot(X[indices==1,0],X[indices==1,1],'go',label='Class 2')\n",
    "\n",
    "# Color regions\n",
    "grid_x,grid_y = np.mgrid[-1:20:100j,-1:20:100j]\n",
    "grid_xy = np.vstack([grid_x.ravel(),grid_y.ravel()]).T\n",
    "z = gmm_predict(grid_xy,phi,mu,sigma).reshape((100,100))\n",
    "plt.contourf(grid_x,grid_y,z,alpha = 0.2)\n",
    "\n",
    "plt.title('EM for Gaussian mixture models')\n",
    "plt.legend()\n",
    "plt.show()"
   ]
  }
 ],
 "metadata": {
  "kernelspec": {
   "display_name": "Python 3 (ipykernel)",
   "language": "python",
   "name": "python3"
  },
  "language_info": {
   "codemirror_mode": {
    "name": "ipython",
    "version": 3
   },
   "file_extension": ".py",
   "mimetype": "text/x-python",
   "name": "python",
   "nbconvert_exporter": "python",
   "pygments_lexer": "ipython3",
   "version": "3.9.7"
  }
 },
 "nbformat": 4,
 "nbformat_minor": 5
}
