{
 "cells": [
  {
   "cell_type": "code",
   "execution_count": 3,
   "id": "a0cada00-6e9e-4554-98e3-f1e92b64b5c7",
   "metadata": {},
   "outputs": [],
   "source": [
    "import numpy as np\n",
    "import matplotlib.pyplot as plt"
   ]
  },
  {
   "cell_type": "code",
   "execution_count": 6,
   "id": "74b190b1-64f2-4f41-a779-cdae1f0c1836",
   "metadata": {},
   "outputs": [
    {
     "data": {
      "image/png": "[encoded data removed]",
      "text/plain": [
       "<Figure size 432x288 with 1 Axes>"
      ]
     },
     "metadata": {
      "needs_background": "light"
     },
     "output_type": "display_data"
    }
   ],
   "source": [
    "mu = np.array([10,10])\n",
    "cov = np.array([[100,20],[20,25]])\n",
    "\n",
    "X = np.random.multivariate_normal(mu,cov,100)\n",
    "plt.plot(X[:,0],X[:,1],'ro')\n",
    "plt.axis('equal')\n",
    "plt.show()"
   ]
  },
  {
   "cell_type": "code",
   "execution_count": 7,
   "id": "a18ca03c-ff9e-452d-a0ec-55dbbd26cb74",
   "metadata": {},
   "outputs": [],
   "source": [
    "m = X.shape[0]\n",
    "sample_mean =  X.mean(axis=0,keepdims = True)\n",
    "sample_covariance = 1/m*(X-sample_mean).T@(X-sample_mean)"
   ]
  },
  {
   "cell_type": "code",
   "execution_count": 9,
   "id": "79588671-9567-4bc7-91e9-111a6229360b",
   "metadata": {},
   "outputs": [
    {
     "name": "stdout",
     "output_type": "stream",
     "text": [
      "[93.63807815 19.95491098]\n",
      "[[ 0.96843826 -0.24925357]\n",
      " [ 0.24925357  0.96843826]]\n"
     ]
    }
   ],
   "source": [
    "w,v = np.linalg.eig(sample_covariance)\n",
    "print(w)\n",
    "print(v)"
   ]
  },
  {
   "cell_type": "code",
   "execution_count": 10,
   "id": "78837d79-9a47-4923-9427-9547804c7e7e",
   "metadata": {},
   "outputs": [
    {
     "data": {
      "text/plain": [
       "2.7755575615628914e-17"
      ]
     },
     "execution_count": 10,
     "metadata": {},
     "output_type": "execute_result"
    }
   ],
   "source": [
    "v[:,0]@v[:,1]"
   ]
  },
  {
   "cell_type": "code",
   "execution_count": null,
   "id": "6361f1c6-92e5-4d7d-83b0-b11b2d5f9d4e",
   "metadata": {},
   "outputs": [],
   "source": [
    "w1 = v[:,0]\n",
    "w2 = v[:,1]"
   ]
  },
  {
   "cell_type": "code",
   "execution_count": null,
   "id": "a26a3b04-521b-460b-946e-9591c9c884b8",
   "metadata": {},
   "outputs": [],
   "source": [
    "projection = w1.reshape(1,2)@(X - sample_mean)"
   ]
  },
  {
   "cell_type": "code",
   "execution_count": null,
   "id": "547c0e6d-1a91-470e-aefa-3b149ca7e46b",
   "metadata": {},
   "outputs": [],
   "source": []
  },
  {
   "cell_type": "code",
   "execution_count": null,
   "id": "a4e38014-8009-4c5a-a68b-5356c1131312",
   "metadata": {},
   "outputs": [],
   "source": []
  }
 ],
 "metadata": {
  "kernelspec": {
   "display_name": "Python 3 (ipykernel)",
   "language": "python",
   "name": "python3"
  },
  "language_info": {
   "codemirror_mode": {
    "name": "ipython",
    "version": 3
   },
   "file_extension": ".py",
   "mimetype": "text/x-python",
   "name": "python",
   "nbconvert_exporter": "python",
   "pygments_lexer": "ipython3",
   "version": "3.9.7"
  }
 },
 "nbformat": 4,
 "nbformat_minor": 5
}
