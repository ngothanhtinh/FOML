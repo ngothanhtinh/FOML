{
 "cells": [
  {
   "cell_type": "markdown",
   "id": "b5620325",
   "metadata": {},
   "source": [
    "### Exercise 17"
   ]
  },
  {
   "cell_type": "code",
   "execution_count": 1,
   "id": "679e3a8b",
   "metadata": {},
   "outputs": [],
   "source": [
    "import numpy as np\n",
    "import matplotlib.pyplot as plt\n",
    "import cvxopt"
   ]
  },
  {
   "cell_type": "code",
   "execution_count": 2,
   "id": "7d4d79a6",
   "metadata": {},
   "outputs": [
    {
     "data": {
      "image/png": "[encoded data removed]",
      "text/plain": [
       "<Figure size 576x432 with 1 Axes>"
      ]
     },
     "metadata": {
      "needs_background": "light"
     },
     "output_type": "display_data"
    }
   ],
   "source": [
    "# Synthetic data\n",
    "m_= 200\n",
    "mu = np.array([5,8])\n",
    "sigma = np.array([[10,0],[0,10]])\n",
    "X1 = np.random.multivariate_normal(mu,sigma,m_)\n",
    "\n",
    "phi = np.random.uniform(0,2*np.pi,m_).reshape(-1,1)\n",
    "r = 6 + np.random.uniform(0,8,m_).reshape(-1,1)\n",
    "X2 = np.concatenate((r*np.cos(phi)+mu[0],r*np.sin(phi)+mu[1]),1)\n",
    "\n",
    "plt.figure(figsize=(8,6))\n",
    "plt.plot(X1[:,0],X1[:,1],'ro',label = 'Class 0')\n",
    "plt.plot(X2[:,0],X2[:,1],'bo',label = 'Class 1')\n",
    "plt.legend()\n",
    "plt.show()"
   ]
  },
  {
   "cell_type": "markdown",
   "id": "100c586d",
   "metadata": {},
   "source": [
    "#### SVM prediction using Kernel with Slack variables\n",
    "- Traing data:$X \\in R^{n}, y = \\{-1,1\\}$\n",
    "$$\n",
    "2D: \\mathbf{X} = \\begin{vmatrix}x_{1}^{1} & x_{2}^{1} \\\\x_{1}^{2} & x_{2}^{2}\\\\: & :\\\\x_{1}^{m} & x_{2}^{m}\\end{vmatrix} , \\mathbf{y} = \\begin{vmatrix} -1\\\\-1\\\\:\\\\1\\end{vmatrix}\n",
    "$$"
   ]
  },
  {
   "cell_type": "code",
   "execution_count": 3,
   "id": "5fce7d8a",
   "metadata": {},
   "outputs": [],
   "source": [
    "# Training data\n",
    "X = np.concatenate((X1,X2),0)\n",
    "y = np.concatenate((-np.ones((m_,1)),np.ones((m_,1))),0)\n",
    "m = X.shape[0]\n",
    "n = np.unique(y).shape[0]"
   ]
  },
  {
   "cell_type": "markdown",
   "id": "48976e0a",
   "metadata": {},
   "source": [
    "**Kernel:**\n",
    "\n",
    "$$\\small \\text{Linear Kernel: $\\mathcal k(x,x^{'}) = x_{1}x_{1}^{'}+x_{2}x_{2}^{'}+...+x_{n}x_{n}^{'}$} $$\n",
    "$$\\small \\text{Polynomial Kernel: $\\mathcal k(x,x^{'}) = x_{1}^{2}x_{1}^{'2}+x_{2}^{2}x_{2}^{'2}+...+x_{n}^{2}x_{n}^{'2}$} $$\n",
    "$$\\small \\text{RBF Kernel (Radial Basis Function): $\\mathcal k(x,x^{'}) = \\mathrm{e}^{\\frac{-||x-x^{'}||^{2}}{2\\sigma^{2}}} \\\\ \n",
    "K = \\underbrace{\\begin{vmatrix}K(x^{1},x^{1}) & K(x^{1},x^{2}) & .. & K(x^{1},x^{m}) \\\\K(x^{2},x^{1}) & K(x^{2},x^{2}) & .. & K(x^{2},x^{m})\\\\: & :& :\\\\K(x^{m},x^{1}) & K(x^{m},x^{2}) & .. & K(x^{m},x^{m})\\end{vmatrix}}_{m \\times m} $}$$"
   ]
  },
  {
   "cell_type": "code",
   "execution_count": 17,
   "id": "531acf66",
   "metadata": {},
   "outputs": [],
   "source": [
    "# RBF kernel\n",
    "def rbf_kernel(X,rbf_sigma):\n",
    "    m = X.shape[0]\n",
    "    K = np.zeros((m,m))\n",
    "    for i in range (m):\n",
    "        for j in range (m):\n",
    "            K[i,j] = (X[i,:]-X[j,:])@(X[i,:]-X[j,:])\n",
    "    K = np.exp(-K/(2*rbf_sigma**2))\n",
    "    return K"
   ]
  },
  {
   "cell_type": "markdown",
   "id": "06efbf23",
   "metadata": {},
   "source": [
    "**General Quadratic Programming**\n",
    "$$x^{*} = arg \\min_{x}\\frac{1}{2}x^{T}Qx+c^{T}x+r $$ $$\\text{Subject to : $Ax \\leq b\\\\ Ex = d$}$$\n",
    "- **cvxopt**.solvers.qp(P,q,G,h,A,b) find the **sol['x']**"
   ]
  },
  {
   "cell_type": "markdown",
   "id": "b3736337",
   "metadata": {},
   "source": [
    "**Dual Lagrangian Optimization with Slack variable:**\n",
    "$$ \\mathcal W(\\alpha) = \\min_{\\alpha} \\frac{1}{2} \\sum_{i=1}^{m}\\sum_{j=1}^{m}\\alpha_{i}\\alpha_{j}y^{(i)}y^{(j)}\\mathcal k(x,x^{'}) - \\sum_{i=1}^{m}\\alpha_{i} $$\n",
    "$$\\text{Such that: $0 \\le \\alpha_{i} \\le C, i \\in 1...m \\\\ \\sum_{i=1}^{m}\\alpha_{i}y^{(i)} = 0 $}$$\n",
    "\n",
    "$$\n",
    "Q=y^{(i)}y^{(j)}\\mathcal k(x,x^{'}) ; \n",
    "c = \\underbrace{\\begin{vmatrix} -1\\\\-1\\\\:\\\\-1\\end{vmatrix}}_{m \\times 1} ; \n",
    "A = \\underbrace{\\begin{vmatrix}-1 & 0 & .. & 0 \\\\0 & -1 & .. & 0\\\\: & :& :\\\\0 & 0 & .. & -1\\\\1 & 0 & .. & 0 \\\\0 & 1 & .. & 0\\\\: & :& :\\\\0 & 0 & .. & 1\\end{vmatrix}}_{2m \\times m} ; \n",
    "b =\\underbrace{\\begin{vmatrix}0\\\\0 \\\\:\\\\0\\\\C\\\\C \\\\:\\\\C\\end{vmatrix}}_{2m \\times 1} ; \n",
    "E = \\underbrace{\\begin{vmatrix}y_{1} & y_{2} & .. & y_{m}\\end{vmatrix}}_{1 \\times m} ; d = 0\n",
    "$$"
   ]
  },
  {
   "cell_type": "code",
   "execution_count": 22,
   "id": "a6f36abb",
   "metadata": {},
   "outputs": [],
   "source": [
    "# Set Q,c,A,b,E,d\n",
    "rbf_sigma = 1\n",
    "C = 2\n",
    "Q = y@y.T*rbf_kernel(X,rbf_sigma)\n",
    "c = -np.ones((m,1))\n",
    "A = np.concatenate((-np.eye((m)),np.eye((m))),0)\n",
    "b = np.concatenate((np.zeros((m,1)),np.ones((m,1))*C),0)\n",
    "E = y.T\n",
    "d = np.zeros((1,1))"
   ]
  },
  {
   "cell_type": "code",
   "execution_count": 8,
   "id": "096ff4ee",
   "metadata": {},
   "outputs": [
    {
     "name": "stdout",
     "output_type": "stream",
     "text": [
      "     pcost       dcost       gap    pres   dres\n",
      " 0: -8.1769e+01 -1.5620e+03  4e+03  9e-01  1e-15\n",
      " 1: -7.0809e+01 -5.3140e+02  5e+02  8e-15  6e-16\n",
      " 2: -1.1889e+02 -2.0500e+02  9e+01  1e-14  7e-16\n",
      " 3: -1.3102e+02 -1.4827e+02  2e+01  4e-15  5e-16\n",
      " 4: -1.3334e+02 -1.3656e+02  3e+00  1e-16  4e-16\n",
      " 5: -1.3389e+02 -1.3459e+02  7e-01  6e-15  4e-16\n",
      " 6: -1.3402e+02 -1.3422e+02  2e-01  1e-14  4e-16\n",
      " 7: -1.3405e+02 -1.3410e+02  5e-02  3e-14  4e-16\n",
      " 8: -1.3405e+02 -1.3408e+02  2e-02  1e-14  4e-16\n",
      " 9: -1.3406e+02 -1.3406e+02  4e-03  2e-14  4e-16\n",
      "10: -1.3406e+02 -1.3406e+02  4e-04  1e-14  4e-16\n",
      "11: -1.3406e+02 -1.3406e+02  2e-05  4e-14  4e-16\n",
      "Optimal solution found.\n"
     ]
    }
   ],
   "source": [
    "# cvxopt_solvers_qp function\n",
    "def cvxopt_solvers_qp(Q,c,A=None,b=None,E=None,d=None):\n",
    "    Q = .5*(Q+Q.T) # make Q is symmetric\n",
    "    args = [cvxopt.matrix(Q),cvxopt.matrix(c)]\n",
    "    if A is not None:\n",
    "        args.extend([cvxopt.matrix(A),cvxopt.matrix(b)])\n",
    "    if E is not None:\n",
    "        args.extend([cvxopt.matrix(E),cvxopt.matrix(d)])\n",
    "    sol = cvxopt.solvers.qp(*args)\n",
    "    return np.array(sol['x']).reshape((Q.shape[1]))\n",
    "opt_params = cvxopt_solvers_qp(Q,c,A,b,E,d)"
   ]
  },
  {
   "cell_type": "markdown",
   "id": "f0b0a2ba",
   "metadata": {},
   "source": [
    "**Find b**:\n",
    "\n",
    "$\\mathcal S \\small \\text{ is the set of indexes of the support vectors: } \\mathcal S = \\{ i \\in 1..m | \\alpha_{i} > 0 \\}; N_{\\mathcal S} = len(\\mathcal S)$\n",
    "\n",
    "$$b =\\frac{1}{N_{\\mathcal S}}\\sum_{i \\in \\mathcal S} \\left(y^{(i)} - \\sum_{j \\in \\mathcal S}\\alpha_{j}y^{(j)} \\mathcal k(x,x^{'}) \\right)$$"
   ]
  },
  {
   "cell_type": "code",
   "execution_count": null,
   "id": "ad2af211",
   "metadata": {},
   "outputs": [],
   "source": [
    "# Finb b from otp_params function\n",
    "def find_b(X,y,alpha,rbf_sigma):\n",
    "    S = np.where(alpha[alpha>1e-5])[0] #[0] make S as numpy array\n",
    "    X_s = X[S,:]\n",
    "    y_s = y[S]\n",
    "    alphas = alpha[S].reshape(-1,1)\n",
    "    b = (y_s - ((alphas*y_s).T*rbf_kernel(X_s,rbf_sigma)).sum(axis=1,keepdims=True)).mean()\n",
    "    return b"
   ]
  },
  {
   "cell_type": "code",
   "execution_count": null,
   "id": "75f61223",
   "metadata": {},
   "outputs": [],
   "source": []
  },
  {
   "cell_type": "code",
   "execution_count": null,
   "id": "31e17659",
   "metadata": {},
   "outputs": [],
   "source": []
  }
 ],
 "metadata": {
  "kernelspec": {
   "display_name": "Python 3 (ipykernel)",
   "language": "python",
   "name": "python3"
  },
  "language_info": {
   "codemirror_mode": {
    "name": "ipython",
    "version": 3
   },
   "file_extension": ".py",
   "mimetype": "text/x-python",
   "name": "python",
   "nbconvert_exporter": "python",
   "pygments_lexer": "ipython3",
   "version": "3.9.7"
  }
 },
 "nbformat": 4,
 "nbformat_minor": 5
}
