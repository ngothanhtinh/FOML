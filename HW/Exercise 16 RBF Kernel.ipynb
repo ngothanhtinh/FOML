{
 "cells": [
  {
   "cell_type": "markdown",
   "id": "2679da3b",
   "metadata": {},
   "source": [
    "### Execrise 16:"
   ]
  },
  {
   "cell_type": "code",
   "execution_count": 1,
   "id": "39060bbc",
   "metadata": {},
   "outputs": [],
   "source": [
    "import numpy as np\n",
    "import matplotlib.pyplot as plt\n",
    "import cvxopt"
   ]
  },
  {
   "cell_type": "code",
   "execution_count": 2,
   "id": "907e00ed",
   "metadata": {},
   "outputs": [
    {
     "data": {
      "image/png": "[encoded data removed]",
      "text/plain": [
       "<Figure size 576x360 with 1 Axes>"
      ]
     },
     "metadata": {
      "needs_background": "light"
     },
     "output_type": "display_data"
    }
   ],
   "source": [
    "# Synthenic data (Annulus data)\n",
    "m_ = 100\n",
    "\n",
    "mu = np.array([5,8])\n",
    "sigma = np.array([[5,0],[0,5]])\n",
    "X1 = np.random.multivariate_normal(mu,sigma,m_)\n",
    "\n",
    "phi = np.random.uniform(0,2*np.pi,m_).reshape(-1,1)\n",
    "r = 10 + np.random.uniform(0,5,m_).reshape(-1,1)\n",
    "X2 = np.concatenate((r*np.cos(phi)+mu[0],r*np.sin(phi)+mu[1]),1)\n",
    "\n",
    "plt.figure(figsize = (8,5))\n",
    "plt.plot(X1[:,0],X1[:,1],'ro',label='Class 0')\n",
    "plt.plot(X2[:,0],X2[:,1],'bo',label='Class 1')\n",
    "plt.legend()\n",
    "plt.show()"
   ]
  },
  {
   "cell_type": "code",
   "execution_count": 3,
   "id": "167e9d08",
   "metadata": {},
   "outputs": [
    {
     "data": {
      "text/plain": [
       "((100, 2), (100, 2))"
      ]
     },
     "execution_count": 3,
     "metadata": {},
     "output_type": "execute_result"
    }
   ],
   "source": [
    "X1.shape,X2.shape"
   ]
  },
  {
   "cell_type": "markdown",
   "id": "73ad0d4f",
   "metadata": {},
   "source": [
    "#### SVM prediction using Kernel\n",
    "- Traing data:$X \\in R^{n}, y = \\{-1,1\\}$\n",
    "$$\n",
    "2D: \\mathbf{X} = \\begin{vmatrix}x_{1}^{1} & x_{2}^{1} \\\\x_{1}^{2} & x_{2}^{2}\\\\: & :\\\\x_{1}^{m} & x_{2}^{m}\\end{vmatrix} , \\mathbf{y} = \\begin{vmatrix} -1\\\\-1\\\\:\\\\1\\end{vmatrix}\n",
    "$$"
   ]
  },
  {
   "cell_type": "code",
   "execution_count": 4,
   "id": "7886b661",
   "metadata": {},
   "outputs": [],
   "source": [
    "# Training data\n",
    "X = np.concatenate((X1,X2),0)\n",
    "y = np.concatenate((-np.ones((m_,1)),np.ones((m_,1))),0)\n",
    "m = X.shape[0]\n",
    "n = np.unique(y).shape[0]"
   ]
  },
  {
   "cell_type": "code",
   "execution_count": 5,
   "id": "a2353e59",
   "metadata": {},
   "outputs": [
    {
     "data": {
      "text/plain": [
       "((200, 2), (200, 1))"
      ]
     },
     "execution_count": 5,
     "metadata": {},
     "output_type": "execute_result"
    }
   ],
   "source": [
    "X.shape,y.shape"
   ]
  },
  {
   "cell_type": "markdown",
   "id": "49ba5777",
   "metadata": {},
   "source": [
    "**Kernel:**\n",
    "\n",
    "$$\\small \\text{Linear Kernel: $\\mathcal k(x,x^{'}) = x_{1}x_{1}^{'}+x_{2}x_{2}^{'}+...+x_{n}x_{n}^{'}$} $$\n",
    "$$\\small \\text{Polynomial Kernel: $\\mathcal k(x,x^{'}) = x_{1}^{2}x_{1}^{'2}+x_{2}^{2}x_{2}^{'2}+...+x_{n}^{2}x_{n}^{'2}$} $$\n",
    "$$\\small \\text{RBF Kernel (Radial Basis Function): $\\mathcal k(x,x^{'}) = \\mathrm{e}^{\\frac{-||x-x^{'}||^{2}}{2\\sigma^{2}}} \\\\ \n",
    "K = \\underbrace{\\begin{vmatrix}K(x^{1},x^{1}) & K(x^{1},x^{2}) & .. & K(x^{1},x^{m}) \\\\K(x^{2},x^{1}) & K(x^{2},x^{2}) & .. & K(x^{2},x^{m})\\\\: & :& :\\\\K(x^{m},x^{1}) & K(x^{m},x^{2}) & .. & K(x^{m},x^{m})\\end{vmatrix}}_{m \\times m} $}$$"
   ]
  },
  {
   "cell_type": "code",
   "execution_count": 6,
   "id": "8d072916",
   "metadata": {},
   "outputs": [],
   "source": [
    "# Kernel\n",
    "def linear_kernel (X):\n",
    "    return X@X.T\n",
    "\n",
    "def rbf_kernel (X,sigma):\n",
    "    m = X.shape[0]\n",
    "    K = np.zeros((m,m))\n",
    "    for i in range (m):\n",
    "        for j in range (m):\n",
    "            K[i,j] = (X[i,:]-X[j,:])@(X[i,:]-X[j,:])\n",
    "    K = np.exp(-K/(2*sigma**2))\n",
    "    return K"
   ]
  },
  {
   "cell_type": "markdown",
   "id": "1024eef0",
   "metadata": {},
   "source": [
    "**General Quadratic Programming**\n",
    "$$x^{*} = arg \\min_{x}\\frac{1}{2}x^{T}Qx+c^{T}x+r $$ $$\\text{Subject to : $Ax \\leq b\\\\ Ex = d$}$$\n",
    "- **cvxopt**.solvers.qp(P,q,G,h,A,b) find the **sol['x']**"
   ]
  },
  {
   "cell_type": "markdown",
   "id": "792998fe",
   "metadata": {},
   "source": [
    "**Dual Lagrangian Optimization Problem:**\n",
    "$$ \\mathcal W(\\alpha) = \\min_{\\alpha} \\frac{1}{2} \\sum_{i=1}^{m}\\sum_{j=1}^{m}\\alpha_{i}\\alpha_{j}y^{(i)}y^{(j)}\\mathcal k(x,x^{'}) - \\sum_{i=1}^{m}\\alpha_{i} $$\n",
    "$$\\text{Such that: $-\\alpha_{i} \\le 0, i \\in 1...m \\\\ \\sum_{i=1}^{m}\\alpha_{i}y^{(i)} = 0 $}$$\n",
    "\n",
    "$$\n",
    "Q=y^{(i)}y^{(j)}\\mathcal k(x,x^{'}) ; \n",
    "c = \\underbrace{\\begin{vmatrix} -1\\\\-1\\\\:\\\\-1\\end{vmatrix}}_{m \\times 1} ; \n",
    "A = \\underbrace{\\begin{vmatrix}-1 & 0 & .. & 0 \\\\0 & -1 & .. & 0\\\\: & :& :\\\\0 & 0 & .. & -1\\end{vmatrix}}_{m \\times m} ; \n",
    "b =\\underbrace{\\begin{vmatrix}0\\\\0 \\\\:\\\\0\\end{vmatrix}}_{m \\times 1} ; \n",
    "E = \\underbrace{\\begin{vmatrix}y_{1} & y_{2} & .. & y_{m}\\end{vmatrix}}_{1 \\times m} ; d = 0\n",
    "$$"
   ]
  },
  {
   "cell_type": "code",
   "execution_count": 12,
   "id": "d4c8feb8",
   "metadata": {},
   "outputs": [
    {
     "name": "stdout",
     "output_type": "stream",
     "text": [
      "     pcost       dcost       gap    pres   dres\n",
      " 0: -2.5468e+01 -8.1779e+01  6e+01  2e-15  2e+00\n",
      " 1: -2.8017e+01 -3.3962e+01  6e+00  5e-15  3e-01\n",
      " 2: -2.9138e+01 -3.0305e+01  1e+00  8e-15  4e-02\n",
      " 3: -2.9300e+01 -2.9526e+01  2e-01  4e-15  3e-03\n",
      " 4: -2.9342e+01 -2.9381e+01  4e-02  1e-14  2e-04\n",
      " 5: -2.9351e+01 -2.9358e+01  6e-03  2e-14  1e-05\n",
      " 6: -2.9353e+01 -2.9354e+01  6e-04  1e-14  1e-07\n",
      " 7: -2.9353e+01 -2.9353e+01  2e-05  1e-14  3e-09\n",
      "Optimal solution found.\n"
     ]
    }
   ],
   "source": [
    "# Set Q,c,A,b,E,d\n",
    "rbf_sigma = 1\n",
    "Q = y@y.T*rbf_kernel(X,rbf_sigma)\n",
    "c = -np.ones((m,1))\n",
    "A = -np.eye((m))\n",
    "b = -np.zeros((m,1))\n",
    "E = y.T\n",
    "d = np.zeros((1,1))\n",
    "\n",
    "# Define cvxopt_solvers_qp function\n",
    "def cvxopt_solvers_qp(Q,c,A=None,b=None,E=None,d=None):\n",
    "    Q = .5*(Q+Q.T) # make Q is symmetric\n",
    "    agrs = [cvxopt.matrix(Q),cvxopt.matrix(c)]\n",
    "    if A is not None:\n",
    "        agrs.extend([cvxopt.matrix(A),cvxopt.matrix(b)])\n",
    "    if E is not None:\n",
    "        agrs.extend([cvxopt.matrix(E),cvxopt.matrix(d)])\n",
    "    sol = cvxopt.solvers.qp(*agrs)\n",
    "    return np.array(sol['x']).reshape(Q.shape[1])\n",
    "opt_params = cvxopt_solvers_qp(Q,c,A,b,E,d)"
   ]
  },
  {
   "cell_type": "code",
   "execution_count": 14,
   "id": "4d682397",
   "metadata": {},
   "outputs": [],
   "source": [
    "#print('Alphas that are not zero:', opt_params[opt_params>1e-5])\n",
    "#print('Corresponding label:\\n',y[opt_params>1e-5])"
   ]
  },
  {
   "cell_type": "markdown",
   "id": "e59e567a",
   "metadata": {},
   "source": [
    "**Find b**:\n",
    "\n",
    "$\\mathcal S \\small \\text{ is the set of indexes of the support vectors: } \\mathcal S = \\{ i \\in 1..m | \\alpha_{i} > 0 \\}; N_{\\mathcal S} = len(\\mathcal S)$\n",
    "\n",
    "$$b =\\frac{1}{N_{\\mathcal S}}\\sum_{i \\in \\mathcal S} \\left(y^{(i)} - \\sum_{j \\in \\mathcal S}\\alpha_{j}y^{(j)} \\mathcal k(x,x^{'}) \\right)$$"
   ]
  },
  {
   "cell_type": "code",
   "execution_count": 46,
   "id": "9fa66c9f",
   "metadata": {},
   "outputs": [],
   "source": [
    "# define find_b_w function\n",
    "def find_b (X,y,alpha,rbf_sigma):\n",
    "    S = np.where(alpha>1e-5)[0] #[0] make S become a numpy array\n",
    "    X_s = X[S,:]\n",
    "    y_s = y[S]\n",
    "    alphas = alpha[S].reshape(-1,1)\n",
    "    b = (y_s - ((alphas*y_s).T*rbf_kernel(X_s,rbf_sigma)).sum(axis=1,keepdims=True)).mean()\n",
    "    return b"
   ]
  },
  {
   "cell_type": "markdown",
   "id": "17d3a625",
   "metadata": {},
   "source": [
    "**Make the prediction**\n",
    "$$\\mathcal h_{w,b}(x) = \n",
    "\\begin{cases}\n",
    "+ 1 \\quad \\text{$w^{T}x + b \\ge 0$} \\\\ \n",
    "-1 \\quad \\text{otherwise}\n",
    "\\end{cases} \\\\\n",
    "\\text{Note that: $ w^{T}x + b = \\sum_{i=1}^{m}\\alpha_{i}y^{(i)}\\mathcal K(x^{(i)},x) +b $}\n",
    "$$"
   ]
  },
  {
   "cell_type": "code",
   "execution_count": 62,
   "id": "e232a49f",
   "metadata": {},
   "outputs": [],
   "source": [
    "# define kernel function\n",
    "def rbf_kernel_(x,xprime,rbf_sigma):\n",
    "    return np.exp(-(x-xprime)@(x-xprime)/(2*rbf_sigma**2))\n",
    "\n",
    "# define SVM predict function using Kernel\n",
    "def svm_predict (x,X,y,alpha,rbf_sigma):\n",
    "    b = find_b(X,y,alpha,rbf_sigma)\n",
    "    results = np.zeros((x.shape[0],1))\n",
    "    for i in range (x.shape[0]):\n",
    "        results[i] = 0\n",
    "        for j in range (X.shape[0]):\n",
    "            results[i,0] += alpha[j]*y[j,0]*rbf_kernel_(x[i,:],X[j,:],rbf_sigma)\n",
    "        results[i] += b\n",
    "    return np.sign(results)"
   ]
  },
  {
   "cell_type": "code",
   "execution_count": 63,
   "id": "c754d7e8",
   "metadata": {},
   "outputs": [
    {
     "name": "stdout",
     "output_type": "stream",
     "text": [
      "Accuracy: 1.0\n"
     ]
    }
   ],
   "source": [
    "# Accuracy\n",
    "y_pred =  svm_predict (X,X,y,opt_params,rbf_sigma)\n",
    "accuracy = (y_pred ==y ).mean()\n",
    "print('Accuracy:',accuracy)"
   ]
  },
  {
   "cell_type": "code",
   "execution_count": 65,
   "id": "de3dae2a",
   "metadata": {},
   "outputs": [
    {
     "data": {
      "image/png": "[encoded data removed]",
      "text/plain": [
       "<Figure size 576x360 with 1 Axes>"
      ]
     },
     "metadata": {
      "needs_background": "light"
     },
     "output_type": "display_data"
    }
   ],
   "source": [
    "# Plot result\n",
    "plt.figure(figsize = (8,5))\n",
    "plt.plot(X1[:,0],X1[:,1],'ro',label='Class 0')\n",
    "plt.plot(X2[:,0],X2[:,1],'bo',label='Class 1')\n",
    "\n",
    "# Overlay colored regions\n",
    "grid_x,grid_y = np.mgrid[-10:20:100j,-10:25:100j]\n",
    "grid_xy = np.vstack([grid_x.ravel(),grid_y.ravel()]).T\n",
    "z = svm_predict(grid_xy,X,y,opt_params,rbf_sigma).reshape((100,100))\n",
    "plt.contourf(grid_x,grid_y,z,alpha = 0.2)\n",
    "\n",
    "\n",
    "plt.title('RBF Kernel classification regions')\n",
    "plt.legend()\n",
    "plt.show()"
   ]
  }
 ],
 "metadata": {
  "kernelspec": {
   "display_name": "Python 3 (ipykernel)",
   "language": "python",
   "name": "python3"
  },
  "language_info": {
   "codemirror_mode": {
    "name": "ipython",
    "version": 3
   },
   "file_extension": ".py",
   "mimetype": "text/x-python",
   "name": "python",
   "nbconvert_exporter": "python",
   "pygments_lexer": "ipython3",
   "version": "3.9.7"
  }
 },
 "nbformat": 4,
 "nbformat_minor": 5
}
