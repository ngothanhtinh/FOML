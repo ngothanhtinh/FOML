{
 "cells": [
  {
   "cell_type": "markdown",
   "metadata": {},
   "source": [
    "### Excercise 11: Gaussian Discriminant Analysis"
   ]
  },
  {
   "cell_type": "code",
   "execution_count": 7,
   "metadata": {},
   "outputs": [],
   "source": [
    "import numpy as np\n",
    "import matplotlib.pyplot as plt"
   ]
  },
  {
   "cell_type": "code",
   "execution_count": 38,
   "metadata": {},
   "outputs": [
    {
     "data": {
      "image/png": "[encoded data removed]",
      "text/plain": [
       "<Figure size 432x288 with 1 Axes>"
      ]
     },
     "metadata": {
      "needs_background": "light"
     },
     "output_type": "display_data"
    }
   ],
   "source": [
    "# Synthetic data\n",
    "mu1 = np.array([10,10])\n",
    "mu2 = np.array([10,10])\n",
    "\n",
    "sigma1 = np.array([[14,12], [12,14]])\n",
    "sigma2 = np.array([[14,-12], [-12,14]])\n",
    "\n",
    "X1 = np.random.multivariate_normal(mu1,sigma1,300)\n",
    "X2 = np.random.multivariate_normal(mu1,sigma2,100)\n",
    "\n",
    "plt.plot(X1[:,0],X1[:,1],'ro')\n",
    "plt.plot(X2[:,0],X2[:,1],'go')\n",
    "plt.show()"
   ]
  },
  {
   "cell_type": "markdown",
   "metadata": {},
   "source": [
    "Give these data, we estimate the parameters of the GDA (Gaussian Discriminant Analysis)"
   ]
  },
  {
   "cell_type": "code",
   "execution_count": 62,
   "metadata": {},
   "outputs": [],
   "source": [
    "# Estimate means and covariances\n",
    "mu_r = X1.mean(axis=0)\n",
    "mu_g = X2.mean(axis=0)\n",
    "\n",
    "cov_r = np.cov(X1.T)\n",
    "cov_g = np.cov(X2.T)\n",
    "\n",
    "p_y_1 = X1.shape[0]/(X1.shape[0]+X2.shape[0])\n",
    "p_y_2 =  X2.shape[0]/(X1.shape[0]+X2.shape[0])"
   ]
  },
  {
   "cell_type": "code",
   "execution_count": 72,
   "metadata": {},
   "outputs": [],
   "source": [
    "means = np.array([mu_r,mu_g])\n",
    "covs = np.array([cov_r,cov_g])\n",
    "p_y_s = np.array([p_y_1,p_y_2])"
   ]
  },
  {
   "cell_type": "code",
   "execution_count": 73,
   "metadata": {},
   "outputs": [],
   "source": [
    "# Inference: p(Y=y|X=x) propto p(X=x|Y=y).p(Y=y)\n",
    "\n",
    "X = np.concatenate((X1,X2),0)\n",
    "y = np.concatenate((np.zeros((X1.shape[0],1)),np.ones((X2.shape[0],1))),0)\n",
    "\n",
    "def gauss_density(X,mu,sigma):\n",
    "    k = X.shape[1]\n",
    "    siginv = np.linalg.inv(sigma)\n",
    "    d = np.zeros((X.shape[0], 1))\n",
    "    for i in range(X.shape[0]):\n",
    "        x = X[i,:]\n",
    "        d[i] = -0.5 * (x-mu) @ siginv @ (x-mu)\n",
    "    return (2 * np.pi)**(-k/2) / np.sqrt(np.linalg.det(sigma)) * np.exp(d)"
   ]
  },
  {
   "cell_type": "code",
   "execution_count": 78,
   "metadata": {},
   "outputs": [],
   "source": [
    "def gda_infer(K,X,means,covs,p_y_s):\n",
    "    p_ys = []\n",
    "    norm = 0\n",
    "    for i in range(K):\n",
    "        p_x_y = gauss_density(X,means[i],covs[i])\n",
    "        p_ys.append(p_x_y * p_y_s[i])\n",
    "    for i in range(K):\n",
    "        norm =  norm + p_ys[i]\n",
    "    return p_ys, norm"
   ]
  },
  {
   "cell_type": "code",
   "execution_count": 79,
   "metadata": {},
   "outputs": [],
   "source": [
    "p_ys, norm = gda_infer(2,X,means,covs,p_y_s)"
   ]
  },
  {
   "cell_type": "code",
   "execution_count": 80,
   "metadata": {},
   "outputs": [],
   "source": [
    "p_y1 = p_ys[0]/norm\n",
    "p_y2 = p_ys[1]/norm"
   ]
  },
  {
   "cell_type": "code",
   "execution_count": 57,
   "metadata": {},
   "outputs": [],
   "source": [
    "p_x_y1 = gauss_density(X,mu_r,cov_r)\n",
    "p_x_y2 = gauss_density(X,mu_g,cov_g)\n",
    "p_y1 = p_x_y1 * p_y_1\n",
    "p_y2 = p_x_y2 * p_y_2"
   ]
  },
  {
   "cell_type": "code",
   "execution_count": 58,
   "metadata": {},
   "outputs": [],
   "source": [
    "# Normalize\n",
    "norm = p_y1 + p_y2\n",
    "p_y1 = p_y1/norm\n",
    "p_y2 = p_y2/norm"
   ]
  },
  {
   "cell_type": "code",
   "execution_count": 60,
   "metadata": {},
   "outputs": [
    {
     "name": "stdout",
     "output_type": "stream",
     "text": [
      "Training accuracy: 0.887500\n"
     ]
    }
   ],
   "source": [
    "# Finished!\n",
    "train_acc = (np.concatenate((p_y1, p_y2), 1).argmax(axis=1)==y.reshape(-1)).sum() / X.shape[0]\n",
    "print('Training accuracy: %f' % train_acc)"
   ]
  }
 ],
 "metadata": {
  "kernelspec": {
   "display_name": "Python 3",
   "language": "python",
   "name": "python3"
  },
  "language_info": {
   "codemirror_mode": {
    "name": "ipython",
    "version": 3
   },
   "file_extension": ".py",
   "mimetype": "text/x-python",
   "name": "python",
   "nbconvert_exporter": "python",
   "pygments_lexer": "ipython3",
   "version": "3.8.3"
  }
 },
 "nbformat": 4,
 "nbformat_minor": 4
}
