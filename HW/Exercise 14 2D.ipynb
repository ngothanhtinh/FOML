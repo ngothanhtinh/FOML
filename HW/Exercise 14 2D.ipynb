{
 "cells": [
  {
   "cell_type": "markdown",
   "metadata": {},
   "source": [
    "### Excersice 14\n",
    "Logistic Regression vs Quadratic Programming"
   ]
  },
  {
   "cell_type": "code",
   "execution_count": 1,
   "metadata": {},
   "outputs": [],
   "source": [
    "import numpy as np\n",
    "import matplotlib.pyplot as plt\n",
    "from mpl_toolkits.mplot3d import Axes3D\n",
    "import cvxopt"
   ]
  },
  {
   "cell_type": "markdown",
   "metadata": {},
   "source": [
    "#### 2D"
   ]
  },
  {
   "cell_type": "code",
   "execution_count": 2,
   "metadata": {},
   "outputs": [
    {
     "data": {
      "image/png": "[encoded data removed]",
      "text/plain": [
       "<Figure size 720x432 with 1 Axes>"
      ]
     },
     "metadata": {
      "needs_background": "light"
     },
     "output_type": "display_data"
    }
   ],
   "source": [
    "# Synthetic data\n",
    "mu1 = np.array([2,2]) \n",
    "mu2 = np.array([15,5])\n",
    "sigma = np.array([[5,0],[0,5]])\n",
    "\n",
    "X1 = np.random.multivariate_normal(mu1,sigma,100)\n",
    "X2 = np.random.multivariate_normal(mu2,sigma,100)\n",
    "\n",
    "plt.figure(figsize=(10,6))\n",
    "plt.plot(X1[:,0],X1[:,1],'ro',label='Class1')\n",
    "plt.plot(X2[:,0],X2[:,1],'go',label='Class2')\n",
    "plt.title('Synthetic data for classification')\n",
    "plt.legend()\n",
    "plt.show()"
   ]
  },
  {
   "cell_type": "code",
   "execution_count": 3,
   "metadata": {},
   "outputs": [
    {
     "data": {
      "text/plain": [
       "((100, 2), (100, 2))"
      ]
     },
     "execution_count": 3,
     "metadata": {},
     "output_type": "execute_result"
    }
   ],
   "source": [
    "X1.shape,X2.shape"
   ]
  },
  {
   "cell_type": "markdown",
   "metadata": {},
   "source": [
    "#### Logistic Regession solution\n",
    "- Traning data: $X \\in R^{n}, y = \\{0,1\\}$\n",
    "$$\n",
    "2D: \\mathbf{X} = \\begin{vmatrix}1 & x_{1}^{1} & x_{2}^{1} \\\\1 & x_{1}^{2} & x_{2}^{2}\\\\: & : & :\\\\1 & x_{1}^{m} & x_{2}^{m}\\end{vmatrix} , \\mathbf{y} = \\begin{vmatrix} 0\\\\0\\\\:\\\\1\\end{vmatrix}\n",
    "$$\n",
    "- Structure: $h_{\\theta}(x) = \\frac{1}{1+e^{-x\\theta}}$\n",
    "- Cost function (*Binary Cross Entropy Cost Function*): $\\ell(\\theta) = -\\frac{\\sum_{i=1}^{m}[y^{(i)}log(\\hat y^{(i)})+(1-y^{(i)})(1-log(\\hat y^{(i)})]}{m}$\n",
    "- Optimization (*Gradient descent*): $\\theta^{(k+1)}\\leftarrow \\theta^{(k)} - \\alpha\\sum((\\hat y^{(i)}-y^{(i)})\\mathbf{x}^{i})$\n",
    "\n",
    "**The basic algorithm**:\n",
    "\n",
    "1. Choose an arbitrary $\\theta^{(1)}$\n",
    "2. Let $k = 1$\n",
    "3. Calculate cost and gradient of the cost function for $\\theta^{(k)}$\n",
    "4. Take a step $\\theta^{(k+1)} \\leftarrow \\theta^{(k)} - \\alpha \\sum_{i=1}^m (\\hat{y}^{(i)} - y^{(i)}) \\mathbf{x}^{(i)}$\n",
    "5. Let $k \\leftarrow k+1$\n",
    "6. If not done, repeat from step 3.\n",
    "\n",
    "- **Results**: $\\theta_{0}+\\theta_{1}X_{1}+\\theta_{2}X_{2} = 0$$\\rightarrow X_{2} = \\frac{- \\theta_{0} - \\theta_{1}X_{1}}{\\theta_{2}}$"
   ]
  },
  {
   "cell_type": "code",
   "execution_count": 4,
   "metadata": {},
   "outputs": [],
   "source": [
    "# Training data\n",
    "m = X1.shape[0]\n",
    "n = X2.shape[0]\n",
    "X = np.concatenate((np.ones((m+n,1)),np.concatenate((X1,X2),0)),1)\n",
    "y = np.concatenate((np.zeros((m,1)),np.ones((n,1))),0)"
   ]
  },
  {
   "cell_type": "code",
   "execution_count": 5,
   "metadata": {},
   "outputs": [
    {
     "name": "stdout",
     "output_type": "stream",
     "text": [
      "Epoch:0 Cost:0.693147\n",
      "Epoch:100 Cost:0.132157\n",
      "Epoch:200 Cost:0.080354\n",
      "Epoch:300 Cost:0.059521\n",
      "Epoch:400 Cost:0.048174\n",
      "Epoch:500 Cost:0.040961\n",
      "Epoch:600 Cost:0.035931\n",
      "Epoch:700 Cost:0.032198\n",
      "Epoch:800 Cost:0.029302\n",
      "Epoch:900 Cost:0.026982\n"
     ]
    }
   ],
   "source": [
    "# Cross entropy\n",
    "theta = np.zeros((3,1))\n",
    "alpha = 0.001\n",
    "\n",
    "def sigmoid(a):\n",
    "    return 1/(1+np.exp(a))\n",
    "\n",
    "def cross_entropy(X,y,theta):\n",
    "    yhat = sigmoid(-X@theta)\n",
    "    cost = -(y*np.log(yhat) + (1-y)*np.log(1-yhat)).mean()\n",
    "    grad = X.T@(yhat - y)\n",
    "    return cost, grad\n",
    "\n",
    "for epoch in range(1000):\n",
    "    cost, grad = cross_entropy(X,y,theta)\n",
    "    if epoch % 100 == 0:\n",
    "        print('Epoch:%d Cost:%f'%(epoch,cost))\n",
    "    theta = theta - alpha * grad"
   ]
  },
  {
   "cell_type": "code",
   "execution_count": 6,
   "metadata": {},
   "outputs": [
    {
     "name": "stdout",
     "output_type": "stream",
     "text": [
      "Accuracy: 100.0\n"
     ]
    }
   ],
   "source": [
    "# Accuracy\n",
    "y_pred = np.where(sigmoid(-X@theta)<=0.5,0,1)\n",
    "accuracy = (y_pred == y).sum()/y.shape[0]\n",
    "print('Accuracy:', accuracy*100)"
   ]
  },
  {
   "cell_type": "markdown",
   "metadata": {},
   "source": [
    "#### Quadratic Programming\n",
    "- Traning data: $X \\in R^{n}, y = \\{-1,1\\}$\n",
    "$$\n",
    "2D: \\mathbf{X} = \\begin{vmatrix}x_{1}^{1} & x_{2}^{1} \\\\x_{1}^{2} & x_{2}^{2}\\\\: & :\\\\x_{1}^{m} & x_{2}^{m}\\end{vmatrix} , \\mathbf{y} = \\begin{vmatrix} -1\\\\-1\\\\:\\\\1\\end{vmatrix}\n",
    "$$\n",
    "- Structure: $W^{T}\\mathbf{x}+b$\n",
    "- Cost function:\n",
    "- Optimization(*Convex Optimization Problems*): \n",
    "$X^{*}=\\underbrace{argmin}_{x}\\frac{1}{2}X^{T}QX+C^{T}X$\n",
    "Subject to $AX \\leq b$\n",
    "\n",
    "**Given**: $C \\in R^{n} ; Q \\in R^{nxn} ; A \\in R^{mxn} ; b \\in R^{m}$\n",
    "- **n**: number of class, **m**: number of sample\n",
    "$$\n",
    "n = 2 :\\mathbf{C} = \\underbrace{\\begin{vmatrix} 0\\\\0\\\\0\\end{vmatrix}}_{(n+1)x1} ; \\mathbf{Q} = \\underbrace{\\begin{vmatrix} 1&0&0\\\\0&1&0\\\\0&0&0\\end{vmatrix}}_{(n+1)x(n+1)} ; \\mathbf{A} = \\underbrace{\\begin{vmatrix} -x_{1}^{1}y^{1}&-x_{2}^{1}y^{1}&-y^{1}\\\\-x_{1}^{2}y^{2}&-x_{2}^{2}y^{2}&-y^{2}\\\\:&:&:\\\\-x_{1}^{m}y^{m}&-x_{2}^{m}y^{m}&-y^{m}\\end{vmatrix}}_{mx3} ; \\mathbf{X} = \\underbrace{\\begin{vmatrix} w_{1}\\\\w_{2}\\\\b\\end{vmatrix}}_{(n+1)x1} ; \\mathbf{b} = \\underbrace{\\begin{vmatrix} -1\\\\-1\\\\:\\\\-1\\end{vmatrix}}_{mx1} \n",
    "$$\n",
    "\n",
    "**Result**:\n",
    "- Center line: $W^{T}\\mathbf{x}+b = 0$\n",
    "- Margin : $W^{T}\\mathbf{x}+b = 1$\n",
    "- Margin : $W^{T}\\mathbf{x}+b = -1$\n",
    "\n",
    "**n = 2**:\n",
    "\n",
    "- Center line : $w_{1}x_{1}+w_{2}x_{2} + b = 0 \\rightarrow x_{2} = \\frac{-w_{1}x_{1}-b}{w_{2}}$\n",
    "- Margin: $w_{1}x_{1}+w_{2}x_{2} + b = 1 \\rightarrow x_{2} = \\frac{-w_{1}x_{1}-b+1}{w_{2}}$\n",
    "- Margin : $w_{1}x_{1}+w_{2}x_{2} + b = -1 \\rightarrow x_{2} = \\frac{-w_{1}x_{1}-b-1}{w_{2}}$"
   ]
  },
  {
   "cell_type": "code",
   "execution_count": 7,
   "metadata": {},
   "outputs": [],
   "source": [
    "# Training data\n",
    "X_qp = np.concatenate((X1,X2),0)\n",
    "y_qp = np.concatenate((-np.ones((X1.shape[0],1)),np.ones((X2.shape[0],1))),0)\n",
    "m = X_qp.shape[0]\n",
    "n = np.unique(y_qp).shape[0]"
   ]
  },
  {
   "cell_type": "code",
   "execution_count": 8,
   "metadata": {},
   "outputs": [
    {
     "data": {
      "text/plain": [
       "((200, 2), (200, 1))"
      ]
     },
     "execution_count": 8,
     "metadata": {},
     "output_type": "execute_result"
    }
   ],
   "source": [
    "X_qp.shape,y_qp.shape"
   ]
  },
  {
   "cell_type": "code",
   "execution_count": 9,
   "metadata": {},
   "outputs": [],
   "source": [
    "# Set Q,c,A,b\n",
    "Q = np.eye(n+1)\n",
    "Q[n,n] = 0\n",
    "c = np.zeros((n+1,1))\n",
    "A = -np.concatenate((X_qp,np.ones((m,1))),1)*y_qp\n",
    "b = - np.ones((m,1))"
   ]
  },
  {
   "cell_type": "code",
   "execution_count": 10,
   "metadata": {},
   "outputs": [
    {
     "data": {
      "text/plain": [
       "(200, 3)"
      ]
     },
     "execution_count": 10,
     "metadata": {},
     "output_type": "execute_result"
    }
   ],
   "source": [
    "A.shape"
   ]
  },
  {
   "cell_type": "code",
   "execution_count": 11,
   "metadata": {},
   "outputs": [],
   "source": [
    "# Convex optmization\n",
    "def cvxopt_solve_qp(Q,c,A,b):\n",
    "    Q = 0.5 * (Q + Q.T) # make sure Q is symmetric\n",
    "    args = [cvxopt.matrix(Q),cvxopt.matrix(c),cvxopt.matrix(A),cvxopt.matrix(b)]\n",
    "    sol = cvxopt.solvers.qp(*args)\n",
    "    if 'optimal' not in sol['status']:\n",
    "        return None\n",
    "    return np.array(sol['x']).reshape((Q.shape[1],))"
   ]
  },
  {
   "cell_type": "code",
   "execution_count": 12,
   "metadata": {},
   "outputs": [
    {
     "name": "stdout",
     "output_type": "stream",
     "text": [
      "     pcost       dcost       gap    pres   dres\n",
      " 0:  8.8225e-03  4.8676e+01  6e+02  2e+00  2e+03\n",
      " 1:  6.0863e-02 -1.0489e+02  2e+02  6e-01  7e+02\n",
      " 2:  7.4276e-02 -1.1024e+02  2e+02  5e-01  6e+02\n",
      " 3:  1.7088e-01 -3.4612e+01  5e+01  2e-01  2e+02\n",
      " 4:  2.2780e-01 -1.8522e+00  2e+00  4e-03  5e+00\n",
      " 5:  2.1155e-01  1.3354e-01  8e-02  7e-05  9e-02\n",
      " 6:  2.0469e-01  2.0090e-01  4e-03  4e-06  4e-03\n",
      " 7:  2.0435e-01  2.0429e-01  7e-05  6e-08  7e-05\n",
      " 8:  2.0435e-01  2.0435e-01  1e-06  8e-10  9e-07\n",
      " 9:  2.0435e-01  2.0435e-01  2e-08  8e-12  9e-09\n",
      "Optimal solution found.\n"
     ]
    }
   ],
   "source": [
    "opt_params = cvxopt_solve_qp(Q,c,A,b)"
   ]
  },
  {
   "cell_type": "code",
   "execution_count": 19,
   "metadata": {},
   "outputs": [],
   "source": [
    "def find_b_w(alpha):\n",
    "    w = alpha[0:2]\n",
    "    b = alpha[2]\n",
    "    return b, w.reshape(-1,1)\n",
    "b, w = find_b_w(opt_params)"
   ]
  },
  {
   "cell_type": "code",
   "execution_count": 20,
   "metadata": {},
   "outputs": [
    {
     "data": {
      "text/plain": [
       "array([[0.63353759],\n",
       "       [0.08557096]])"
      ]
     },
     "execution_count": 20,
     "metadata": {},
     "output_type": "execute_result"
    }
   ],
   "source": [
    "w"
   ]
  },
  {
   "cell_type": "code",
   "execution_count": 21,
   "metadata": {},
   "outputs": [
    {
     "data": {
      "text/plain": [
       "-5.858642285947818"
      ]
     },
     "execution_count": 21,
     "metadata": {},
     "output_type": "execute_result"
    }
   ],
   "source": [
    "b"
   ]
  },
  {
   "cell_type": "code",
   "execution_count": 22,
   "metadata": {},
   "outputs": [
    {
     "data": {
      "text/plain": [
       "((200, 2), (2, 1))"
      ]
     },
     "execution_count": 22,
     "metadata": {},
     "output_type": "execute_result"
    }
   ],
   "source": [
    "X_qp.shape,w.shape"
   ]
  },
  {
   "cell_type": "code",
   "execution_count": 23,
   "metadata": {},
   "outputs": [
    {
     "name": "stdout",
     "output_type": "stream",
     "text": [
      "Accuracy: 1.0\n"
     ]
    }
   ],
   "source": [
    "# Accuracy\n",
    "y_pred = np.where(X_qp@w + b >= 1,1,np.where(X_qp@w + b <= -1,-1,0))\n",
    "accuracy = (y_pred == y_qp).sum()/ y_qp.shape[0]\n",
    "print('Accuracy:', accuracy)"
   ]
  },
  {
   "cell_type": "code",
   "execution_count": 24,
   "metadata": {},
   "outputs": [
    {
     "data": {
      "image/png": "[encoded data removed]",
      "text/plain": [
       "<Figure size 720x432 with 1 Axes>"
      ]
     },
     "metadata": {
      "needs_background": "light"
     },
     "output_type": "display_data"
    }
   ],
   "source": [
    "# plot result\n",
    "plt.figure(figsize=(10,6))\n",
    "plt.plot(X1[:,0],X1[:,1],'ro',label='Class1')\n",
    "plt.plot(X2[:,0],X2[:,1],'go',label='Class2')\n",
    "plt.title('Synthetic data for classification')\n",
    "\n",
    "# Logistic Regression\n",
    "x11 = 7\n",
    "x12 = 9\n",
    "\n",
    "x21 = (-theta[0]-theta[1]*x11)/theta[2]\n",
    "x22 = (-theta[0]-theta[1]*x12)/theta[2]\n",
    "plt.plot((x11,x12),(x21,x22),'b-',label=\"Logistic Regression\")\n",
    "\n",
    "# Quadratic Programming\n",
    "x11 = 6\n",
    "x12 = 10.5\n",
    "x21 = (-w[0]*x11-b)/w[1]\n",
    "x22 = (-w[0]*x12-b)/w[1]\n",
    "plt.plot((x11,x12),(x21,x22),'y-',label=\"Quadratic Programming\")\n",
    "\n",
    "# Red margin: wT.x + b = -1\n",
    "x11 = 4.5\n",
    "x12 = 9\n",
    "x21 = (-w[0]*x11-b-1)/w[1]\n",
    "x22 = (-w[0]*x12-b-1)/w[1]\n",
    "plt.plot((x11,x12),(x21,x22),'k-')\n",
    "\n",
    "# Green margin: wT.x + b = 1\n",
    "x11 = 7.5\n",
    "x12 = 11.9\n",
    "x21 = (-w[0]*x11-b+1)/w[1]\n",
    "x22 = (-w[0]*x12-b+1)/w[1]\n",
    "plt.plot((x11,x12),(x21,x22),'k-')\n",
    "\n",
    "plt.legend()\n",
    "plt.show()"
   ]
  }
 ],
 "metadata": {
  "kernelspec": {
   "display_name": "Python 3 (ipykernel)",
   "language": "python",
   "name": "python3"
  },
  "language_info": {
   "codemirror_mode": {
    "name": "ipython",
    "version": 3
   },
   "file_extension": ".py",
   "mimetype": "text/x-python",
   "name": "python",
   "nbconvert_exporter": "python",
   "pygments_lexer": "ipython3",
   "version": "3.9.7"
  }
 },
 "nbformat": 4,
 "nbformat_minor": 4
}
