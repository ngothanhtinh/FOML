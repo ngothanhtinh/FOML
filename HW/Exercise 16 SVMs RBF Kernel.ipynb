{
 "cells": [
  {
   "cell_type": "markdown",
   "id": "4da91dc7-1281-49b5-accb-3e5482baa855",
   "metadata": {},
   "source": [
    "### Support Vector Machines (SVMs) RBF Kernel"
   ]
  },
  {
   "cell_type": "code",
   "execution_count": 1,
   "id": "868c08f9-35ee-4705-bf08-54388c78d04b",
   "metadata": {},
   "outputs": [],
   "source": [
    "import numpy as np\n",
    "import matplotlib\n",
    "import matplotlib.pyplot as plt\n",
    "from tqdm.notebook import tqdm_notebook as tqdm\n",
    "import time\n",
    "import cvxopt"
   ]
  },
  {
   "cell_type": "code",
   "execution_count": 2,
   "id": "ad840463-3af8-4478-9622-f82af66c62d8",
   "metadata": {},
   "outputs": [
    {
     "data": {
      "image/png": "[encoded data removed]",
      "text/plain": [
       "<Figure size 720x576 with 1 Axes>"
      ]
     },
     "metadata": {
      "needs_background": "light"
     },
     "output_type": "display_data"
    }
   ],
   "source": [
    "# Synthenic data\n",
    "m_ = 100\n",
    "\n",
    "mu = np.array([5,8])\n",
    "sigma = np.array([[5,0],[0,5]])\n",
    "X1 = np.random.multivariate_normal(mu,sigma,m_)\n",
    "\n",
    "phi = np.random.uniform(0,2*np.pi,m_).reshape(-1,1)\n",
    "r = 10 + np.random.uniform(0,5,m_).reshape(-1,1)\n",
    "X2 = np.concatenate((r*np.cos(phi)+mu[0],r*np.sin(phi)+mu[1]),1)\n",
    "\n",
    "plt.figure(figsize = (10,8))\n",
    "plt.plot(X1[:,0],X1[:,1],'ro',label='Class 0')\n",
    "plt.plot(X2[:,0],X2[:,1],'bo',label='Class 1')\n",
    "plt.legend()\n",
    "plt.show()"
   ]
  },
  {
   "cell_type": "markdown",
   "id": "f44c92f6-5d5d-4d7a-a98c-0314f5da2e13",
   "metadata": {},
   "source": [
    "**Kernel**\n",
    "\n",
    "\n",
    "- Linear Kernel: \n",
    "\n",
    "$$\\mathcal k(x,x^{'}) = x_{1}x_{1}^{'}+x_{2}x_{2}^{'}+...+x_{n}x_{n}^{'}$$\n",
    "- Polynomial Kernel: \n",
    "\n",
    "$$\\mathcal k(x,x^{'}) = x_{1}^{2}x_{1}^{'2}+x_{2}^{2}x_{2}^{'2}+...+x_{n}^{2}x_{n}^{'2}$$\n",
    "- RBF Kernel (Radial Basis Function): \n",
    "\n",
    "$$\\mathcal k(x,x^{'}) = \\mathrm{e}^{\\frac{-||x-x^{'}||^{2}}{2\\sigma^{2}}}$$\n",
    "\n",
    "$$K = \\underbrace{\\begin{vmatrix}K(x^{1},x^{1}) & K(x^{1},x^{2}) & .. & K(x^{1},x^{m}) \\\\K(x^{2},x^{1}) & K(x^{2},x^{2}) & .. & K(x^{2},x^{m})\\\\: & :& :\\\\K(x^{m},x^{1}) & K(x^{m},x^{2}) & .. & K(x^{m},x^{m})\\end{vmatrix}}_{m \\times m} $$\n"
   ]
  },
  {
   "cell_type": "markdown",
   "id": "ae6f0d01-cb6f-4056-a0a1-d4d57d153db3",
   "metadata": {},
   "source": [
    "**SVMs model**"
   ]
  },
  {
   "cell_type": "markdown",
   "id": "b6c7174f-9c12-4bf6-a617-e1779edaf238",
   "metadata": {},
   "source": [
    "- Training set: The data are pairs $(\\mathbf{x}^{(i)},y^{(i)})$ with $\\mathbf{x}^{(i)} \\in \\mathbb{R}^n$ and $y^{(i)} \\in \\{-1,1\\}$.\n",
    "\n",
    "$$\n",
    "2D: \\mathbf{X} = \\begin{vmatrix}x_{1}^{1} & x_{2}^{1} \\\\x_{1}^{2} & x_{2}^{2}\\\\: & :\\\\x_{1}^{m} & x_{2}^{m}\\end{vmatrix} , \\mathbf{y} = \\begin{vmatrix} -1\\\\-1\\\\:\\\\1\\end{vmatrix}\n",
    "$$\n",
    "\n",
    "- Structure of model:\n",
    "\n",
    "$$h_{\\mathbf{w},b}(\\mathbf{x}) = \\begin{cases} 1 & \\text{if} \\; \\mathbf{w}^\\top \\mathbf{x} + b > 0 \\\\ -1 & \\text{otherwise} \\end{cases}$$\n",
    "\n",
    "- Cost function:\n",
    "$$\\mathbf{w}^*,b^* = \\mathrm{argmax}_{\\mathbf{w},b} \\gamma,$$\n",
    "\n",
    "    where $\\gamma$ is the minimum geometric margin for the training data:\n",
    "    $$\\gamma = \\min_i \\gamma^{(i)}$$\n",
    "    \n",
    "    and $\\gamma^{(i)}$ is the geometric margin for training example $i$, i.e., the signed distance of $\\mathbf{x}^{(i)}$ from the decision boundary,\n",
    "  with positive distances indicating that the point is on the correct side of the boundary and negative distances indicating that the point is on the\n",
    "  incorrect side of the boundary:\n",
    "  $$\\gamma^{(i)} = y^{(i)}\\left( \\left( \\frac{\\mathbf{w}}{\\|\\mathbf{w}\\|} \\right)^\\top \\mathbf{x}^{(i)} + \\frac{b}{\\| \\mathbf{w}\\|} \\right). $$\n",
    "\n",
    "- Optimal solution:\n",
    "\n",
    "$$ \\mathcal W(\\alpha) = \\min_{\\alpha} \\frac{1}{2} \\sum_{i=1}^{m}\\sum_{j=1}^{m}\\alpha_{i}\\alpha_{j}y^{(i)}y^{(j)}<x^{(i)},x^{(j)}> - \\sum_{i=1}^{m}\\alpha_{i} $$\n",
    "$$\\text{Such that: $-\\alpha_{i} \\le 0, i \\in 1...m \\\\ \\sum_{i=1}^{m}\\alpha_{i}y^{(i)} = 0 $}$$\n",
    "\n",
    "$$\n",
    "Q=y^{(i)}y^{(j)}\\mathcal k(x,x^{'}) ; \n",
    "c = \\underbrace{\\begin{vmatrix} -1\\\\-1\\\\:\\\\-1\\end{vmatrix}}_{m \\times 1} ; \n",
    "A = \\underbrace{\\begin{vmatrix}-1 & 0 & .. & 0 \\\\0 & -1 & .. & 0\\\\: & :& :\\\\0 & 0 & .. & -1\\end{vmatrix}}_{m \\times m} ; \n",
    "b =\\underbrace{\\begin{vmatrix}0\\\\0 \\\\:\\\\0\\end{vmatrix}}_{m \\times 1} ; \n",
    "E = \\underbrace{\\begin{vmatrix}y_{1} & y_{2} & .. & y_{m}\\end{vmatrix}}_{1 \\times m} ; d = 0\n",
    "$$"
   ]
  },
  {
   "cell_type": "markdown",
   "id": "d1db270d-9595-4832-94f5-b7bbc23d22b0",
   "metadata": {},
   "source": [
    "**General Quadratic Programming**\n",
    "$$x^{*} = arg \\min_{x}\\frac{1}{2}x^{T}Qx+c^{T}x+r $$ $$\\text{Subject to : $Ax \\leq b\\\\ Ex = d$}$$\n",
    "- **cvxopt**.solvers.qp(P,q,G,h,A,b) find the **sol['x']**"
   ]
  },
  {
   "cell_type": "markdown",
   "id": "78c2db85-5411-4f13-b28f-c195e5edcc64",
   "metadata": {},
   "source": [
    "**Find b**:\n",
    "\n",
    "$\\mathcal S \\small \\text{ is the set of indexes of the support vectors: } \\mathcal S = \\{ i \\in 1..m | \\alpha_{i} > 0 \\}; N_{\\mathcal S} = len(\\mathcal S)$\n",
    "\n",
    "$$b =\\frac{1}{N_{\\mathcal S}}\\sum_{i \\in \\mathcal S} \\left(y^{(i)} - \\sum_{j \\in \\mathcal S}\\alpha_{j}y^{(j)} \\mathcal k(x,x^{'}) \\right)$$"
   ]
  },
  {
   "cell_type": "code",
   "execution_count": 3,
   "id": "b34c41f3-5d9e-44b3-8346-fb2ca114c961",
   "metadata": {},
   "outputs": [],
   "source": [
    "# Training set\n",
    "X = np.concatenate((X1,X2))\n",
    "y = np.concatenate((-np.ones((X1.shape[0],1)),np.ones((X1.shape[0],1))))"
   ]
  },
  {
   "cell_type": "code",
   "execution_count": 15,
   "id": "4aa664e6-1152-4a8d-801e-74bd5e1fd591",
   "metadata": {},
   "outputs": [],
   "source": [
    "# SVMs model\n",
    "def rbf_kernel (X,sigma):\n",
    "    m = X.shape[0]\n",
    "    K = np.zeros((m,m))\n",
    "    for i in range (m):\n",
    "        for j in range (m):\n",
    "            K[i,j] = (X[i,:]-X[j,:])@(X[i,:]-X[j,:])\n",
    "    K = np.exp(-K/(2*sigma**2))\n",
    "    return K\n",
    "\n",
    "def set_param(X,y,sigma):\n",
    "    m = X.shape[0]\n",
    "    Q = (y@y.T)*rbf_kernel(X,sigma)\n",
    "    c = - np.ones((m,1))\n",
    "    A = -np.eye(m)\n",
    "    b = np.zeros((m,1))\n",
    "    E = y.T\n",
    "    d = np.zeros((1,1))\n",
    "    return Q, c, A, b, E, d\n",
    "\n",
    "def cvxopt_solvers_qp(Q,c,A=None,b=None,E=None,d=None):\n",
    "    Q = .5*(Q+Q.T) # make Q is symmetric\n",
    "    args = [cvxopt.matrix(Q),cvxopt.matrix(c)]\n",
    "    if A is not None:\n",
    "        args.extend([cvxopt.matrix(A),cvxopt.matrix(b)])\n",
    "    if E is not None:\n",
    "        args.extend([cvxopt.matrix(E),cvxopt.matrix(d)])\n",
    "    cvxopt.solvers.options['show_progress'] = False\n",
    "    sol = cvxopt.solvers.qp(*args)\n",
    "    return np.array(sol['x']).reshape(Q.shape[1])\n",
    "\n",
    "def svms_fit(X,y,sigma):\n",
    "    Q,c,A,b,E,d = set_param(X,y,sigma)\n",
    "    opt_params = cvxopt_solvers_qp(Q,c,A,b,E,d)\n",
    "    return opt_params \n",
    "\n",
    "def find_b (X,y,opt_params,sigma):\n",
    "    S = np.where(opt_params>1e-5)[0] #[0] make S become a numpy array\n",
    "    X_s = X[S,:]\n",
    "    y_s = y[S]\n",
    "    opt_params_s = opt_params[S].reshape(-1,1)\n",
    "    b = (y_s - ((opt_params_s*y_s).T*rbf_kernel(X_s,sigma)).sum(axis=1,keepdims=True)).mean()\n",
    "    print('Optimal Solution: b=',b)\n",
    "    return b\n",
    "\n",
    "def rbf_kernel_(x,xprime,sigma):\n",
    "    return np.exp(-(x-xprime)@(x-xprime)/(2*sigma**2))\n",
    "\n",
    "def predict (x,X,y,opt_params,b,sigma):\n",
    "    results = np.zeros((x.shape[0],1))\n",
    "    for i in range (x.shape[0]):\n",
    "        results[i] = 0\n",
    "        for j in range (X.shape[0]):\n",
    "            results[i,0] += opt_params[j]*y[j,0]*rbf_kernel_(x[i,:],X[j,:],sigma)\n",
    "        results[i] += b\n",
    "    return np.sign(results)\n",
    "\n",
    "def accuracy(X,y,opt_params,b,sigma):\n",
    "    preds = predict(X,X,y,opt_params,b,sigma)\n",
    "    acc = (preds == y).sum()/y.shape[0]\n",
    "    return acc"
   ]
  },
  {
   "cell_type": "code",
   "execution_count": 16,
   "id": "ff500c79-4a46-4a7d-8bcd-409e08bfb25c",
   "metadata": {},
   "outputs": [
    {
     "name": "stdout",
     "output_type": "stream",
     "text": [
      "Optimal Solution: b= 0.5406297202590697\n"
     ]
    }
   ],
   "source": [
    "rbf_sigma = 1\n",
    "#fit model\n",
    "opt_params = svms_fit(X,y,sigma=rbf_sigma)\n",
    "\n",
    "# find b, w\n",
    "b = find_b(X,y,opt_params,sigma=rbf_sigma)"
   ]
  },
  {
   "cell_type": "code",
   "execution_count": 20,
   "id": "541bea79-0765-4922-b4ee-be266e550be4",
   "metadata": {},
   "outputs": [
    {
     "name": "stdout",
     "output_type": "stream",
     "text": [
      "Training Accuracy: 1.0\n"
     ]
    }
   ],
   "source": [
    "print('Training Accuracy:', accuracy(X,y,opt_params,b,sigma=rbf_sigma))"
   ]
  },
  {
   "cell_type": "markdown",
   "id": "a1f1c6a1-dec2-4d42-a061-703057262879",
   "metadata": {},
   "source": [
    "**SVMs decision regions**:"
   ]
  },
  {
   "cell_type": "code",
   "execution_count": 6,
   "id": "eeaafcbe-7cb1-422c-bc25-86412927ca13",
   "metadata": {},
   "outputs": [
    {
     "data": {
      "image/png": "[encoded data removed]",
      "text/plain": [
       "<Figure size 720x576 with 1 Axes>"
      ]
     },
     "metadata": {
      "needs_background": "light"
     },
     "output_type": "display_data"
    }
   ],
   "source": [
    "plt.figure(figsize=(10,8))\n",
    "plt.plot(X[y.reshape(-1)==-1,0],X[y.reshape(-1)==-1,1],'ro',label='Class 1')\n",
    "plt.plot(X[y.reshape(-1)==1,0],X[y.reshape(-1)==1,1],'bo',label='Class 2')\n",
    "\n",
    "#color regions\n",
    "grid_x,grid_y = np.mgrid[-10:25:100j,-10:25:100j]\n",
    "grid_xy = np.vstack([grid_x.ravel(),grid_y.ravel()]).T\n",
    "z = predict(grid_xy,X,y,opt_params,b,sigma=rbf_sigma).reshape((100,100))\n",
    "plt.contourf(grid_x,grid_y,z,alpha = 0.2)\n",
    "plt.title('SVMs RBF Kernel')\n",
    "plt.legend()\n",
    "plt.show()"
   ]
  }
 ],
 "metadata": {
  "kernelspec": {
   "display_name": "Python 3 (ipykernel)",
   "language": "python",
   "name": "python3"
  },
  "language_info": {
   "codemirror_mode": {
    "name": "ipython",
    "version": 3
   },
   "file_extension": ".py",
   "mimetype": "text/x-python",
   "name": "python",
   "nbconvert_exporter": "python",
   "pygments_lexer": "ipython3",
   "version": "3.9.7"
  }
 },
 "nbformat": 4,
 "nbformat_minor": 5
}
