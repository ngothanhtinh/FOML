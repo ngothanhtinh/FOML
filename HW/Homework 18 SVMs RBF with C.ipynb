{
 "cells": [
  {
   "cell_type": "markdown",
   "metadata": {
    "id": "OENtD04yl9jc"
   },
   "source": [
    "## Exercise 18"
   ]
  },
  {
   "cell_type": "code",
   "execution_count": null,
   "metadata": {
    "id": "pQICJIKLl3Ax"
   },
   "outputs": [],
   "source": [
    "import numpy as np\n",
    "import matplotlib.pyplot as plt\n",
    "import cvxopt"
   ]
  },
  {
   "cell_type": "code",
   "execution_count": null,
   "metadata": {
    "colab": {
     "base_uri": "https://localhost:8080/",
     "height": 390
    },
    "id": "TZ3iXCvomVyF",
    "outputId": "23cd89fe-68ca-469a-d010-60d973394da7"
   },
   "outputs": [
    {
     "data": {
      "image/png": "[encoded data removed]",
      "text/plain": [
       "<Figure size 576x432 with 1 Axes>"
      ]
     },
     "metadata": {
      "needs_background": "light"
     },
     "output_type": "display_data"
    }
   ],
   "source": [
    "# Synthetic data\n",
    "m_=200\n",
    "mu = np.array([12, 8])\n",
    "sigma_ = np.array([[9,0],[0,9]])\n",
    "X1 = np.random.multivariate_normal(mu,sigma_,m_)\n",
    "\n",
    "phi = np.random.uniform(0,2*np.pi,m_).reshape(-1,1)\n",
    "r = 6 + np.random.uniform(0,5,m_).reshape(-1,1)\n",
    "X2 = np.concatenate((r*np.cos(phi)+mu[0],r*np.sin(phi)+mu[1]),1)\n",
    "\n",
    "\n",
    "\n",
    "plt.figure(figsize=(8,6))\n",
    "plt.plot(X1[:,0],X1[:,1],'ro',label ='Class 0')\n",
    "plt.plot(X2[:,0],X2[:,1],'bo',label ='Class 1')\n",
    "plt.title('Synthetic data')\n",
    "plt.legend()\n",
    "plt.show()"
   ]
  },
  {
   "cell_type": "code",
   "execution_count": null,
   "metadata": {
    "id": "dNt1vW8DmV1X"
   },
   "outputs": [],
   "source": [
    "# Trainning data\n",
    "X = np.concatenate((X1,X2),0)\n",
    "y = np.concatenate((-np.ones((m_,1)),np.ones((m_,1))),0)\n",
    "m = X.shape[0]\n",
    "n = np.unique(y).shape[0]"
   ]
  },
  {
   "cell_type": "code",
   "execution_count": null,
   "metadata": {
    "id": "Q_JW-geNpArj"
   },
   "outputs": [],
   "source": [
    "# Split training data to train set and validation set\n",
    "def train_val_split(X,y):\n",
    "  m = X.shape[0]\n",
    "  order = np.arange(m)\n",
    "  np.random.shuffle(order)\n",
    "  m_train = int(0.8*m)\n",
    "  m_val = m - m_train\n",
    "  train_ind = order[:m_train]\n",
    "  val_ind = order[m_train:]\n",
    "  X_train = X[train_ind,:]\n",
    "  y_train = y[train_ind,:]\n",
    "  X_val = X[val_ind,:]\n",
    "  y_val = y[val_ind,:] \n",
    "  return X_train,y_train,X_val,y_val\n",
    "X_train,y_train,X_val,y_val=train_val_split(X,y)"
   ]
  },
  {
   "cell_type": "markdown",
   "metadata": {
    "id": "jncfKvr5qroA"
   },
   "source": [
    "#### **Use train set to build model**"
   ]
  },
  {
   "cell_type": "markdown",
   "metadata": {
    "id": "dxG9SWJDsxP-"
   },
   "source": [
    "**Kernel:**\n",
    "\n",
    "$$\\small \\text{RBF Kernel (Radial Basis Function): $\\mathcal k(x,x^{'}) = \\mathrm{e}^{\\frac{-||x-x^{'}||^{2}}{2\\sigma^{2}}} \\\\ \n",
    "K = \\underbrace{\\begin{vmatrix}K(x^{1},x^{1}) & K(x^{1},x^{2}) & .. & K(x^{1},x^{m}) \\\\K(x^{2},x^{1}) & K(x^{2},x^{2}) & .. & K(x^{2},x^{m})\\\\: & :& :\\\\K(x^{m},x^{1}) & K(x^{m},x^{2}) & .. & K(x^{m},x^{m})\\end{vmatrix}}_{m \\times m} $}$$"
   ]
  },
  {
   "cell_type": "code",
   "execution_count": null,
   "metadata": {
    "id": "bnPCVHdhqfZR"
   },
   "outputs": [],
   "source": [
    "# RBF Kernel\n",
    "def rbf_kernel(X,sigma):\n",
    "  m = X.shape[0]\n",
    "  K = np.ones((m,m))\n",
    "  for i in range(m):\n",
    "    for j in range(m):\n",
    "      K[i,j]=(X[i,:]-X[j,:])@(X[i,:]-X[j,:])\n",
    "  K = np.exp(-K/(2*sigma**2))\n",
    "  return K"
   ]
  },
  {
   "cell_type": "markdown",
   "metadata": {
    "id": "4i2UnFeNsvyA"
   },
   "source": [
    "**Dual Lagrangian Optimization with Slack variable:**\n",
    "$$ \\mathcal W(\\alpha) = \\min_{\\alpha} \\frac{1}{2} \\sum_{i=1}^{m}\\sum_{j=1}^{m}\\alpha_{i}\\alpha_{j}y^{(i)}y^{(j)}\\mathcal k(x,x^{'}) - \\sum_{i=1}^{m}\\alpha_{i} $$\n",
    "$$\\text{Such that: $0 \\le \\alpha_{i} \\le C, i \\in 1...m \\\\ \\sum_{i=1}^{m}\\alpha_{i}y^{(i)} = 0 $}$$\n",
    "\n",
    "$$\n",
    "Q=y^{(i)}y^{(j)}\\mathcal k(x,x^{'}) ; \n",
    "c = \\underbrace{\\begin{vmatrix} -1\\\\-1\\\\:\\\\-1\\end{vmatrix}}_{m \\times 1} ; \n",
    "A = \\underbrace{\\begin{vmatrix}-1 & 0 & .. & 0 \\\\0 & -1 & .. & 0\\\\: & :& :\\\\0 & 0 & .. & -1\\\\1 & 0 & .. & 0 \\\\0 & 1 & .. & 0\\\\: & :& :\\\\0 & 0 & .. & 1\\end{vmatrix}}_{2m \\times m} ; \n",
    "b =\\underbrace{\\begin{vmatrix}0\\\\0 \\\\:\\\\0\\\\C\\\\C \\\\:\\\\C\\end{vmatrix}}_{2m \\times 1} ; \n",
    "E = \\underbrace{\\begin{vmatrix}y_{1} & y_{2} & .. & y_{m}\\end{vmatrix}}_{1 \\times m} ; d = 0\n",
    "$$"
   ]
  },
  {
   "cell_type": "code",
   "execution_count": null,
   "metadata": {
    "id": "VUGOeytZqfQT"
   },
   "outputs": [],
   "source": [
    "# Set Q,c,A,b,E,d\n",
    "sigma = 1\n",
    "C = 2\n",
    "def set_param(X,y,sigma,C):\n",
    "  m = X.shape[0]\n",
    "  Q = (y@y.T)*rbf_kernel(X,sigma)\n",
    "  c = -np.ones((m,1))\n",
    "  A = np.concatenate((-np.eye(m),np.eye(m)),0)\n",
    "  b = np.concatenate((np.zeros((m,1)),np.ones((m,1))*C),0)\n",
    "  E = y.T\n",
    "  d = np.zeros((1,1))\n",
    "  return Q,c,A,b,E,d\n",
    "Q,c,A,b,E,d = set_param(X_train,y_train,sigma,C)"
   ]
  },
  {
   "cell_type": "markdown",
   "metadata": {
    "id": "UhBgQ4tXvBMz"
   },
   "source": [
    "**General Quadratic Programming**\n",
    "$$x^{*} = arg \\min_{x}\\frac{1}{2}x^{T}Qx+c^{T}x+r $$ $$\\text{Subject to : $Ax \\leq b\\\\ Ex = d$}$$\n",
    "- **cvxopt**.solvers.qp(P,q,G,h,A,b) find the **sol['x']**"
   ]
  },
  {
   "cell_type": "code",
   "execution_count": null,
   "metadata": {
    "id": "l_gAmlIqu4ri"
   },
   "outputs": [],
   "source": [
    "# cvxopt.solvers.qp function\n",
    "def cvxopt_solvers_qp(Q,c,A=None,b=None,E=None,d=None):\n",
    "    Q = .5*(Q+Q.T) # make Q is symmetric\n",
    "    args = [cvxopt.matrix(Q),cvxopt.matrix(c)]\n",
    "    if A is not None:\n",
    "        args.extend([cvxopt.matrix(A),cvxopt.matrix(b)])\n",
    "        if E is not None:\n",
    "            args.extend([cvxopt.matrix(E),cvxopt.matrix(d)])\n",
    "    cvxopt.solvers.options['show_progress'] = False\n",
    "    sol = cvxopt.solvers.qp(*args)\n",
    "    return np.array(sol['x']).reshape((Q.shape[1],))\n",
    "opt_params = cvxopt_solvers_qp(Q,c,A,b,E,d)"
   ]
  },
  {
   "cell_type": "markdown",
   "metadata": {
    "id": "J7UK063V1-7P"
   },
   "source": [
    "**Find b**:\n",
    "\n",
    "$\\mathcal S \\small \\text{ is the set of indexes of the support vectors: } \\mathcal S = \\{ i \\in 1..m | \\alpha_{i} > 0 \\}; N_{\\mathcal S} = len(\\mathcal S)$\n",
    "\n",
    "$$b =\\frac{1}{N_{\\mathcal S}}\\sum_{i \\in \\mathcal S} \\left(y^{(i)} - \\sum_{j \\in \\mathcal S}\\alpha_{j}y^{(j)} \\mathcal k(x,x^{'}) \\right)$$"
   ]
  },
  {
   "cell_type": "code",
   "execution_count": null,
   "metadata": {
    "id": "WpL6K74Hu4vV"
   },
   "outputs": [],
   "source": [
    "# Find b from opt_params\n",
    "def find_b(X,y,alpha,sigma):\n",
    "  S = np.where(alpha[alpha>1e-5])[0]\n",
    "  X_s = X[S,:]\n",
    "  y_s = y[S]\n",
    "  alpha_s = alpha[S].reshape(-1,1)\n",
    "  b = (y_s - ((alpha_s*y_s).T*rbf_kernel(X_s,sigma)).sum(axis=1,keepdims=True)).mean()\n",
    "  return b\n",
    "b = find_b(X_train,y_train,opt_params,sigma)"
   ]
  },
  {
   "cell_type": "markdown",
   "metadata": {
    "id": "hsU4T1NM3U-i"
   },
   "source": [
    "**Make the prediction**\n",
    "$$\\mathcal h_{w,b}(x) = \n",
    "\\begin{cases}\n",
    "+ 1 \\quad \\text{$w^{T}x + b \\ge 0$} \\\\ \n",
    "-1 \\quad \\text{otherwise}\n",
    "\\end{cases} \\\\\n",
    "\\text{Note that: $ w^{T}x + b = \\sum_{i=1}^{m}\\alpha_{j}y^{(j)}\\mathcal K(x^{(i)},x^{(j)}) +b $}\n",
    "$$"
   ]
  },
  {
   "cell_type": "code",
   "execution_count": null,
   "metadata": {
    "id": "jivZJX_Gu4ys"
   },
   "outputs": [],
   "source": [
    "def rbf_kernel_(x,xprime,sigma):\n",
    "  return np.exp((-(x-xprime)@(x-xprime))/(2*sigma**2))\n",
    "\n",
    "def svm_predict(x,X,y,alpha,sigma):\n",
    "  results = np.zeros((x.shape[0],1))\n",
    "  for i in range(x.shape[0]):\n",
    "    results[i]=0\n",
    "    for j in range(X.shape[0]):\n",
    "      results[i]+=alpha[j]*y[j,0]*rbf_kernel_(x[i,:],X[j,:],sigma)\n",
    "    results[i]+= b\n",
    "  return np.where(results>=0,1,-1)"
   ]
  },
  {
   "cell_type": "code",
   "execution_count": null,
   "metadata": {
    "id": "fzaNgV8lZzRl"
   },
   "outputs": [],
   "source": [
    "def accuracy(X,y,alpha,sigma):\n",
    "  y_pred = svm_predict(X,X,y,alpha,sigma)\n",
    "  accuracy = (y_pred==y).mean()\n",
    "  return accuracy"
   ]
  },
  {
   "cell_type": "code",
   "execution_count": null,
   "metadata": {
    "colab": {
     "base_uri": "https://localhost:8080/"
    },
    "id": "7-Wz_jQZYtJo",
    "outputId": "4129a32d-60f2-4c62-9800-5f8a2a0bbc48"
   },
   "outputs": [
    {
     "name": "stdout",
     "output_type": "stream",
     "text": [
      "Train accuracy: 0.953125\n",
      "Validation accuracy: 0.8375\n"
     ]
    }
   ],
   "source": [
    "# Trainning accuracy\n",
    "train_accuracy = accuracy(X_train,y_train,opt_params,sigma)\n",
    "val_accuracy = accuracy(X_val,y_val,opt_params,sigma)\n",
    "print('Train accuracy:', train_accuracy)\n",
    "print('Validation accuracy:', val_accuracy)"
   ]
  },
  {
   "cell_type": "code",
   "execution_count": null,
   "metadata": {
    "id": "F9e6lHNkgYCu"
   },
   "outputs": [],
   "source": [
    "# Find best sigma & C using cross validation\n",
    "sigmas = np.linspace(1,3,3)\n",
    "Cs = np.linspace(1,10,10)\n",
    "\n",
    "def grid(X_train,y_train,X_val,y_val,sigmas,Cs):\n",
    "  train_acc = []\n",
    "  val_acc = []\n",
    "  params = []\n",
    "  for sigma in sigmas:\n",
    "    for C in Cs:\n",
    "      \n",
    "      Q,c,A,b,E,d = set_param(X_train,y_train,sigma,C)\n",
    "      opt_params = cvxopt_solvers_qp(Q,c,A,b,E,d)\n",
    "      b = find_b(X_train,y_train,opt_params,sigma)\n",
    "      \n",
    "      train_acc.append(accuracy(X_train,y_train,opt_params,sigma))\n",
    "      val_acc.append(accuracy(X_val,y_val,opt_params,sigma))\n",
    "      params.append([sigma,C]) \n",
    "  return np.array(train_acc),np.array(val_acc),np.array(params)\n",
    "train_acc,val_acc,params=grid(X_train,y_train,X_val,y_val,sigmas,Cs)"
   ]
  },
  {
   "cell_type": "code",
   "execution_count": null,
   "metadata": {
    "colab": {
     "base_uri": "https://localhost:8080/"
    },
    "id": "SapRPliShdpq",
    "outputId": "cde63f0f-84d8-4876-c22e-52378e8e0c59"
   },
   "outputs": [
    {
     "name": "stdout",
     "output_type": "stream",
     "text": [
      "Best Validation accuracy: 0.875 | Best Sigma: 1.0 | Best C 3.0\n"
     ]
    }
   ],
   "source": [
    "# Best sigma & C\n",
    "best_index = np.argmax(val_acc)\n",
    "best_val_acc = val_acc[best_index]\n",
    "best_sigma = params[best_index][0]\n",
    "best_C= params[best_index][1]\n",
    "print('Best Validation accuracy:',best_val_acc,'| Best Sigma:',best_sigma,'| Best C',best_C)"
   ]
  },
  {
   "cell_type": "code",
   "execution_count": null,
   "metadata": {
    "colab": {
     "base_uri": "https://localhost:8080/",
     "height": 300
    },
    "id": "kZRpJB1tZMWc",
    "outputId": "94f6592c-39ed-4ce1-fd58-eb27d09b025c"
   },
   "outputs": [
    {
     "data": {
      "text/plain": [
       "Text(0.5, 1.0, 'Sigma = 3')"
      ]
     },
     "execution_count": 74,
     "metadata": {},
     "output_type": "execute_result"
    },
    {
     "data": {
      "image/png": "[encoded data removed]",
      "text/plain": [
       "<Figure size 1872x360 with 3 Axes>"
      ]
     },
     "metadata": {
      "needs_background": "light"
     },
     "output_type": "display_data"
    }
   ],
   "source": [
    "import matplotlib\n",
    "matplotlib.rcParams['figure.figsize'] = [26,5]\n",
    "\n",
    "fig,(ax1,ax2,ax3) = plt.subplots(1,3)\n",
    "maxx=11\n",
    "minx=0\n",
    "maxy=1\n",
    "miny=0.75\n",
    "\n",
    "i = int(train_acc.shape[0]/3)\n",
    "ax1.plot(Cs,train_acc[:i],'b-')\n",
    "ax1.plot(Cs,val_acc[:i],'r-')\n",
    "if best_sigma == 1:\n",
    "  ax1.plot(best_C,best_val_acc,'go')\n",
    "ax1.set_xlim(minx,maxx)\n",
    "ax1.set_ylim(miny,maxy)\n",
    "ax1.set_title('Sigma = 1')\n",
    "\n",
    "\n",
    "ax2.plot(Cs,train_acc[i:2*i],'b-')\n",
    "ax2.plot(Cs,val_acc[i:2*i],'r-')\n",
    "if best_sigma == 2:\n",
    "  ax2.plot(best_C,best_val_acc,'go')\n",
    "ax2.set_xlim(minx,maxx)\n",
    "ax2.set_ylim(miny,maxy)\n",
    "ax2.set_title('Sigma = 2')\n",
    "\n",
    "ax3.plot(Cs,train_acc[2*i:],'b-')\n",
    "ax3.plot(Cs,val_acc[2*i:],'r-')\n",
    "if best_sigma == 3:\n",
    "  ax3.plot(best_C,best_val_acc,'go')\n",
    "ax3.set_xlim(minx,maxx)\n",
    "ax3.set_ylim(miny,maxy)\n",
    "ax3.set_title('Sigma = 3')"
   ]
  },
  {
   "cell_type": "code",
   "execution_count": null,
   "metadata": {
    "id": "82oMlQ-Ueblj"
   },
   "outputs": [],
   "source": [
    "# Plot the classification regions"
   ]
  }
 ],
 "metadata": {
  "colab": {
   "provenance": []
  },
  "kernelspec": {
   "display_name": "Python 3 (ipykernel)",
   "language": "python",
   "name": "python3"
  },
  "language_info": {
   "codemirror_mode": {
    "name": "ipython",
    "version": 3
   },
   "file_extension": ".py",
   "mimetype": "text/x-python",
   "name": "python",
   "nbconvert_exporter": "python",
   "pygments_lexer": "ipython3",
   "version": "3.9.7"
  }
 },
 "nbformat": 4,
 "nbformat_minor": 4
}
