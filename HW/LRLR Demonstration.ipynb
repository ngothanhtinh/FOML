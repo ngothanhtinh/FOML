{
 "cells": [
  {
   "cell_type": "markdown",
   "metadata": {},
   "source": [
    "## Locally Weighted Linear Regression (LWLR)"
   ]
  },
  {
   "cell_type": "code",
   "execution_count": 1,
   "metadata": {},
   "outputs": [],
   "source": [
    "import numpy as np\n",
    "import matplotlib.pyplot as plt\n",
    "import sympy"
   ]
  },
  {
   "cell_type": "code",
   "execution_count": 2,
   "metadata": {},
   "outputs": [
    {
     "data": {
      "image/png": "[encoded data removed]",
      "text/plain": [
       "<Figure size 432x288 with 1 Axes>"
      ]
     },
     "metadata": {
      "needs_background": "light"
     },
     "output_type": "display_data"
    }
   ],
   "source": [
    "# Generate some data\n",
    "X = np.random.uniform(0, 4*np.pi,100).reshape(100,1)\n",
    "X =np.concatenate((np.ones((100,1)), X),1)\n",
    "\n",
    "y = (np.cos(X[:,1:2]) + np.random.normal(0,0.5,(100,1))).reshape(100,1)\n",
    "\n",
    "# plot the data\n",
    "plt.plot(X[:,1],y,'ro')\n",
    "plt.title('Synthetic data')\n",
    "plt.xlabel('Input X')\n",
    "plt.ylabel('Output y')\n",
    "plt.show()"
   ]
  },
  {
   "cell_type": "code",
   "execution_count": 15,
   "metadata": {},
   "outputs": [],
   "source": [
    "# split training set into train and validation partitions\n",
    "\n",
    "m = X.shape[0]\n",
    "order = np.arange(m)\n",
    "np.random.shuffle(order)\n",
    "m_train = int(0.8*m)\n",
    "m_val = m - m_train\n",
    "train_indices = order[m_train:]\n",
    "val_indices = order[:-m_train]\n",
    "X_train = X[train_indices,:]\n",
    "y_train = y[train_indices,:]\n",
    "X_val = X[val_indices,:]\n",
    "y_val = y[val_indices,:]"
   ]
  },
  {
   "cell_type": "code",
   "execution_count": 13,
   "metadata": {},
   "outputs": [],
   "source": [
    "# construct the LWLR predicton funtion\n",
    "\n",
    "def gaussian_kernel(X,x,tau):\n",
    "    # exp(-(xi-x)^2/(2 tau^2))\n",
    "    return np.exp(- (X[:,1:2] -x)*(X[:,1:2] -x)/(2*tau*tau))\n",
    "\n",
    "def weighted_linear_regression(X,y,w):\n",
    "    w = w.reshape(-1)\n",
    "    W = np.diag(w.reshape(-1))\n",
    "    return np.linalg.inv(X.T @ W @ X) @X.T @W @y\n",
    "\n",
    "\n",
    "# X : Training data inputs\n",
    "# y : traning data targets\n",
    "# tau: bandwidth of the kernel\n",
    "# x: querry point (the one the user wants us to predict for)\n",
    "def lwlr_predict(X,y,x,tau):\n",
    "    w = gaussian_kernel(X,x,tau)\n",
    "    theta = weighted_linear_regression(X,y,w)\n",
    "    yhat = np.array(([[1, x]]) @ theta)\n",
    "    return yhat[0,0]"
   ]
  },
  {
   "cell_type": "code",
   "execution_count": 19,
   "metadata": {},
   "outputs": [
    {
     "ename": "UnboundLocalError",
     "evalue": "local variable 'cost' referenced before assignment",
     "output_type": "error",
     "traceback": [
      "\u001b[0;31m---------------------------------------------------------------------------\u001b[0m",
      "\u001b[0;31mUnboundLocalError\u001b[0m                         Traceback (most recent call last)",
      "\u001b[0;32m<ipython-input-19-eca35f133011>\u001b[0m in \u001b[0;36m<module>\u001b[0;34m\u001b[0m\n\u001b[1;32m     13\u001b[0m \u001b[0;34m\u001b[0m\u001b[0m\n\u001b[1;32m     14\u001b[0m \u001b[0;32mfor\u001b[0m \u001b[0mtau\u001b[0m \u001b[0;32min\u001b[0m \u001b[0mtaus\u001b[0m\u001b[0;34m:\u001b[0m\u001b[0;34m\u001b[0m\u001b[0;34m\u001b[0m\u001b[0m\n\u001b[0;32m---> 15\u001b[0;31m     \u001b[0mval_costs\u001b[0m\u001b[0;34m.\u001b[0m\u001b[0mappend\u001b[0m\u001b[0;34m(\u001b[0m\u001b[0mlwlr_val_cost\u001b[0m\u001b[0;34m(\u001b[0m\u001b[0mX_train\u001b[0m\u001b[0;34m,\u001b[0m \u001b[0my_train\u001b[0m\u001b[0;34m,\u001b[0m \u001b[0mX_val\u001b[0m\u001b[0;34m,\u001b[0m \u001b[0my_val\u001b[0m\u001b[0;34m,\u001b[0m \u001b[0mtau\u001b[0m\u001b[0;34m)\u001b[0m\u001b[0;34m)\u001b[0m\u001b[0;34m\u001b[0m\u001b[0;34m\u001b[0m\u001b[0m\n\u001b[0m\u001b[1;32m     16\u001b[0m \u001b[0;34m\u001b[0m\u001b[0m\n\u001b[1;32m     17\u001b[0m \u001b[0mplt\u001b[0m\u001b[0;34m.\u001b[0m\u001b[0mplot\u001b[0m\u001b[0;34m(\u001b[0m\u001b[0mtaus\u001b[0m\u001b[0;34m,\u001b[0m\u001b[0mval_costs\u001b[0m\u001b[0;34m,\u001b[0m\u001b[0;34m'r-'\u001b[0m\u001b[0;34m)\u001b[0m\u001b[0;34m\u001b[0m\u001b[0;34m\u001b[0m\u001b[0m\n",
      "\u001b[0;32m<ipython-input-19-eca35f133011>\u001b[0m in \u001b[0;36mlwlr_val_cost\u001b[0;34m(X_train, y_train, X_val, y_val, tau)\u001b[0m\n\u001b[1;32m      5\u001b[0m     \u001b[0;32mfor\u001b[0m \u001b[0mi\u001b[0m \u001b[0;32min\u001b[0m \u001b[0mrange\u001b[0m\u001b[0;34m(\u001b[0m\u001b[0mm_val\u001b[0m\u001b[0;34m)\u001b[0m\u001b[0;34m:\u001b[0m\u001b[0;34m\u001b[0m\u001b[0;34m\u001b[0m\u001b[0m\n\u001b[1;32m      6\u001b[0m         \u001b[0myhat\u001b[0m \u001b[0;34m=\u001b[0m \u001b[0mlwlr_predict\u001b[0m\u001b[0;34m(\u001b[0m\u001b[0mX_train\u001b[0m\u001b[0;34m,\u001b[0m \u001b[0my_train\u001b[0m\u001b[0;34m,\u001b[0m \u001b[0mX_val\u001b[0m\u001b[0;34m[\u001b[0m\u001b[0mi\u001b[0m\u001b[0;34m,\u001b[0m\u001b[0;36m1\u001b[0m\u001b[0;34m]\u001b[0m\u001b[0;34m,\u001b[0m \u001b[0mtau\u001b[0m\u001b[0;34m)\u001b[0m\u001b[0;34m\u001b[0m\u001b[0;34m\u001b[0m\u001b[0m\n\u001b[0;32m----> 7\u001b[0;31m         \u001b[0mcost\u001b[0m \u001b[0;34m=\u001b[0m \u001b[0mcost\u001b[0m \u001b[0;34m+\u001b[0m \u001b[0;34m(\u001b[0m\u001b[0myhat\u001b[0m \u001b[0;34m-\u001b[0m \u001b[0my_val\u001b[0m\u001b[0;34m[\u001b[0m\u001b[0mi\u001b[0m\u001b[0;34m,\u001b[0m\u001b[0;36m0\u001b[0m\u001b[0;34m]\u001b[0m\u001b[0;34m)\u001b[0m\u001b[0;34m**\u001b[0m\u001b[0;36m2\u001b[0m\u001b[0;34m\u001b[0m\u001b[0;34m\u001b[0m\u001b[0m\n\u001b[0m\u001b[1;32m      8\u001b[0m     \u001b[0mcost\u001b[0m \u001b[0;34m=\u001b[0m \u001b[0mcost\u001b[0m\u001b[0;34m/\u001b[0m\u001b[0mm_val\u001b[0m\u001b[0;34m\u001b[0m\u001b[0;34m\u001b[0m\u001b[0m\n\u001b[1;32m      9\u001b[0m     \u001b[0;32mreturn\u001b[0m \u001b[0mcost\u001b[0m\u001b[0;34m\u001b[0m\u001b[0;34m\u001b[0m\u001b[0m\n",
      "\u001b[0;31mUnboundLocalError\u001b[0m: local variable 'cost' referenced before assignment"
     ]
    }
   ],
   "source": [
    "# Find best value of tau using cross validation\n",
    "\n",
    "def lwlr_val_cost(X_train, y_train, X_val, y_val, tau):\n",
    "    m_val = X_val.shape[0]\n",
    "    for i in range(m_val):\n",
    "        yhat = lwlr_predict(X_train, y_train, X_val[i,1], tau)\n",
    "        cost = cost + (yhat - y_val[i,0])**2\n",
    "    cost = cost/m_val\n",
    "    return cost\n",
    "\n",
    "taus = np.arange(0.1, 5, 0.1)\n",
    "val_costs = []\n",
    "\n",
    "for tau in taus:\n",
    "    val_costs.append(lwlr_val_cost(X_train, y_train, X_val, y_val, tau))\n",
    "    \n",
    "\n",
    "plt.plot(taus,val_costs,'r-')\n",
    "plt.show()"
   ]
  },
  {
   "cell_type": "code",
   "execution_count": 14,
   "metadata": {},
   "outputs": [
    {
     "data": {
      "image/png": "[encoded data removed]",
      "text/plain": [
       "<Figure size 432x288 with 1 Axes>"
      ]
     },
     "metadata": {
      "needs_background": "light"
     },
     "output_type": "display_data"
    }
   ],
   "source": [
    "# Plot the prediction for different values of x along with the data\n",
    "tau = 0.5\n",
    "x_plot = np.arange(0, 4*np.pi, 0.1)\n",
    "y_plot = []\n",
    "for x in x_plot:\n",
    "    y_plot.append(lwlr_predict(X,y,x,tau))\n",
    "\n",
    "\n",
    "plt.plot(X[:,1],y,'ko')\n",
    "plt.plot(x_plot, y_plot,'r-',label='LWLR prediction')\n",
    "plt.title('Synthetic data')\n",
    "plt.xlabel('Input X')\n",
    "plt.ylabel('Output y')\n",
    "plt.show()"
   ]
  }
 ],
 "metadata": {
  "kernelspec": {
   "display_name": "Python 3",
   "language": "python",
   "name": "python3"
  },
  "language_info": {
   "codemirror_mode": {
    "name": "ipython",
    "version": 3
   },
   "file_extension": ".py",
   "mimetype": "text/x-python",
   "name": "python",
   "nbconvert_exporter": "python",
   "pygments_lexer": "ipython3",
   "version": "3.8.3"
  }
 },
 "nbformat": 4,
 "nbformat_minor": 4
}
