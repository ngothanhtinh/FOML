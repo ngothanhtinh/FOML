{
 "cells": [
  {
   "cell_type": "markdown",
   "id": "506fc2e5-bf0f-469a-98a3-f7e58346c384",
   "metadata": {},
   "source": [
    "### Exercise 24: PCA\n",
    "We can start with some simple 2D data that are easy to visualize, then we can do a larger dimensional dataset."
   ]
  },
  {
   "cell_type": "code",
   "execution_count": 23,
   "id": "7f0270fd-1c37-476e-a933-d9451a5fd55f",
   "metadata": {},
   "outputs": [],
   "source": [
    "import numpy as np\n",
    "import matplotlib.pyplot as plt"
   ]
  },
  {
   "cell_type": "code",
   "execution_count": 9,
   "id": "16189bd1-0e08-4d54-873f-eb8a134bdaba",
   "metadata": {},
   "outputs": [
    {
     "data": {
      "image/png": "[encoded data removed]",
      "text/plain": [
       "<Figure size 432x288 with 1 Axes>"
      ]
     },
     "metadata": {
      "needs_background": "light"
     },
     "output_type": "display_data"
    }
   ],
   "source": [
    "mu = np.array([10,10])\n",
    "cov = np.array([[100,30],[30,25]])\n",
    "\n",
    "X = np.random.multivariate_normal(mu,cov,200)\n",
    "\n",
    "plt.plot(X[:,0],X[:,1],'ro')\n",
    "plt.axis('equal')\n",
    "plt.show()"
   ]
  },
  {
   "cell_type": "code",
   "execution_count": 12,
   "id": "d0a73721-2d33-486c-8349-f77e122d2da1",
   "metadata": {},
   "outputs": [],
   "source": [
    "# Find the principal component analysis\n",
    "m = X.shape[0]\n",
    "sample_mean = X.mean(axis=0, keepdims = True)\n",
    "sample_covariance = 1/m * (X - sample_mean).T@(X - sample_mean)"
   ]
  },
  {
   "cell_type": "code",
   "execution_count": 14,
   "id": "437146f3-d4ec-49ce-828e-4587d82135cb",
   "metadata": {},
   "outputs": [
    {
     "name": "stdout",
     "output_type": "stream",
     "text": [
      "[100.25745365  14.04857974]\n",
      "[[ 0.9371563  -0.34890984]\n",
      " [ 0.34890984  0.9371563 ]]\n"
     ]
    }
   ],
   "source": [
    "# Take Eigenvectors/eigemvalues\n",
    "w,v = np.linalg.eig(sample_covariance)\n",
    "print(w)\n",
    "print(v)"
   ]
  },
  {
   "cell_type": "code",
   "execution_count": 15,
   "id": "5195044f-326d-418e-900b-ec3aadcf448e",
   "metadata": {},
   "outputs": [
    {
     "data": {
      "text/plain": [
       "0.0"
      ]
     },
     "execution_count": 15,
     "metadata": {},
     "output_type": "execute_result"
    }
   ],
   "source": [
    "v[:,0]@v[:,1]"
   ]
  },
  {
   "cell_type": "code",
   "execution_count": 16,
   "id": "58fe464a-ffb5-4840-9b86-2937514cd671",
   "metadata": {},
   "outputs": [],
   "source": [
    "w1 = v[:,0]\n",
    "w2 = v[:,1]"
   ]
  },
  {
   "cell_type": "code",
   "execution_count": 20,
   "id": "b57cc397-722b-4282-9e08-6529be56a299",
   "metadata": {},
   "outputs": [
    {
     "data": {
      "image/png": "[encoded data removed]",
      "text/plain": [
       "<Figure size 432x288 with 1 Axes>"
      ]
     },
     "metadata": {
      "needs_background": "light"
     },
     "output_type": "display_data"
    }
   ],
   "source": [
    "plt.plot(X[:,0],X[:,1],'ro')\n",
    "# Major axis of the data (eigenvector 1)\n",
    "plt.plot([sample_mean[0,0],sample_mean[0,0]+w1[0]*np.sqrt(w[0])],[sample_mean[0,1],sample_mean[0,1]+w1[1]*np.sqrt(w[0])],'b-')\n",
    "# Major axis of the data (eigenvector 2)\n",
    "plt.plot([sample_mean[0,0],sample_mean[0,0]+w2[0]*np.sqrt(w[1])],[sample_mean[0,1],sample_mean[0,1]+w2[1]*np.sqrt(w[1])],'b-')\n",
    "\n",
    "plt.axis('equal')\n",
    "plt.show()"
   ]
  },
  {
   "cell_type": "code",
   "execution_count": 25,
   "id": "ef84de60-0c28-4cb4-9537-ed0e8b5024bd",
   "metadata": {},
   "outputs": [
    {
     "data": {
      "text/plain": [
       "100.25745365197663"
      ]
     },
     "execution_count": 25,
     "metadata": {},
     "output_type": "execute_result"
    }
   ],
   "source": [
    "# Compress data by projecting onto w1\n",
    "projection = w1.reshape(1,2) @ (X - sample_mean).T\n",
    "np.std(projection)**2"
   ]
  },
  {
   "cell_type": "markdown",
   "id": "cf49a582-3831-4434-bf6a-eb760cc736db",
   "metadata": {},
   "source": [
    "### Real data: movie ratings"
   ]
  },
  {
   "cell_type": "code",
   "execution_count": 1,
   "id": "0e1840ec-731f-4dac-9512-82ed71c02b12",
   "metadata": {},
   "outputs": [],
   "source": [
    "import pandas as pd"
   ]
  },
  {
   "cell_type": "code",
   "execution_count": 3,
   "id": "9ddd7bb7-9c7c-416f-be23-d583e7ec4801",
   "metadata": {},
   "outputs": [],
   "source": [
    "# Load movies names and ratings\n",
    "movies = pd.read_csv('movies.csv')\n",
    "ratings = pd.read_csv('ratings.csv')\n",
    "ratings.drop(['timestamp'],axis=1,inplace=True)"
   ]
  },
  {
   "cell_type": "code",
   "execution_count": 5,
   "id": "89dec9a5-290b-4b24-a1f7-65ba3c48e83b",
   "metadata": {},
   "outputs": [
    {
     "data": {
      "text/html": [
       "<div>\n",
       "<style scoped>\n",
       "    .dataframe tbody tr th:only-of-type {\n",
       "        vertical-align: middle;\n",
       "    }\n",
       "\n",
       "    .dataframe tbody tr th {\n",
       "        vertical-align: top;\n",
       "    }\n",
       "\n",
       "    .dataframe thead th {\n",
       "        text-align: right;\n",
       "    }\n",
       "</style>\n",
       "<table border=\"1\" class=\"dataframe\">\n",
       "  <thead>\n",
       "    <tr style=\"text-align: right;\">\n",
       "      <th></th>\n",
       "      <th>userId</th>\n",
       "      <th>movieId</th>\n",
       "      <th>rating</th>\n",
       "    </tr>\n",
       "  </thead>\n",
       "  <tbody>\n",
       "    <tr>\n",
       "      <th>0</th>\n",
       "      <td>1</td>\n",
       "      <td>1</td>\n",
       "      <td>4.0</td>\n",
       "    </tr>\n",
       "    <tr>\n",
       "      <th>1</th>\n",
       "      <td>1</td>\n",
       "      <td>3</td>\n",
       "      <td>4.0</td>\n",
       "    </tr>\n",
       "    <tr>\n",
       "      <th>2</th>\n",
       "      <td>1</td>\n",
       "      <td>6</td>\n",
       "      <td>4.0</td>\n",
       "    </tr>\n",
       "    <tr>\n",
       "      <th>3</th>\n",
       "      <td>1</td>\n",
       "      <td>47</td>\n",
       "      <td>5.0</td>\n",
       "    </tr>\n",
       "    <tr>\n",
       "      <th>4</th>\n",
       "      <td>1</td>\n",
       "      <td>50</td>\n",
       "      <td>5.0</td>\n",
       "    </tr>\n",
       "  </tbody>\n",
       "</table>\n",
       "</div>"
      ],
      "text/plain": [
       "   userId  movieId  rating\n",
       "0       1        1     4.0\n",
       "1       1        3     4.0\n",
       "2       1        6     4.0\n",
       "3       1       47     5.0\n",
       "4       1       50     5.0"
      ]
     },
     "execution_count": 5,
     "metadata": {},
     "output_type": "execute_result"
    }
   ],
   "source": [
    "ratings.head()"
   ]
  },
  {
   "cell_type": "code",
   "execution_count": 6,
   "id": "7c0e4007-8735-4ff4-818c-36f9f74f2edc",
   "metadata": {},
   "outputs": [
    {
     "data": {
      "text/html": [
       "<div>\n",
       "<style scoped>\n",
       "    .dataframe tbody tr th:only-of-type {\n",
       "        vertical-align: middle;\n",
       "    }\n",
       "\n",
       "    .dataframe tbody tr th {\n",
       "        vertical-align: top;\n",
       "    }\n",
       "\n",
       "    .dataframe thead th {\n",
       "        text-align: right;\n",
       "    }\n",
       "</style>\n",
       "<table border=\"1\" class=\"dataframe\">\n",
       "  <thead>\n",
       "    <tr style=\"text-align: right;\">\n",
       "      <th></th>\n",
       "      <th>movieId</th>\n",
       "      <th>title</th>\n",
       "      <th>genres</th>\n",
       "    </tr>\n",
       "  </thead>\n",
       "  <tbody>\n",
       "    <tr>\n",
       "      <th>0</th>\n",
       "      <td>1</td>\n",
       "      <td>Toy Story (1995)</td>\n",
       "      <td>Adventure|Animation|Children|Comedy|Fantasy</td>\n",
       "    </tr>\n",
       "    <tr>\n",
       "      <th>1</th>\n",
       "      <td>2</td>\n",
       "      <td>Jumanji (1995)</td>\n",
       "      <td>Adventure|Children|Fantasy</td>\n",
       "    </tr>\n",
       "    <tr>\n",
       "      <th>2</th>\n",
       "      <td>3</td>\n",
       "      <td>Grumpier Old Men (1995)</td>\n",
       "      <td>Comedy|Romance</td>\n",
       "    </tr>\n",
       "    <tr>\n",
       "      <th>3</th>\n",
       "      <td>4</td>\n",
       "      <td>Waiting to Exhale (1995)</td>\n",
       "      <td>Comedy|Drama|Romance</td>\n",
       "    </tr>\n",
       "    <tr>\n",
       "      <th>4</th>\n",
       "      <td>5</td>\n",
       "      <td>Father of the Bride Part II (1995)</td>\n",
       "      <td>Comedy</td>\n",
       "    </tr>\n",
       "  </tbody>\n",
       "</table>\n",
       "</div>"
      ],
      "text/plain": [
       "   movieId                               title  \\\n",
       "0        1                    Toy Story (1995)   \n",
       "1        2                      Jumanji (1995)   \n",
       "2        3             Grumpier Old Men (1995)   \n",
       "3        4            Waiting to Exhale (1995)   \n",
       "4        5  Father of the Bride Part II (1995)   \n",
       "\n",
       "                                        genres  \n",
       "0  Adventure|Animation|Children|Comedy|Fantasy  \n",
       "1                   Adventure|Children|Fantasy  \n",
       "2                               Comedy|Romance  \n",
       "3                         Comedy|Drama|Romance  \n",
       "4                                       Comedy  "
      ]
     },
     "execution_count": 6,
     "metadata": {},
     "output_type": "execute_result"
    }
   ],
   "source": [
    "movies.head()"
   ]
  },
  {
   "cell_type": "code",
   "execution_count": 14,
   "id": "2322062a-fdc6-4c75-849c-6c5c9440cb2c",
   "metadata": {},
   "outputs": [],
   "source": [
    "# Transform into one dataset\n",
    "\n",
    "def replace_name(x):\n",
    "    return movies[movies['movieId']==x].title.values[0]"
   ]
  },
  {
   "cell_type": "code",
   "execution_count": null,
   "id": "c27c27f8-a57b-4beb-96d5-486155cb8db2",
   "metadata": {},
   "outputs": [],
   "source": [
    "ratings.movieId = ratings.movieId.map(replace_name)"
   ]
  },
  {
   "cell_type": "code",
   "execution_count": null,
   "id": "bc509e1a-83c2-4c44-9d69-6b3efacea6e8",
   "metadata": {},
   "outputs": [
    {
     "data": {
      "text/html": [
       "<div>\n",
       "<style scoped>\n",
       "    .dataframe tbody tr th:only-of-type {\n",
       "        vertical-align: middle;\n",
       "    }\n",
       "\n",
       "    .dataframe tbody tr th {\n",
       "        vertical-align: top;\n",
       "    }\n",
       "\n",
       "    .dataframe thead th {\n",
       "        text-align: right;\n",
       "    }\n",
       "</style>\n",
       "<table border=\"1\" class=\"dataframe\">\n",
       "  <thead>\n",
       "    <tr style=\"text-align: right;\">\n",
       "      <th></th>\n",
       "      <th>userId</th>\n",
       "      <th>movieId</th>\n",
       "      <th>rating</th>\n",
       "    </tr>\n",
       "  </thead>\n",
       "  <tbody>\n",
       "    <tr>\n",
       "      <th>0</th>\n",
       "      <td>1</td>\n",
       "      <td>Toy Story (1995)</td>\n",
       "      <td>4.0</td>\n",
       "    </tr>\n",
       "    <tr>\n",
       "      <th>1</th>\n",
       "      <td>1</td>\n",
       "      <td>Grumpier Old Men (1995)</td>\n",
       "      <td>4.0</td>\n",
       "    </tr>\n",
       "    <tr>\n",
       "      <th>2</th>\n",
       "      <td>1</td>\n",
       "      <td>Heat (1995)</td>\n",
       "      <td>4.0</td>\n",
       "    </tr>\n",
       "    <tr>\n",
       "      <th>3</th>\n",
       "      <td>1</td>\n",
       "      <td>Seven (a.k.a. Se7en) (1995)</td>\n",
       "      <td>5.0</td>\n",
       "    </tr>\n",
       "    <tr>\n",
       "      <th>4</th>\n",
       "      <td>1</td>\n",
       "      <td>Usual Suspects, The (1995)</td>\n",
       "      <td>5.0</td>\n",
       "    </tr>\n",
       "  </tbody>\n",
       "</table>\n",
       "</div>"
      ],
      "text/plain": [
       "   userId                      movieId  rating\n",
       "0       1             Toy Story (1995)     4.0\n",
       "1       1      Grumpier Old Men (1995)     4.0\n",
       "2       1                  Heat (1995)     4.0\n",
       "3       1  Seven (a.k.a. Se7en) (1995)     5.0\n",
       "4       1   Usual Suspects, The (1995)     5.0"
      ]
     },
     "execution_count": 17,
     "metadata": {},
     "output_type": "execute_result"
    }
   ],
   "source": [
    "ratings.head()"
   ]
  },
  {
   "cell_type": "code",
   "execution_count": 20,
   "id": "52483dde-fa83-4048-977a-75db11668737",
   "metadata": {},
   "outputs": [],
   "source": [
    "M = ratings.pivot_table(index=['userId'],columns=['movieId'],values='rating')"
   ]
  },
  {
   "cell_type": "code",
   "execution_count": 21,
   "id": "b5e6d94a-df86-4657-a0de-7149696c3de1",
   "metadata": {},
   "outputs": [
    {
     "data": {
      "text/plain": [
       "(610, 9719)"
      ]
     },
     "execution_count": 21,
     "metadata": {},
     "output_type": "execute_result"
    }
   ],
   "source": [
    "m = M.shape\n",
    "m"
   ]
  },
  {
   "cell_type": "code",
   "execution_count": 25,
   "id": "45c494b2-aee6-4461-997a-3e944843e9e1",
   "metadata": {},
   "outputs": [
    {
     "data": {
      "text/html": [
       "<div>\n",
       "<style scoped>\n",
       "    .dataframe tbody tr th:only-of-type {\n",
       "        vertical-align: middle;\n",
       "    }\n",
       "\n",
       "    .dataframe tbody tr th {\n",
       "        vertical-align: top;\n",
       "    }\n",
       "\n",
       "    .dataframe thead th {\n",
       "        text-align: right;\n",
       "    }\n",
       "</style>\n",
       "<table border=\"1\" class=\"dataframe\">\n",
       "  <thead>\n",
       "    <tr style=\"text-align: right;\">\n",
       "      <th>movieId</th>\n",
       "      <th>'71 (2014)</th>\n",
       "      <th>'Hellboy': The Seeds of Creation (2004)</th>\n",
       "      <th>'Round Midnight (1986)</th>\n",
       "      <th>'Salem's Lot (2004)</th>\n",
       "      <th>'Til There Was You (1997)</th>\n",
       "      <th>'Tis the Season for Love (2015)</th>\n",
       "      <th>'burbs, The (1989)</th>\n",
       "      <th>'night Mother (1986)</th>\n",
       "      <th>(500) Days of Summer (2009)</th>\n",
       "      <th>*batteries not included (1987)</th>\n",
       "      <th>...</th>\n",
       "      <th>Zulu (2013)</th>\n",
       "      <th>[REC] (2007)</th>\n",
       "      <th>[REC]² (2009)</th>\n",
       "      <th>[REC]³ 3 Génesis (2012)</th>\n",
       "      <th>anohana: The Flower We Saw That Day - The Movie (2013)</th>\n",
       "      <th>eXistenZ (1999)</th>\n",
       "      <th>xXx (2002)</th>\n",
       "      <th>xXx: State of the Union (2005)</th>\n",
       "      <th>¡Three Amigos! (1986)</th>\n",
       "      <th>À nous la liberté (Freedom for Us) (1931)</th>\n",
       "    </tr>\n",
       "    <tr>\n",
       "      <th>userId</th>\n",
       "      <th></th>\n",
       "      <th></th>\n",
       "      <th></th>\n",
       "      <th></th>\n",
       "      <th></th>\n",
       "      <th></th>\n",
       "      <th></th>\n",
       "      <th></th>\n",
       "      <th></th>\n",
       "      <th></th>\n",
       "      <th></th>\n",
       "      <th></th>\n",
       "      <th></th>\n",
       "      <th></th>\n",
       "      <th></th>\n",
       "      <th></th>\n",
       "      <th></th>\n",
       "      <th></th>\n",
       "      <th></th>\n",
       "      <th></th>\n",
       "      <th></th>\n",
       "    </tr>\n",
       "  </thead>\n",
       "  <tbody>\n",
       "    <tr>\n",
       "      <th>1</th>\n",
       "      <td>0.0</td>\n",
       "      <td>0.0</td>\n",
       "      <td>0.0</td>\n",
       "      <td>0.0</td>\n",
       "      <td>0.0</td>\n",
       "      <td>0.0</td>\n",
       "      <td>0.0</td>\n",
       "      <td>0.0</td>\n",
       "      <td>0.0</td>\n",
       "      <td>0.0</td>\n",
       "      <td>...</td>\n",
       "      <td>0.0</td>\n",
       "      <td>0.0</td>\n",
       "      <td>0.0</td>\n",
       "      <td>0.0</td>\n",
       "      <td>0.0</td>\n",
       "      <td>0.0</td>\n",
       "      <td>0.0</td>\n",
       "      <td>0.0</td>\n",
       "      <td>4.0</td>\n",
       "      <td>0.0</td>\n",
       "    </tr>\n",
       "    <tr>\n",
       "      <th>2</th>\n",
       "      <td>0.0</td>\n",
       "      <td>0.0</td>\n",
       "      <td>0.0</td>\n",
       "      <td>0.0</td>\n",
       "      <td>0.0</td>\n",
       "      <td>0.0</td>\n",
       "      <td>0.0</td>\n",
       "      <td>0.0</td>\n",
       "      <td>0.0</td>\n",
       "      <td>0.0</td>\n",
       "      <td>...</td>\n",
       "      <td>0.0</td>\n",
       "      <td>0.0</td>\n",
       "      <td>0.0</td>\n",
       "      <td>0.0</td>\n",
       "      <td>0.0</td>\n",
       "      <td>0.0</td>\n",
       "      <td>0.0</td>\n",
       "      <td>0.0</td>\n",
       "      <td>0.0</td>\n",
       "      <td>0.0</td>\n",
       "    </tr>\n",
       "    <tr>\n",
       "      <th>3</th>\n",
       "      <td>0.0</td>\n",
       "      <td>0.0</td>\n",
       "      <td>0.0</td>\n",
       "      <td>0.0</td>\n",
       "      <td>0.0</td>\n",
       "      <td>0.0</td>\n",
       "      <td>0.0</td>\n",
       "      <td>0.0</td>\n",
       "      <td>0.0</td>\n",
       "      <td>0.0</td>\n",
       "      <td>...</td>\n",
       "      <td>0.0</td>\n",
       "      <td>0.0</td>\n",
       "      <td>0.0</td>\n",
       "      <td>0.0</td>\n",
       "      <td>0.0</td>\n",
       "      <td>0.0</td>\n",
       "      <td>0.0</td>\n",
       "      <td>0.0</td>\n",
       "      <td>0.0</td>\n",
       "      <td>0.0</td>\n",
       "    </tr>\n",
       "    <tr>\n",
       "      <th>4</th>\n",
       "      <td>0.0</td>\n",
       "      <td>0.0</td>\n",
       "      <td>0.0</td>\n",
       "      <td>0.0</td>\n",
       "      <td>0.0</td>\n",
       "      <td>0.0</td>\n",
       "      <td>0.0</td>\n",
       "      <td>0.0</td>\n",
       "      <td>0.0</td>\n",
       "      <td>0.0</td>\n",
       "      <td>...</td>\n",
       "      <td>0.0</td>\n",
       "      <td>0.0</td>\n",
       "      <td>0.0</td>\n",
       "      <td>0.0</td>\n",
       "      <td>0.0</td>\n",
       "      <td>0.0</td>\n",
       "      <td>0.0</td>\n",
       "      <td>0.0</td>\n",
       "      <td>0.0</td>\n",
       "      <td>0.0</td>\n",
       "    </tr>\n",
       "    <tr>\n",
       "      <th>5</th>\n",
       "      <td>0.0</td>\n",
       "      <td>0.0</td>\n",
       "      <td>0.0</td>\n",
       "      <td>0.0</td>\n",
       "      <td>0.0</td>\n",
       "      <td>0.0</td>\n",
       "      <td>0.0</td>\n",
       "      <td>0.0</td>\n",
       "      <td>0.0</td>\n",
       "      <td>0.0</td>\n",
       "      <td>...</td>\n",
       "      <td>0.0</td>\n",
       "      <td>0.0</td>\n",
       "      <td>0.0</td>\n",
       "      <td>0.0</td>\n",
       "      <td>0.0</td>\n",
       "      <td>0.0</td>\n",
       "      <td>0.0</td>\n",
       "      <td>0.0</td>\n",
       "      <td>0.0</td>\n",
       "      <td>0.0</td>\n",
       "    </tr>\n",
       "  </tbody>\n",
       "</table>\n",
       "<p>5 rows × 9719 columns</p>\n",
       "</div>"
      ],
      "text/plain": [
       "movieId  '71 (2014)  'Hellboy': The Seeds of Creation (2004)  \\\n",
       "userId                                                         \n",
       "1               0.0                                      0.0   \n",
       "2               0.0                                      0.0   \n",
       "3               0.0                                      0.0   \n",
       "4               0.0                                      0.0   \n",
       "5               0.0                                      0.0   \n",
       "\n",
       "movieId  'Round Midnight (1986)  'Salem's Lot (2004)  \\\n",
       "userId                                                 \n",
       "1                           0.0                  0.0   \n",
       "2                           0.0                  0.0   \n",
       "3                           0.0                  0.0   \n",
       "4                           0.0                  0.0   \n",
       "5                           0.0                  0.0   \n",
       "\n",
       "movieId  'Til There Was You (1997)  'Tis the Season for Love (2015)  \\\n",
       "userId                                                                \n",
       "1                              0.0                              0.0   \n",
       "2                              0.0                              0.0   \n",
       "3                              0.0                              0.0   \n",
       "4                              0.0                              0.0   \n",
       "5                              0.0                              0.0   \n",
       "\n",
       "movieId  'burbs, The (1989)  'night Mother (1986)  \\\n",
       "userId                                              \n",
       "1                       0.0                   0.0   \n",
       "2                       0.0                   0.0   \n",
       "3                       0.0                   0.0   \n",
       "4                       0.0                   0.0   \n",
       "5                       0.0                   0.0   \n",
       "\n",
       "movieId  (500) Days of Summer (2009)  *batteries not included (1987)  ...  \\\n",
       "userId                                                                ...   \n",
       "1                                0.0                             0.0  ...   \n",
       "2                                0.0                             0.0  ...   \n",
       "3                                0.0                             0.0  ...   \n",
       "4                                0.0                             0.0  ...   \n",
       "5                                0.0                             0.0  ...   \n",
       "\n",
       "movieId  Zulu (2013)  [REC] (2007)  [REC]² (2009)  [REC]³ 3 Génesis (2012)  \\\n",
       "userId                                                                       \n",
       "1                0.0           0.0            0.0                      0.0   \n",
       "2                0.0           0.0            0.0                      0.0   \n",
       "3                0.0           0.0            0.0                      0.0   \n",
       "4                0.0           0.0            0.0                      0.0   \n",
       "5                0.0           0.0            0.0                      0.0   \n",
       "\n",
       "movieId  anohana: The Flower We Saw That Day - The Movie (2013)  \\\n",
       "userId                                                            \n",
       "1                                                      0.0        \n",
       "2                                                      0.0        \n",
       "3                                                      0.0        \n",
       "4                                                      0.0        \n",
       "5                                                      0.0        \n",
       "\n",
       "movieId  eXistenZ (1999)  xXx (2002)  xXx: State of the Union (2005)  \\\n",
       "userId                                                                 \n",
       "1                    0.0         0.0                             0.0   \n",
       "2                    0.0         0.0                             0.0   \n",
       "3                    0.0         0.0                             0.0   \n",
       "4                    0.0         0.0                             0.0   \n",
       "5                    0.0         0.0                             0.0   \n",
       "\n",
       "movieId  ¡Three Amigos! (1986)  À nous la liberté (Freedom for Us) (1931)  \n",
       "userId                                                                     \n",
       "1                          4.0                                        0.0  \n",
       "2                          0.0                                        0.0  \n",
       "3                          0.0                                        0.0  \n",
       "4                          0.0                                        0.0  \n",
       "5                          0.0                                        0.0  \n",
       "\n",
       "[5 rows x 9719 columns]"
      ]
     },
     "execution_count": 25,
     "metadata": {},
     "output_type": "execute_result"
    }
   ],
   "source": [
    "df1 = M.replace(np.nan,0,regex = True)\n",
    "df1.head()"
   ]
  },
  {
   "cell_type": "code",
   "execution_count": 29,
   "id": "70a54103-abfa-4f4c-9311-a5046f82b6d1",
   "metadata": {},
   "outputs": [],
   "source": [
    "# Normalize the data using standardization\n",
    "from sklearn.preprocessing import StandardScaler\n",
    "X_std = StandardScaler().fit_transform(df1)"
   ]
  },
  {
   "cell_type": "code",
   "execution_count": 32,
   "id": "a00e26d5-82e5-40e9-ae35-d1b2ef15ad42",
   "metadata": {},
   "outputs": [
    {
     "data": {
      "text/plain": [
       "(610, 9719)"
      ]
     },
     "execution_count": 32,
     "metadata": {},
     "output_type": "execute_result"
    }
   ],
   "source": [
    "X_std.shape"
   ]
  },
  {
   "cell_type": "code",
   "execution_count": 33,
   "id": "a49b6d9b-0eda-48f6-b07a-f6288c89fe2b",
   "metadata": {},
   "outputs": [
    {
     "data": {
      "text/plain": [
       "array([1., 1., 1., ..., 1., 1., 1.])"
      ]
     },
     "execution_count": 33,
     "metadata": {},
     "output_type": "execute_result"
    }
   ],
   "source": [
    "X_std.std(axis=0)"
   ]
  },
  {
   "cell_type": "code",
   "execution_count": 35,
   "id": "6e35627e-e5fc-4678-b7bd-f676d16586f0",
   "metadata": {},
   "outputs": [],
   "source": [
    "# Find the principal component analysis\n",
    "sample_mean = X_std.mean(axis=0, keepdims = True)\n",
    "sample_covariance =1/m[0]*(X_std - sample_mean).T@(X_std - sample_mean)"
   ]
  },
  {
   "cell_type": "code",
   "execution_count": 36,
   "id": "7d3668df-71da-466a-949d-912fd438ee53",
   "metadata": {},
   "outputs": [
    {
     "data": {
      "text/plain": [
       "(9719, 9719)"
      ]
     },
     "execution_count": 36,
     "metadata": {},
     "output_type": "execute_result"
    }
   ],
   "source": [
    "sample_covariance.shape"
   ]
  },
  {
   "cell_type": "code",
   "execution_count": 37,
   "id": "af5e784d-0c8f-4139-97fb-86c26d51a7c0",
   "metadata": {},
   "outputs": [],
   "source": [
    "# Take Eigenvectors/eigemvalues\n",
    "eig_vals,eig_vecs = np.linalg.eig(sample_covariance)"
   ]
  },
  {
   "cell_type": "code",
   "execution_count": null,
   "id": "65b06227-c9c6-4858-808d-f6e423f31ceb",
   "metadata": {},
   "outputs": [],
   "source": [
    "#sample_covariance = (X_std - sample_mean)@(X_std - sample_mean).T "
   ]
  },
  {
   "cell_type": "code",
   "execution_count": 38,
   "id": "c22fd348-a375-43bb-8d60-232f951a64c8",
   "metadata": {},
   "outputs": [
    {
     "data": {
      "text/plain": [
       "array([ 6.93495992e+02+0.j,  4.86421966e+02+0.j,  4.38269295e+02+0.j, ...,\n",
       "        3.93118930e-38+0.j,  1.80985375e-48+0.j, -8.03529811e-49+0.j])"
      ]
     },
     "execution_count": 38,
     "metadata": {},
     "output_type": "execute_result"
    }
   ],
   "source": [
    "eig_vals"
   ]
  },
  {
   "cell_type": "code",
   "execution_count": 41,
   "id": "9d86843e-c35f-4554-a769-d8d01d5b8f2d",
   "metadata": {},
   "outputs": [
    {
     "data": {
      "text/plain": [
       "array([-6.17879786e-03+0.j, -1.37389338e-04+0.j,  3.98116838e-05+0.j, ...,\n",
       "       -5.71402600e-03+0.j, -1.45210348e-02+0.j, -3.15495954e-05+0.j])"
      ]
     },
     "execution_count": 41,
     "metadata": {},
     "output_type": "execute_result"
    }
   ],
   "source": [
    "eig_vecs[:,0]"
   ]
  },
  {
   "cell_type": "code",
   "execution_count": 42,
   "id": "23eff06a-7581-4a0f-957b-a745b3591155",
   "metadata": {},
   "outputs": [
    {
     "data": {
      "text/plain": [
       "1864"
      ]
     },
     "execution_count": 42,
     "metadata": {},
     "output_type": "execute_result"
    }
   ],
   "source": [
    "eig_vecs[:,0].argmax()"
   ]
  },
  {
   "cell_type": "code",
   "execution_count": 44,
   "id": "97dedf5d-97c0-4f51-9705-aa403e76dfd9",
   "metadata": {},
   "outputs": [
    {
     "data": {
      "text/plain": [
       "(0.0008821223534915584+0j)"
      ]
     },
     "execution_count": 44,
     "metadata": {},
     "output_type": "execute_result"
    }
   ],
   "source": [
    "eig_vecs[1864,0]"
   ]
  },
  {
   "cell_type": "code",
   "execution_count": 45,
   "id": "f9a2295d-b048-4a08-a2e2-82efcf53ed35",
   "metadata": {},
   "outputs": [
    {
     "data": {
      "text/plain": [
       "array([3385, 9556, 7481, ..., 4333,  242, 1864])"
      ]
     },
     "execution_count": 45,
     "metadata": {},
     "output_type": "execute_result"
    }
   ],
   "source": [
    "eig_vecs[:,0].argsort()"
   ]
  },
  {
   "cell_type": "code",
   "execution_count": 46,
   "id": "821d6deb-30d0-49d7-a301-14195d9a71a6",
   "metadata": {},
   "outputs": [
    {
     "data": {
      "text/plain": [
       "array([6625, 2054, 2438, ..., 6082, 1351, 1504])"
      ]
     },
     "execution_count": 46,
     "metadata": {},
     "output_type": "execute_result"
    }
   ],
   "source": [
    "eig_vecs[:,1].argsort()"
   ]
  },
  {
   "cell_type": "code",
   "execution_count": 48,
   "id": "46d7807b-0876-4dac-b539-a89972731b80",
   "metadata": {},
   "outputs": [
    {
     "data": {
      "text/plain": [
       "movieId                        2733\n",
       "title                  Vibes (1988)\n",
       "genres     Adventure|Comedy|Romance\n",
       "Name: 2054, dtype: object"
      ]
     },
     "execution_count": 48,
     "metadata": {},
     "output_type": "execute_result"
    }
   ],
   "source": [
    "movies.iloc[2054]"
   ]
  }
 ],
 "metadata": {
  "kernelspec": {
   "display_name": "Python 3 (ipykernel)",
   "language": "python",
   "name": "python3"
  },
  "language_info": {
   "codemirror_mode": {
    "name": "ipython",
    "version": 3
   },
   "file_extension": ".py",
   "mimetype": "text/x-python",
   "name": "python",
   "nbconvert_exporter": "python",
   "pygments_lexer": "ipython3",
   "version": "3.9.7"
  }
 },
 "nbformat": 4,
 "nbformat_minor": 5
}
