{
 "cells": [
  {
   "cell_type": "markdown",
   "metadata": {},
   "source": [
    "# Linear regression example\n",
    "\n",
    "Here we do the following:\n",
    "\n",
    "1. Generate synthetic X/y data\n",
    "2. Solve for optimal $\\theta$\n",
    "3. Plot the results"
   ]
  },
  {
   "cell_type": "code",
   "execution_count": 1,
   "metadata": {},
   "outputs": [
    {
     "data": {
      "text/plain": [
       "Text(0.5, 1.0, 'Synthetic data for testing linear regression')"
      ]
     },
     "execution_count": 1,
     "metadata": {},
     "output_type": "execute_result"
    },
    {
     "data": {
      "image/png": "[encoded data removed]",
      "text/plain": [
       "<Figure size 432x288 with 1 Axes>"
      ]
     },
     "metadata": {
      "needs_background": "light"
     },
     "output_type": "display_data"
    }
   ],
   "source": [
    "import numpy as np\n",
    "import matplotlib.pyplot as plt\n",
    "\n",
    "# Generate some synthetic data\n",
    "\n",
    "# Suppose the \"true\" theta = [ 10, 0.5 ]\n",
    "\n",
    "theta_true = np.array([[10], [0.5]])\n",
    "\n",
    "# Generate 100 points x between 0 and 100\n",
    "\n",
    "X = np.random.uniform(0, 100, 100).reshape((100, 1))\n",
    "X = np.concatenate((np.ones((100, 1)), X), 1)\n",
    "\n",
    "# Generate the \"noisy\" values of y for each X\n",
    "\n",
    "y = X @ theta_true + np.random.normal(0, 5, (100, 1))\n",
    "\n",
    "# Plot them\n",
    "\n",
    "plt.plot(X[:,1], y, 'ro')\n",
    "plt.xlabel('Input x')\n",
    "plt.xlabel('Output y')\n",
    "plt.title('Synthetic data for testing linear regression')"
   ]
  },
  {
   "cell_type": "code",
   "execution_count": 2,
   "metadata": {},
   "outputs": [
    {
     "name": "stdout",
     "output_type": "stream",
     "text": [
      "Epoch 0: cost 1321.835412 grad[-3315.948737 , -199339.144378]\n",
      "Epoch 10: cost 46.466183 grad[-306.501109 , -4769.456338]\n",
      "Epoch 20: cost 45.724175 grad[-234.385078 , -110.687983]\n",
      "Epoch 30: cost 45.712934 grad[-232.600418 , 0.860495]\n",
      "Epoch 40: cost 45.702117 grad[-232.499785 , 3.530512]\n",
      "Epoch 50: cost 45.691306 grad[-232.439490 , 3.593547]\n",
      "Epoch 60: cost 45.680500 grad[-232.380174 , 3.594161]\n",
      "Epoch 70: cost 45.669700 grad[-232.320897 , 3.593281]\n",
      "Epoch 80: cost 45.658906 grad[-232.261636 , 3.592365]\n",
      "Epoch 90: cost 45.648117 grad[-232.202389 , 3.591449]\n"
     ]
    },
    {
     "data": {
      "text/plain": [
       "Text(0.5, 1.0, 'Cost over time')"
      ]
     },
     "execution_count": 2,
     "metadata": {},
     "output_type": "execute_result"
    },
    {
     "data": {
      "image/png": "[encoded data removed]",
      "text/plain": [
       "<Figure size 432x288 with 1 Axes>"
      ]
     },
     "metadata": {
      "needs_background": "light"
     },
     "output_type": "display_data"
    }
   ],
   "source": [
    "# Implement linear regression\n",
    "\n",
    "theta_analytical = np.linalg.inv(X.T @ X) @ X.T @ y\n",
    "\n",
    "# Gradient descent\n",
    "\n",
    "def gradient (X,y,theta):\n",
    "    m = X.shape[0]\n",
    "    n = theta.shape[0]\n",
    "    yhat = X@ theta\n",
    "    J = ((yhat - y)*(yhat - y)).sum()/m\n",
    "    # Gradient : sum (yhat - y) * x^i\n",
    "    grad_J = np.zeros((n,1))\n",
    "    for i in range(m):\n",
    "        grad_J = grad_J + (yhat[i,0] - y[i,0]) * X[i:i+1,0:].T\n",
    "    return J, grad_J\n",
    "\n",
    "alpha = 0.000001\n",
    "theta = np.array([[0],[0]])\n",
    "costs = []\n",
    "for iter in range(100):\n",
    "    cost, grad = gradient(X,y, theta)\n",
    "    costs.append(cost)\n",
    "    if iter%10 == 0:\n",
    "        print('Epoch %d: cost %f grad[%f , %f]' % (iter, cost, grad[0],grad[1]))\n",
    "    theta = theta - alpha * grad\n",
    "\n",
    "plt.plot (costs)\n",
    "plt.title('Cost over time')"
   ]
  },
  {
   "cell_type": "code",
   "execution_count": 4,
   "metadata": {},
   "outputs": [
    {
     "name": "stdout",
     "output_type": "stream",
     "text": [
      "Epoch 0: cost 1321.835412\n",
      "Epoch 1: cost 46.359798 grad[-2.810174 , -163.067880]\n",
      "Epoch 2: cost 47.702013 grad[-15.701483 , -243.338726]\n",
      "Epoch 3: cost 47.277919 grad[7.829399 , 241.104519]\n",
      "Epoch 4: cost 46.812208 grad[14.413080 , 1404.264677]\n",
      "Epoch 5: cost 47.610116 grad[2.807339 , 226.499105]\n",
      "Epoch 6: cost 46.980195 grad[0.941104 , 31.753580]\n",
      "Epoch 7: cost 50.257389 grad[-1.555512 , -52.484194]\n",
      "Epoch 8: cost 47.036550 grad[-3.078697 , -167.463740]\n",
      "Epoch 9: cost 65.254312 grad[-9.521657 , -219.481095]\n",
      "Epoch 10: cost 60.571771 grad[-13.344668 , -1205.838192]\n",
      "Epoch 11: cost 44.609238 grad[-4.506012 , -61.834265]\n",
      "Epoch 12: cost 45.135601 grad[-5.394314 , -313.019574]\n",
      "Epoch 13: cost 48.352996 grad[-3.445115 , -66.035489]\n",
      "Epoch 14: cost 45.231976 grad[-3.558758 , -300.490114]\n",
      "Epoch 15: cost 56.637022 grad[-9.993639 , -89.840747]\n",
      "Epoch 16: cost 54.636327 grad[5.644413 , 300.552330]\n",
      "Epoch 17: cost 58.992076 grad[-2.760844 , -101.646320]\n",
      "Epoch 18: cost 47.570492 grad[9.034997 , 798.979375]\n",
      "Epoch 19: cost 50.982073 grad[0.681133 , 16.920723]\n"
     ]
    },
    {
     "data": {
      "text/plain": [
       "Text(0.5, 1.0, 'Cost over time')"
      ]
     },
     "execution_count": 4,
     "metadata": {},
     "output_type": "execute_result"
    },
    {
     "data": {
      "image/png": "[encoded data removed]",
      "text/plain": [
       "<Figure size 432x288 with 1 Axes>"
      ]
     },
     "metadata": {
      "needs_background": "light"
     },
     "output_type": "display_data"
    }
   ],
   "source": [
    "# Stochastic gradient descent\n",
    "m = X.shape[0]\n",
    "alpha = 0.0001\n",
    "theta = np.array([[0],[0]])\n",
    "cost, _ = gradient(X,y, theta)\n",
    "print('Epoch 0: cost %f' % (cost))\n",
    "costs = [cost]\n",
    "\n",
    "for epoch in range(1,20):\n",
    "    order = np.arange(m)\n",
    "    np.random.shuffle(order)\n",
    "    for iter in range(m):\n",
    "        i = order[iter]\n",
    "        _, grad = gradient(X[i:i+1,:], y[i:i+1], theta)\n",
    "        theta = theta - alpha * grad\n",
    "    cost, _ = gradient(X,y, theta)\n",
    "    costs.append(cost)\n",
    "    print('Epoch %d: cost %f grad[%f , %f]' % (epoch, cost, grad[0],grad[1]))\n",
    "    \n",
    "plt.plot (costs)\n",
    "plt.title('Cost over time')"
   ]
  }
 ],
 "metadata": {
  "kernelspec": {
   "display_name": "Python 3",
   "language": "python",
   "name": "python3"
  },
  "language_info": {
   "codemirror_mode": {
    "name": "ipython",
    "version": 3
   },
   "file_extension": ".py",
   "mimetype": "text/x-python",
   "name": "python",
   "nbconvert_exporter": "python",
   "pygments_lexer": "ipython3",
   "version": "3.8.3"
  }
 },
 "nbformat": 4,
 "nbformat_minor": 4
}
