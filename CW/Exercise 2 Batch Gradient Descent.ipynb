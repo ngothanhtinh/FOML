{
 "cells": [
  {
   "cell_type": "markdown",
   "metadata": {},
   "source": [
    "# Linear regression example\n",
    "\n",
    "Here we do the following:\n",
    "\n",
    "1. Generate synthetic X/y data\n",
    "2. Solve for optimal $\\theta$\n",
    "3. Plot the results"
   ]
  },
  {
   "cell_type": "code",
   "execution_count": 1,
   "metadata": {},
   "outputs": [
    {
     "data": {
      "text/plain": [
       "Text(0.5, 1.0, 'Synthetic data for testing linear regression')"
      ]
     },
     "execution_count": 1,
     "metadata": {},
     "output_type": "execute_result"
    },
    {
     "data": {
      "image/png": "[encoded data removed]",
      "text/plain": [
       "<Figure size 432x288 with 1 Axes>"
      ]
     },
     "metadata": {
      "needs_background": "light"
     },
     "output_type": "display_data"
    }
   ],
   "source": [
    "import numpy as np\n",
    "import matplotlib.pyplot as plt\n",
    "\n",
    "# Generate some synthetic data\n",
    "\n",
    "# Suppose the \"true\" theta = [ 10, 0.5 ]\n",
    "\n",
    "theta_true = np.array([[10], [0.5]])\n",
    "\n",
    "# Generate 100 points x between 0 and 100\n",
    "\n",
    "X = np.random.uniform(0, 100, 100).reshape((100, 1))\n",
    "X = np.concatenate((np.ones((100, 1)), X), 1)\n",
    "\n",
    "# Generate the \"noisy\" values of y for each X\n",
    "\n",
    "y = X @ theta_true + np.random.normal(0, 5, (100, 1))\n",
    "\n",
    "# Plot them\n",
    "\n",
    "plt.plot(X[:,1], y, 'ro')\n",
    "plt.xlabel('Input x')\n",
    "plt.xlabel('Output y')\n",
    "plt.title('Synthetic data for testing linear regression')"
   ]
  },
  {
   "cell_type": "code",
   "execution_count": 18,
   "metadata": {},
   "outputs": [
    {
     "name": "stdout",
     "output_type": "stream",
     "text": [
      "Epoch 0: cost 1608.408731 grad[-3717.111465 , -243308.149333]\n",
      "Epoch 10: cost 41.230276 grad[-261.115301 , -2112.316768]\n",
      "Epoch 20: cost 41.101137 grad[-231.013605 , -15.089343]\n",
      "Epoch 30: cost 41.090479 grad[-230.700504 , 3.145578]\n",
      "Epoch 40: cost 41.079834 grad[-230.646430 , 3.303397]\n",
      "Epoch 50: cost 41.069195 grad[-230.594621 , 3.304034]\n",
      "Epoch 60: cost 41.058560 grad[-230.542842 , 3.303304]\n",
      "Epoch 70: cost 41.047930 grad[-230.491075 , 3.302563]\n",
      "Epoch 80: cost 41.037305 grad[-230.439320 , 3.301821]\n",
      "Epoch 90: cost 41.026685 grad[-230.387576 , 3.301080]\n"
     ]
    },
    {
     "data": {
      "text/plain": [
       "\"   \\n# Plot result\\n\\nplt.plot(X[:,1], y, 'ko')\\nplt.xlabel('Input x')\\nplt.xlabel('Output y')\\nplt.title('Synthetic data for testing linear regression')\\n\\nx1 = 0\\ny1 = theta_star[0,0]\\n\\nx2 = 100\\ny2 = theta_star[0,0] + theta_star[1,0] * x2\\n\\nplt.plot((x1, x2), (y1, y2), 'b-', label='Estimated regression line')\\n\\ny1 = theta_true[0,0]\\ny2 = theta_true[0,0] + theta_true[1,0] * x2\\n\\nplt.plot((x1, x2), (y1, y2), 'r-', label='True regression line')\\n\\nplt.legend()\\n\\nplt.show()\\n\""
      ]
     },
     "execution_count": 18,
     "metadata": {},
     "output_type": "execute_result"
    },
    {
     "data": {
      "image/png": "[encoded data removed]",
      "text/plain": [
       "<Figure size 432x288 with 1 Axes>"
      ]
     },
     "metadata": {
      "needs_background": "light"
     },
     "output_type": "display_data"
    }
   ],
   "source": [
    "# Implement linear regression\n",
    "\n",
    "theta_analytical = np.linalg.inv(X.T @ X) @ X.T @ y\n",
    "\n",
    "# Gradient descent\n",
    "\n",
    "def gradient (X,y,theta):\n",
    "    m = X.shape[0]\n",
    "    n = theta.shape[0]\n",
    "    yhat = X@ theta\n",
    "    J = ((yhat - y)*(yhat - y)).sum()/m\n",
    "    # Gradient : sum (yhat - y) * x^i\n",
    "    grad_J = np.zeros((n,1))\n",
    "    for i in range(m):\n",
    "        grad_J = grad_J + (yhat[i,0] - y[i,0]) * X[i:i+1,0:].T\n",
    "    return J, grad_J\n",
    "\n",
    "alpha = 0.000001\n",
    "theta = np.array([[0],[0]])\n",
    "costs = []\n",
    "for iter in range(100):\n",
    "    cost, grad = gradient(X,y, theta)\n",
    "    costs.append(cost)\n",
    "    if iter%10 == 0:\n",
    "        print('Epoch %d: cost %f grad[%f , %f]' % (iter, cost, grad[0],grad[1]))\n",
    "    theta = theta - alpha * grad\n",
    "\n",
    "plt.plot (costs)\n",
    "plt.title('Cost over time')"
   ]
  },
  {
   "cell_type": "code",
   "execution_count": null,
   "metadata": {},
   "outputs": [],
   "source": []
  }
 ],
 "metadata": {
  "kernelspec": {
   "display_name": "Python 3",
   "language": "python",
   "name": "python3"
  },
  "language_info": {
   "codemirror_mode": {
    "name": "ipython",
    "version": 3
   },
   "file_extension": ".py",
   "mimetype": "text/x-python",
   "name": "python",
   "nbconvert_exporter": "python",
   "pygments_lexer": "ipython3",
   "version": "3.8.3"
  }
 },
 "nbformat": 4,
 "nbformat_minor": 4
}
