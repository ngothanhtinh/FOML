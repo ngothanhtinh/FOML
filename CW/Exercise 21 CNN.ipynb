{
 "cells": [
  {
   "cell_type": "markdown",
   "id": "9978395f",
   "metadata": {},
   "source": [
    "# Exercise 21: CNN in PyTorch\n",
    "\n",
    "PyTorch and other libraries like it use the concept of a TENSOR (multidimensional array of data) to store data\n",
    "and weights and biases and other things too.\n",
    "\n",
    "Let's implement a simple CNN in PyTorch. We will try to classify the MNIST handwritten digits dataset."
   ]
  },
  {
   "cell_type": "code",
   "execution_count": 13,
   "id": "31d2a22a",
   "metadata": {},
   "outputs": [],
   "source": [
    "import torch\n",
    "import torchvision\n",
    "\n",
    "import os\n",
    "\n",
    "os.environ[\"http_proxy\"] = 'http://192.41.170.23:3128'\n",
    "os.environ[\"https_proxy\"] = 'http://192.41.170.23:3128'\n",
    "\n",
    "transform = torchvision.transforms.Compose([torchvision.transforms.ToTensor()])\n",
    "\n",
    "mnist_train = torchvision.datasets.MNIST('./data', train=True, download=True, transform=transform)\n",
    "mnist_val = torchvision.datasets.MNIST('./data', train=False, download=True, transform=transform)"
   ]
  },
  {
   "cell_type": "code",
   "execution_count": null,
   "id": "c9e8f5c9-be24-441e-b94d-3ed1805b056c",
   "metadata": {},
   "outputs": [],
   "source": []
  },
  {
   "cell_type": "code",
   "execution_count": 2,
   "id": "51a4ed64",
   "metadata": {},
   "outputs": [
    {
     "data": {
      "image/png": "[encoded data removed]",
      "text/plain": [
       "<Figure size 432x288 with 1 Axes>"
      ]
     },
     "metadata": {
      "needs_background": "light"
     },
     "output_type": "display_data"
    }
   ],
   "source": [
    "import matplotlib.pyplot as plt\n",
    "\n",
    "img = mnist_train[12][0]\n",
    "label = mnist_train[12][1]\n",
    "plt.imshow(img.reshape(28, 28), cmap='gray')\n",
    "plt.title('Image with label %d' % (label))\n",
    "plt.show()\n"
   ]
  },
  {
   "cell_type": "code",
   "execution_count": 3,
   "id": "3ff751c8",
   "metadata": {},
   "outputs": [],
   "source": [
    "# Create data loaders to load batches of images from the training + validation set stored on disk\n",
    "\n",
    "batch_size = 1024\n",
    "mnist_train_loader = torch.utils.data.DataLoader(mnist_train, batch_size=batch_size, shuffle=True, num_workers=1)\n",
    "mnist_val_loader = torch.utils.data.DataLoader(mnist_val, batch_size=batch_size, shuffle=False, num_workers=1)\n"
   ]
  },
  {
   "cell_type": "code",
   "execution_count": 4,
   "id": "572a1ca1",
   "metadata": {},
   "outputs": [],
   "source": [
    "# The CNN model\n",
    "\n",
    "class CNN_Model(torch.nn.Module):\n",
    "    \n",
    "    def __init__(self):\n",
    "        super().__init__()\n",
    "        # Define the layers of the model\n",
    "        self.conv1 = torch.nn.Conv2d(1, 10, kernel_size=5)  # Result: 10 x 24 x 24\n",
    "        self.relu1 = torch.nn.ReLU()\n",
    "        self.conv2 = torch.nn.Conv2d(10, 20, kernel_size=5) # Result: 20 x 20 x 20\n",
    "        self.maxpool2 = torch.nn.MaxPool2d(2)               # Result: 20 x 10 x 10\n",
    "        self.relu2 = torch.nn.ReLU()\n",
    "        self.fc1 = torch.nn.Linear(2000, 50)\n",
    "        self.fc2 = torch.nn.Linear(50, 10)\n",
    "        \n",
    "    def forward(self, x):\n",
    "        x = self.conv1(x)\n",
    "        x = self.relu1(x)\n",
    "        x = self.conv2(x)\n",
    "        x = self.maxpool2(x)\n",
    "        x = self.relu2(x)\n",
    "        x = x.view(-1, 2000)\n",
    "        x = self.fc1(x)\n",
    "        x = torch.nn.functional.relu(x)\n",
    "        x = self.fc2(x)\n",
    "        return x\n",
    "\n",
    "    "
   ]
  },
  {
   "cell_type": "code",
   "execution_count": 5,
   "id": "9477f81c",
   "metadata": {},
   "outputs": [],
   "source": [
    "# Create an instance of the model\n",
    "\n",
    "net = CNN_Model()\n",
    "\n",
    "if torch.cuda.is_available:\n",
    "    net = net.cuda()\n",
    "\n",
    "# Loss function\n",
    "\n",
    "criterion = torch.nn.CrossEntropyLoss()\n",
    "\n",
    "# Optimizer\n",
    "\n",
    "optimizer = torch.optim.SGD(net.parameters(), lr=0.01, momentum=0.9)\n"
   ]
  },
  {
   "cell_type": "code",
   "execution_count": 6,
   "id": "2f1e755f",
   "metadata": {},
   "outputs": [
    {
     "name": "stdout",
     "output_type": "stream",
     "text": [
      "Epoch 1/20, Train loss 2.1855, Train acc 34.17, Val loss 1.3223, Val acc 70.87\n",
      "Epoch 2/20, Train loss 0.5248, Train acc 84.78, Val loss 0.3137, Val acc 90.92\n",
      "Epoch 3/20, Train loss 0.2886, Train acc 91.51, Val loss 0.2383, Val acc 93.00\n",
      "Epoch 4/20, Train loss 0.2250, Train acc 93.36, Val loss 0.1879, Val acc 94.57\n",
      "Epoch 5/20, Train loss 0.1759, Train acc 94.85, Val loss 0.1506, Val acc 95.71\n",
      "Epoch 6/20, Train loss 0.1424, Train acc 95.82, Val loss 0.1220, Val acc 96.47\n",
      "Epoch 7/20, Train loss 0.1178, Train acc 96.55, Val loss 0.1006, Val acc 96.94\n",
      "Epoch 8/20, Train loss 0.1009, Train acc 97.06, Val loss 0.0870, Val acc 97.36\n",
      "Epoch 9/20, Train loss 0.0874, Train acc 97.40, Val loss 0.0766, Val acc 97.63\n",
      "Epoch 10/20, Train loss 0.0787, Train acc 97.65, Val loss 0.0711, Val acc 97.74\n",
      "Epoch 11/20, Train loss 0.0746, Train acc 97.78, Val loss 0.0718, Val acc 97.72\n",
      "Epoch 12/20, Train loss 0.0671, Train acc 97.97, Val loss 0.0694, Val acc 97.71\n",
      "Epoch 13/20, Train loss 0.0614, Train acc 98.15, Val loss 0.0594, Val acc 98.05\n",
      "Epoch 14/20, Train loss 0.0592, Train acc 98.18, Val loss 0.0590, Val acc 98.01\n",
      "Epoch 15/20, Train loss 0.0554, Train acc 98.29, Val loss 0.0591, Val acc 98.17\n",
      "Epoch 16/20, Train loss 0.0520, Train acc 98.44, Val loss 0.0539, Val acc 98.33\n",
      "Epoch 17/20, Train loss 0.0490, Train acc 98.53, Val loss 0.0503, Val acc 98.34\n",
      "Epoch 18/20, Train loss 0.0463, Train acc 98.59, Val loss 0.0529, Val acc 98.38\n",
      "Epoch 19/20, Train loss 0.0454, Train acc 98.64, Val loss 0.0512, Val acc 98.37\n",
      "Epoch 20/20, Train loss 0.0432, Train acc 98.66, Val loss 0.0471, Val acc 98.43\n"
     ]
    }
   ],
   "source": [
    "# Training loop\n",
    "\n",
    "num_epochs = 20\n",
    "\n",
    "train_loss = []\n",
    "valid_loss = []\n",
    "train_acc = []\n",
    "valid_acc = []\n",
    "\n",
    "for epoch in range(num_epochs):\n",
    "    # Training set\n",
    "    epoch_loss = 0\n",
    "    correct = 0\n",
    "    iterations = 0\n",
    "    net.train()\n",
    "    for i, (inputs, targets) in enumerate(mnist_train_loader):\n",
    "        if torch.cuda.is_available():\n",
    "            inputs = inputs.cuda()\n",
    "            targets = targets.cuda()\n",
    "        # Clear out the optimizer's gradient estimates\n",
    "        optimizer.zero_grad()\n",
    "        # Forward pass\n",
    "        outputs = net(inputs)  # like forward() we wrote last week\n",
    "        loss = criterion(outputs, targets) # loss\n",
    "        epoch_loss += loss.item()\n",
    "        loss.backward()  # backprop\n",
    "        optimizer.step() # adjust weights\n",
    "        _, predicted = torch.max(outputs.data, 1)\n",
    "        correct += (predicted == targets.data).sum()\n",
    "        iterations += 1\n",
    "    # Record training loss\n",
    "    train_loss.append(epoch_loss / iterations)\n",
    "    # Record training accuracy\n",
    "    train_acc.append(100 * correct / len(mnist_train_loader.dataset))\n",
    "\n",
    "    # Validation set\n",
    "    epoch_loss = 0\n",
    "    correct = 0\n",
    "    iterations = 0\n",
    "    \n",
    "    net.eval()\n",
    "    for i, (inputs, targets) in enumerate(mnist_val_loader):\n",
    "        if torch.cuda.is_available():\n",
    "            inputs = inputs.cuda()\n",
    "            targets = targets.cuda()\n",
    "        # Forward pass\n",
    "        outputs = net(inputs)  # like forward() we wrote last week\n",
    "        loss = criterion(outputs, targets) # loss\n",
    "        epoch_loss += loss.item()\n",
    "        _, predicted = torch.max(outputs.data, 1)\n",
    "        correct += (predicted == targets.data).sum()\n",
    "        iterations += 1\n",
    "        \n",
    "    # Record validation loss\n",
    "    valid_loss.append(epoch_loss / iterations)\n",
    "    # Record validation accuracy\n",
    "    valid_acc.append(100 * correct / len(mnist_val_loader.dataset))\n",
    "    \n",
    "    print('Epoch %d/%d, Train loss %.4f, Train acc %.2f, Val loss %.4f, Val acc %.2f' % (\n",
    "        epoch+1, num_epochs, train_loss[-1], train_acc[-1], valid_loss[-1], valid_acc[-1]))\n",
    "\n",
    "torch.save(net.state_dict(), './net-weights.pth')\n"
   ]
  },
  {
   "cell_type": "code",
   "execution_count": 7,
   "id": "94aeb71f",
   "metadata": {},
   "outputs": [
    {
     "data": {
      "text/plain": [
       "<function matplotlib.pyplot.show(close=None, block=None)>"
      ]
     },
     "execution_count": 7,
     "metadata": {},
     "output_type": "execute_result"
    },
    {
     "data": {
      "image/png": "[encoded data removed]",
      "text/plain": [
       "<Figure size 1152x576 with 2 Axes>"
      ]
     },
     "metadata": {
      "needs_background": "light"
     },
     "output_type": "display_data"
    }
   ],
   "source": [
    "fig = plt.figure(figsize=(16, 8))\n",
    "plt.subplot(1, 2, 1)\n",
    "plt.plot(train_loss, label='Training loss')\n",
    "plt.plot(valid_loss, label='Validation loss')\n",
    "plt.title('Loss')\n",
    "plt.legend()\n",
    "plt.subplot(1, 2, 2)\n",
    "plt.plot([x.cpu() for x in train_acc], label='Training accuracy')\n",
    "plt.plot([x.cpu() for x in valid_acc], label='Validation accuracy')\n",
    "plt.title('Accuracy')\n",
    "plt.legend()\n",
    "plt.show"
   ]
  },
  {
   "cell_type": "code",
   "execution_count": 8,
   "id": "a7b3d494",
   "metadata": {},
   "outputs": [
    {
     "data": {
      "image/png": "[encoded data removed]",
      "text/plain": [
       "<Figure size 432x288 with 1 Axes>"
      ]
     },
     "metadata": {
      "needs_background": "light"
     },
     "output_type": "display_data"
    }
   ],
   "source": [
    "image_index = 9\n",
    "img = mnist_val[image_index][0].view((1, 1, 28, 28))\n",
    "label = mnist_val[image_index][1]\n",
    "plt.imshow(img[0,0])\n",
    "plt.show()\n",
    "net.eval()\n",
    "if torch.cuda.is_available:\n",
    "    img = img.cuda()\n",
    "output = net(img)"
   ]
  },
  {
   "cell_type": "code",
   "execution_count": 9,
   "id": "96a761f6",
   "metadata": {},
   "outputs": [
    {
     "data": {
      "text/plain": [
       "tensor([[-0.6177, -5.2423,  1.5915,  1.4945,  7.8784, -2.9626, -7.2900,  8.2359,\n",
       "          8.5927, 14.6272]], device='cuda:0', grad_fn=<AddmmBackward0>)"
      ]
     },
     "execution_count": 9,
     "metadata": {},
     "output_type": "execute_result"
    }
   ],
   "source": [
    "output"
   ]
  },
  {
   "cell_type": "code",
   "execution_count": 10,
   "id": "3ec1eefa",
   "metadata": {},
   "outputs": [
    {
     "data": {
      "text/plain": [
       "torch.return_types.max(\n",
       "values=tensor([14.6272], device='cuda:0', grad_fn=<MaxBackward0>),\n",
       "indices=tensor([9], device='cuda:0'))"
      ]
     },
     "execution_count": 10,
     "metadata": {},
     "output_type": "execute_result"
    }
   ],
   "source": [
    "torch.max(output, 1)"
   ]
  },
  {
   "cell_type": "markdown",
   "id": "9fab97d0",
   "metadata": {},
   "source": [
    "## Exercise 22!\n",
    "\n",
    "Try the same thing with cats and dogs!\n",
    "\n",
    "https://www.kaggle.com/c/dogs-vs-cats\n"
   ]
  },
  {
   "cell_type": "code",
   "execution_count": null,
   "id": "567b45c5",
   "metadata": {},
   "outputs": [],
   "source": []
  }
 ],
 "metadata": {
  "kernelspec": {
   "display_name": "Python 3 (ipykernel)",
   "language": "python",
   "name": "python3"
  },
  "language_info": {
   "codemirror_mode": {
    "name": "ipython",
    "version": 3
   },
   "file_extension": ".py",
   "mimetype": "text/x-python",
   "name": "python",
   "nbconvert_exporter": "python",
   "pygments_lexer": "ipython3",
   "version": "3.9.7"
  }
 },
 "nbformat": 4,
 "nbformat_minor": 5
}
