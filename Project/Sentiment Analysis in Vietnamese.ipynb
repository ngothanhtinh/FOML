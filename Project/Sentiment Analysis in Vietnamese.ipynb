{
 "cells": [
  {
   "cell_type": "code",
   "execution_count": 1,
   "id": "fa065e99-514a-42d7-8ac1-e7a4c98443ae",
   "metadata": {},
   "outputs": [
    {
     "name": "stderr",
     "output_type": "stream",
     "text": [
      "2023-01-05 14:27:28.206274: I tensorflow/core/platform/cpu_feature_guard.cc:193] This TensorFlow binary is optimized with oneAPI Deep Neural Network Library (oneDNN) to use the following CPU instructions in performance-critical operations:  AVX2 FMA\n",
      "To enable them in other operations, rebuild TensorFlow with the appropriate compiler flags.\n",
      "2023-01-05 14:27:29.222952: W tensorflow/compiler/xla/stream_executor/platform/default/dso_loader.cc:64] Could not load dynamic library 'libnvinfer.so.7'; dlerror: libnvinfer.so.7: cannot open shared object file: No such file or directory\n",
      "2023-01-05 14:27:29.223069: W tensorflow/compiler/xla/stream_executor/platform/default/dso_loader.cc:64] Could not load dynamic library 'libnvinfer_plugin.so.7'; dlerror: libnvinfer_plugin.so.7: cannot open shared object file: No such file or directory\n",
      "2023-01-05 14:27:29.223083: W tensorflow/compiler/tf2tensorrt/utils/py_utils.cc:38] TF-TRT Warning: Cannot dlopen some TensorRT libraries. If you would like to use Nvidia GPU with TensorRT, please make sure the missing libraries mentioned above are installed properly.\n"
     ]
    }
   ],
   "source": [
    "import numpy as np\n",
    "import pandas as pd\n",
    "import tensorflow as tf\n",
    "import matplotlib.pyplot as plt\n",
    "from sklearn.model_selection import train_test_split\n",
    "from pyvi import ViTokenizer, ViUtils\n",
    "import pickle\n",
    "from tqdm.notebook import tqdm_notebook as tqdm\n",
    "import time"
   ]
  },
  {
   "cell_type": "markdown",
   "id": "66affc29-99be-4a7d-91a4-8e81bd3dcdea",
   "metadata": {},
   "source": [
    "### Load data"
   ]
  },
  {
   "cell_type": "code",
   "execution_count": 3,
   "id": "e799fcc3-c318-4692-9670-34ce18044706",
   "metadata": {},
   "outputs": [
    {
     "data": {
      "text/html": [
       "<div>\n",
       "<style scoped>\n",
       "    .dataframe tbody tr th:only-of-type {\n",
       "        vertical-align: middle;\n",
       "    }\n",
       "\n",
       "    .dataframe tbody tr th {\n",
       "        vertical-align: top;\n",
       "    }\n",
       "\n",
       "    .dataframe thead th {\n",
       "        text-align: right;\n",
       "    }\n",
       "</style>\n",
       "<table border=\"1\" class=\"dataframe\">\n",
       "  <thead>\n",
       "    <tr style=\"text-align: right;\">\n",
       "      <th></th>\n",
       "      <th>Date</th>\n",
       "      <th>Time</th>\n",
       "      <th>Name</th>\n",
       "      <th>Link</th>\n",
       "      <th>Content</th>\n",
       "      <th>Sentiment</th>\n",
       "      <th>Entity</th>\n",
       "    </tr>\n",
       "  </thead>\n",
       "  <tbody>\n",
       "    <tr>\n",
       "      <th>0</th>\n",
       "      <td>01/01/2022</td>\n",
       "      <td>9:21</td>\n",
       "      <td>Hoàng Xuân Hoà</td>\n",
       "      <td>https://www.facebook.com/2389056107900844_2389...</td>\n",
       "      <td>Ib nha e</td>\n",
       "      <td>Trung lập</td>\n",
       "      <td>Goldmark City</td>\n",
       "    </tr>\n",
       "    <tr>\n",
       "      <th>1</th>\n",
       "      <td>01/01/2022</td>\n",
       "      <td>9:44</td>\n",
       "      <td>Tạ Hồng</td>\n",
       "      <td>https://www.facebook.com/2389056107900844_2389...</td>\n",
       "      <td>Quá đẹp !</td>\n",
       "      <td>Tích cực</td>\n",
       "      <td>Goldmark City</td>\n",
       "    </tr>\n",
       "    <tr>\n",
       "      <th>2</th>\n",
       "      <td>01/01/2022</td>\n",
       "      <td>9:55</td>\n",
       "      <td>Trịnh Hồng Sương</td>\n",
       "      <td>https://www.facebook.com/2389056107900844_2389...</td>\n",
       "      <td>Ib em nhed</td>\n",
       "      <td>Trung lập</td>\n",
       "      <td>Goldmark City</td>\n",
       "    </tr>\n",
       "    <tr>\n",
       "      <th>3</th>\n",
       "      <td>01/01/2022</td>\n",
       "      <td>17:10</td>\n",
       "      <td>Nguyễn Chính</td>\n",
       "      <td>https://www.facebook.com/2389056107900844_2389...</td>\n",
       "      <td>Đẹp quá</td>\n",
       "      <td>Tích cực</td>\n",
       "      <td>Goldmark City</td>\n",
       "    </tr>\n",
       "    <tr>\n",
       "      <th>4</th>\n",
       "      <td>01/01/2022</td>\n",
       "      <td>10:16</td>\n",
       "      <td>Đinh Điềm</td>\n",
       "      <td>https://www.facebook.com/1995922247237355_1996...</td>\n",
       "      <td>Văn Thủy còn ở golmax ko ra ngõ 4 hàm nghi Cafe</td>\n",
       "      <td>Trung lập</td>\n",
       "      <td>Goldmark City</td>\n",
       "    </tr>\n",
       "  </tbody>\n",
       "</table>\n",
       "</div>"
      ],
      "text/plain": [
       "         Date   Time              Name  \\\n",
       "0  01/01/2022   9:21    Hoàng Xuân Hoà   \n",
       "1  01/01/2022   9:44           Tạ Hồng   \n",
       "2  01/01/2022   9:55  Trịnh Hồng Sương   \n",
       "3  01/01/2022  17:10      Nguyễn Chính   \n",
       "4  01/01/2022  10:16         Đinh Điềm   \n",
       "\n",
       "                                                Link  \\\n",
       "0  https://www.facebook.com/2389056107900844_2389...   \n",
       "1  https://www.facebook.com/2389056107900844_2389...   \n",
       "2  https://www.facebook.com/2389056107900844_2389...   \n",
       "3  https://www.facebook.com/2389056107900844_2389...   \n",
       "4  https://www.facebook.com/1995922247237355_1996...   \n",
       "\n",
       "                                           Content  Sentiment         Entity  \n",
       "0                                         Ib nha e  Trung lập  Goldmark City  \n",
       "1                                        Quá đẹp !   Tích cực  Goldmark City  \n",
       "2                                       Ib em nhed  Trung lập  Goldmark City  \n",
       "3                                          Đẹp quá   Tích cực  Goldmark City  \n",
       "4  Văn Thủy còn ở golmax ko ra ngõ 4 hàm nghi Cafe  Trung lập  Goldmark City  "
      ]
     },
     "execution_count": 3,
     "metadata": {},
     "output_type": "execute_result"
    }
   ],
   "source": [
    "df = pd.read_csv('data.csv',sep=';')\n",
    "df.head()"
   ]
  },
  {
   "cell_type": "code",
   "execution_count": 4,
   "id": "0ad8e3ba-61fc-4579-9f9f-e93f9b3d728f",
   "metadata": {},
   "outputs": [
    {
     "data": {
      "text/html": [
       "<div>\n",
       "<style scoped>\n",
       "    .dataframe tbody tr th:only-of-type {\n",
       "        vertical-align: middle;\n",
       "    }\n",
       "\n",
       "    .dataframe tbody tr th {\n",
       "        vertical-align: top;\n",
       "    }\n",
       "\n",
       "    .dataframe thead th {\n",
       "        text-align: right;\n",
       "    }\n",
       "</style>\n",
       "<table border=\"1\" class=\"dataframe\">\n",
       "  <thead>\n",
       "    <tr style=\"text-align: right;\">\n",
       "      <th></th>\n",
       "      <th>input</th>\n",
       "      <th>label</th>\n",
       "    </tr>\n",
       "  </thead>\n",
       "  <tbody>\n",
       "    <tr>\n",
       "      <th>0</th>\n",
       "      <td>Ib nha e</td>\n",
       "      <td>Trung lập</td>\n",
       "    </tr>\n",
       "    <tr>\n",
       "      <th>1</th>\n",
       "      <td>Quá đẹp !</td>\n",
       "      <td>Tích cực</td>\n",
       "    </tr>\n",
       "    <tr>\n",
       "      <th>2</th>\n",
       "      <td>Ib em nhed</td>\n",
       "      <td>Trung lập</td>\n",
       "    </tr>\n",
       "    <tr>\n",
       "      <th>3</th>\n",
       "      <td>Đẹp quá</td>\n",
       "      <td>Tích cực</td>\n",
       "    </tr>\n",
       "    <tr>\n",
       "      <th>4</th>\n",
       "      <td>Văn Thủy còn ở golmax ko ra ngõ 4 hàm nghi Cafe</td>\n",
       "      <td>Trung lập</td>\n",
       "    </tr>\n",
       "  </tbody>\n",
       "</table>\n",
       "</div>"
      ],
      "text/plain": [
       "                                             input      label\n",
       "0                                         Ib nha e  Trung lập\n",
       "1                                        Quá đẹp !   Tích cực\n",
       "2                                       Ib em nhed  Trung lập\n",
       "3                                          Đẹp quá   Tích cực\n",
       "4  Văn Thủy còn ở golmax ko ra ngõ 4 hàm nghi Cafe  Trung lập"
      ]
     },
     "execution_count": 4,
     "metadata": {},
     "output_type": "execute_result"
    }
   ],
   "source": [
    "# Feature selection\n",
    "sentiment_data = pd.DataFrame({'input':df['Content'],'label':df['Sentiment']})\n",
    "sentiment_data.head()"
   ]
  },
  {
   "cell_type": "markdown",
   "id": "8f95c9b5-a6a1-4f43-934b-95b395788493",
   "metadata": {},
   "source": [
    "### Preprocessing"
   ]
  },
  {
   "cell_type": "code",
   "execution_count": 6,
   "id": "82c70ef4-8776-4a85-84b3-405c1888f459",
   "metadata": {},
   "outputs": [
    {
     "data": {
      "application/vnd.jupyter.widget-view+json": {
       "model_id": "f86437f4ee3b448e95c1808bff4890bd",
       "version_major": 2,
       "version_minor": 0
      },
      "text/plain": [
       "Progress bar: 0it [00:00, ?it/s]"
      ]
     },
     "metadata": {},
     "output_type": "display_data"
    }
   ],
   "source": [
    "# Tokenization vietnamese\n",
    "input_data = sentiment_data['input'].values\n",
    "input_label = sentiment_data['label'].values\n",
    "\n",
    "label_dict={'Tiêu cực':0,'Trung lập':1,'Tích cực':2}\n",
    "\n",
    "input_pre=[]\n",
    "label_with_accent=[]\n",
    "\n",
    "for idx, dt in tqdm(enumerate(input_data),desc='Progress bar'):\n",
    "    input_text_pre = list(tf.keras.preprocessing.text.text_to_word_sequence(dt))\n",
    "    input_text_pre = ' '.join(input_text_pre)\n",
    "    input_text_pre_no_accent = str(ViUtils.remove_accents(input_text_pre).decode('utf-8'))\n",
    "    input_text_pre_accent = ViTokenizer.tokenize(input_text_pre)\n",
    "    input_text_pre_no_accent = ViTokenizer.tokenize(input_text_pre_no_accent)\n",
    "    input_pre.append(input_text_pre_accent)\n",
    "    input_pre.append(input_text_pre_no_accent)\n",
    "    label_with_accent.append(input_label[idx])\n",
    "    label_with_accent.append(input_label[idx])"
   ]
  },
  {
   "cell_type": "code",
   "execution_count": 7,
   "id": "c666fd64-d891-48df-83d8-f96183c5a630",
   "metadata": {},
   "outputs": [
    {
     "data": {
      "image/png": "[encoded data removed]",
      "text/plain": [
       "<Figure size 432x288 with 1 Axes>"
      ]
     },
     "metadata": {
      "needs_background": "light"
     },
     "output_type": "display_data"
    }
   ],
   "source": [
    "# Exploratory Data\n",
    "seq_len = [len(i.split()) for i in input_pre]\n",
    "pd.Series(seq_len).hist(bins=10)\n",
    "plt.show()"
   ]
  },
  {
   "cell_type": "code",
   "execution_count": 8,
   "id": "8ea24087-fbb8-4411-a6f6-eb69fc36e755",
   "metadata": {},
   "outputs": [
    {
     "name": "stdout",
     "output_type": "stream",
     "text": [
      "input data shape (181566, 256)\n",
      "data vocab size: 37994\n"
     ]
    }
   ],
   "source": [
    "# Tokenization tenserflow\n",
    "label_idx = [label_dict[i] for i in label_with_accent]\n",
    "label_tf = tf.keras.utils.to_categorical(label_idx,num_classes=3,dtype='float32')\n",
    "\n",
    "tokenizer_data = tf.keras.preprocessing.text.Tokenizer(oov_token='<OOV>',filters='',split=' ')\n",
    "tokenizer_data.fit_on_texts(input_pre)\n",
    "\n",
    "tokenizer_data_text = tokenizer_data.texts_to_sequences(input_pre)\n",
    "vec_data = tf.keras.preprocessing.sequence.pad_sequences(tokenizer_data_text,padding='post',maxlen=256)\n",
    "\n",
    "pickle.dump(tokenizer_data,open('tokenizer_data.pkl','wb'))\n",
    "print('input data shape',vec_data.shape)\n",
    "data_vocab_size = len(tokenizer_data.word_index)+1\n",
    "print('data vocab size:',data_vocab_size)"
   ]
  },
  {
   "cell_type": "code",
   "execution_count": 9,
   "id": "c4451f33-9c21-4db0-9297-7062617c0921",
   "metadata": {},
   "outputs": [
    {
     "name": "stdout",
     "output_type": "stream",
     "text": [
      "Training data: 145252\n",
      "Validation data: 36314\n"
     ]
    }
   ],
   "source": [
    "# Split data to training set and validation\n",
    "X_train, X_val, y_train, y_val = train_test_split(vec_data,label_tf,test_size=0.2,random_state=999)\n",
    "print('Training data:',len(X_train))\n",
    "print('Validation data:',len(X_val))"
   ]
  },
  {
   "cell_type": "markdown",
   "id": "984e49f8-4ef2-45cb-9fc9-0ea02c1a7ca4",
   "metadata": {},
   "source": [
    "### Modeling"
   ]
  },
  {
   "cell_type": "code",
   "execution_count": 10,
   "id": "e1d7f99c-54b7-4cad-a42f-73610c5a8891",
   "metadata": {},
   "outputs": [],
   "source": [
    "class RNNCell(tf.keras.layers.Layer):\n",
    "    def __init__(self, units,**kwargs):\n",
    "        self.units = units\n",
    "        self.state_size = units\n",
    "        super(RNNCell, self).__init__(**kwargs)\n",
    "\n",
    "    def build(self, input_shape):\n",
    "        self.kernel = self.add_weight(shape=(input_shape[-1], self.units),\n",
    "                                      initializer='GlorotNormal',\n",
    "                                      name='kernel')\n",
    "        self.recurrent_kernel = self.add_weight(\n",
    "            shape=(self.units, self.units),\n",
    "            initializer='GlorotNormal',\n",
    "            name='recurrent_kernel')\n",
    "        self.built = True\n",
    "\n",
    "    def call(self, inputs, states):\n",
    "        prev_output = states[0]\n",
    "        h = tf.keras.backend.dot(inputs, self.kernel)\n",
    "        output = h + tf.keras.backend.dot(prev_output, self.recurrent_kernel)\n",
    "        return output, [output]\n",
    "\n",
    "    def get_config(self):\n",
    "        config = super().get_config()\n",
    "        config.update({\n",
    "            \"units\": self.units,\n",
    "            \"units\": self.state_size})\n",
    "        return config"
   ]
  },
  {
   "cell_type": "code",
   "execution_count": null,
   "id": "a770d78b-5303-444c-ba27-290b9ea3287e",
   "metadata": {},
   "outputs": [],
   "source": [
    "def rnn_model():\n",
    "    dropout_threshold = 0.4\n",
    "    input_dim = data_vocab_size\n",
    "    output_dim = 32\n",
    "    input_length = 256\n",
    "    intitializer = tf.keras.initializers.GlorotNormal()\n",
    "\n",
    "    input_layer = tf.keras.layers.Input((input_length))\n",
    "    feature = tf.keras.layers.Embedding(input_dim=input_dim,output_dim=output_dim,input_length=input_length,embeddings_initializer='GlorotNormal')(input_layer)\n",
    "    \n",
    "    #RNN\n",
    "    cell = RNNCell(32)\n",
    "    rnn_feature = tf.keras.layers.RNN(cell,return_sequences=True)(feature)\n",
    "    #rnn_feature = tf.keras.layers.MaxPooling1D()(rnn_feature)\n",
    "    #rnn_feature = tf.keras.layers.Dropout(dropout_threshold)(rnn_feature)\n",
    "    #rnn_feature = tf.keras.layers.RNN(cell,return_sequences=True)(rnn_feature)\n",
    "    rnn_feature = tf.keras.layers.MaxPooling1D()(rnn_feature)\n",
    "    rnn_feature = tf.keras.layers.LayerNormalization()(rnn_feature)\n",
    "    rnn_feature = tf.keras.layers.Dropout(dropout_threshold)(rnn_feature)\n",
    "\n",
    "    input_feature = tf.keras.layers.GlobalMaxPooling1D()(rnn_feature)\n",
    "    input_feature = tf.keras.layers.LayerNormalization()(input_feature)\n",
    "\n",
    "    classifier = tf.keras.layers.Dense(90,activation = 'relu')(input_feature)\n",
    "    classifier = tf.keras.layers.Dropout(0.2)(classifier)\n",
    "    classifier = tf.keras.layers.Dense(70,activation = 'relu')(classifier)\n",
    "    classifier = tf.keras.layers.Dropout(0.2)(classifier)\n",
    "    classifier = tf.keras.layers.Dense(50,activation = 'relu')(classifier)\n",
    "    classifier = tf.keras.layers.Dropout(0.2)(classifier)\n",
    "    classifier = tf.keras.layers.Dense(30,activation = 'relu')(classifier)\n",
    "    classifier = tf.keras.layers.Dropout(0.2)(classifier)\n",
    "    classifier = tf.keras.layers.Dense(3,activation = 'softmax')(classifier)\n",
    "\n",
    "    model = tf.keras.Model(inputs = input_layer, outputs = classifier)\n",
    "\n",
    "    return model\n",
    "\n",
    "rnn = rnn_model()\n",
    "config = model.get_config()\n",
    "custom_objects = {\"RNNCell\": RNNCell}\n",
    "adam = tf.keras.optimizers.Adam(learning_rate=0.001)\n",
    "model.compile(optimizer=adam, loss='categorical_crossentropy', metrics=['accuracy'])\n",
    "model.summary()"
   ]
  },
  {
   "cell_type": "code",
   "execution_count": null,
   "id": "e071ba59-8289-4d63-b184-af1dc6ab1019",
   "metadata": {},
   "outputs": [],
   "source": [
    "device_name = tf.test.gpu_device_name()\n",
    "if device_name != '/device:GPU:0':\n",
    "    raise SystemError('GPU device not found')\n",
    "print('Found GPU at: {}'.format(device_name))"
   ]
  }
 ],
 "metadata": {
  "kernelspec": {
   "display_name": "Python 3 (ipykernel)",
   "language": "python",
   "name": "python3"
  },
  "language_info": {
   "codemirror_mode": {
    "name": "ipython",
    "version": 3
   },
   "file_extension": ".py",
   "mimetype": "text/x-python",
   "name": "python",
   "nbconvert_exporter": "python",
   "pygments_lexer": "ipython3",
   "version": "3.9.7"
  }
 },
 "nbformat": 4,
 "nbformat_minor": 5
}
