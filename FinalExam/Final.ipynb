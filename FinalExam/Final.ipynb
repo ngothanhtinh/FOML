{
 "cells": [
  {
   "cell_type": "markdown",
   "id": "394f8e98-fcb4-4ff6-a786-170ae5000061",
   "metadata": {
    "tags": []
   },
   "source": [
    "# PMDS FoML 2022 Final Exam\n",
    "\n",
    "Good morning and happy New Year's Eve!\n",
    "\n",
    "You have **2.5 hours** to complete today's exam. When finished, you should output a PDF file and\n",
    "upload to Google Classroom.\n",
    "\n",
    "There are two types of questions, \"Short answer\" and \"Coding.\" You might\n",
    "want to answer the short answer questions and easy coding questions first then come back\n",
    "to the more difficult ones. Try to answer every question as best you can. I give partial credit!\n",
    "\n",
    "Good luck!"
   ]
  },
  {
   "cell_type": "code",
   "execution_count": 174,
   "id": "ccde2c82-049c-425f-b073-8060758a0131",
   "metadata": {},
   "outputs": [],
   "source": [
    "import numpy as np\n",
    "import pandas as pd\n",
    "import matplotlib\n",
    "import matplotlib.pyplot as plt\n",
    "import torch\n",
    "import torchvision"
   ]
  },
  {
   "cell_type": "markdown",
   "id": "89f34ac6-ac57-421b-8d03-27c567502444",
   "metadata": {
    "tags": []
   },
   "source": [
    "## Question 1 (Short answer, 10 points)\n",
    "\n",
    "In linear regression, we assume that the target variable $y$ is distributed according to a normal\n",
    "distribution with mean $\\mathbf{\\theta}^T \\mathbf{x}$ and variance $\\sigma^2$.\n",
    "\n",
    "Why is it that the optimal parameters\n",
    "$$\\mathbf{\\theta}^* = \\underset{\\mathbf{\\theta}}{\\operatorname{argmax}}\n",
    "\\prod_{i=1}^m p(y^{(i)} \\mid \\mathbf{x}^{(i)}; \\mathbf{\\theta})$$\n",
    "only involve the coefficients $\\theta_0, \\theta_1, \\ldots$\n",
    "applied to $\\mathbf{x}$ and do not depend on $\\sigma$?\n",
    "\n",
    "*Write your answer here.*\n",
    "\n",
    "In linear regression, the optimal parameters only involve the coefficients $\\theta_0, \\theta_1, \\ldots$\n",
    "applied to $\\mathbf{x}$ and do not depend on $\\sigma$ \n",
    "\n",
    "\n",
    "**Because:**\n",
    "1. the cost function is:\n",
    "$$\\mathcal{J}_{\\theta} = \\frac{1}{2} \\sum_{i=1}^{m}\\left( h_\\theta(\\mathbf{x}^{(i)})- y^{(i)}\\right)$$\n",
    "do not depend on $\\sigma$.\n",
    "\n",
    "2. the parameters 𝜃 that maximize the likelihood given by:\n",
    "\n",
    "$$ p(y^{(i)} \\mid \\mathbf{x}^{(i)}; \\mathbf{\\theta}) = \\prod_{i=1}^m \\frac{1}{ \\sqrt{2 \\pi \\sigma^2}}e^{\\frac{-(y^{(i)}-\\theta^T x^{(i)})^2}{2}\\sigma^2}\n",
    "$$\n",
    "Where $\\sigma^2$ assumed to be constant."
   ]
  },
  {
   "cell_type": "markdown",
   "id": "e2d0fea1-5549-4f7b-9551-05f518f71042",
   "metadata": {},
   "source": [
    "## Question 2 (Coding, 20 points)\n",
    "\n",
    "Consider the dataset in the file `final-data.csv`. It is the same binary classification\n",
    "dataset you used in the midterm quiz, with two real-valued features $x_1$ and $x_2$ and\n",
    "a target $y \\in \\{-1, 1\\}$.\n",
    "\n",
    "In the cell below, write code to read the CSV file as a numpy array, split the data into training and\n",
    "validation **randomly** with a ratio of 80% training and 20% validation, and plot the data in two plots,\n",
    "one for the training data and one for the validation data. The two classes should be shown in\n",
    "different colors in the two plots.\n"
   ]
  },
  {
   "cell_type": "code",
   "execution_count": 175,
   "id": "9822dfe7-0514-4feb-af38-52fbc92afc12",
   "metadata": {},
   "outputs": [
    {
     "data": {
      "text/html": [
       "<div>\n",
       "<style scoped>\n",
       "    .dataframe tbody tr th:only-of-type {\n",
       "        vertical-align: middle;\n",
       "    }\n",
       "\n",
       "    .dataframe tbody tr th {\n",
       "        vertical-align: top;\n",
       "    }\n",
       "\n",
       "    .dataframe thead th {\n",
       "        text-align: right;\n",
       "    }\n",
       "</style>\n",
       "<table border=\"1\" class=\"dataframe\">\n",
       "  <thead>\n",
       "    <tr style=\"text-align: right;\">\n",
       "      <th></th>\n",
       "      <th>0</th>\n",
       "      <th>1</th>\n",
       "      <th>2</th>\n",
       "    </tr>\n",
       "  </thead>\n",
       "  <tbody>\n",
       "    <tr>\n",
       "      <th>0</th>\n",
       "      <td>1.818172</td>\n",
       "      <td>0.391324</td>\n",
       "      <td>-1.0</td>\n",
       "    </tr>\n",
       "    <tr>\n",
       "      <th>1</th>\n",
       "      <td>11.338493</td>\n",
       "      <td>10.811217</td>\n",
       "      <td>-1.0</td>\n",
       "    </tr>\n",
       "    <tr>\n",
       "      <th>2</th>\n",
       "      <td>8.801390</td>\n",
       "      <td>11.454011</td>\n",
       "      <td>-1.0</td>\n",
       "    </tr>\n",
       "    <tr>\n",
       "      <th>3</th>\n",
       "      <td>8.579099</td>\n",
       "      <td>10.817820</td>\n",
       "      <td>-1.0</td>\n",
       "    </tr>\n",
       "    <tr>\n",
       "      <th>4</th>\n",
       "      <td>3.216192</td>\n",
       "      <td>5.463256</td>\n",
       "      <td>-1.0</td>\n",
       "    </tr>\n",
       "  </tbody>\n",
       "</table>\n",
       "</div>"
      ],
      "text/plain": [
       "           0          1    2\n",
       "0   1.818172   0.391324 -1.0\n",
       "1  11.338493  10.811217 -1.0\n",
       "2   8.801390  11.454011 -1.0\n",
       "3   8.579099  10.817820 -1.0\n",
       "4   3.216192   5.463256 -1.0"
      ]
     },
     "execution_count": 175,
     "metadata": {},
     "output_type": "execute_result"
    }
   ],
   "source": [
    "# Reading, splitting, and plotting code goes here\n",
    "\n",
    "# Read the data file\n",
    "df = pd.read_csv('final-data.csv',header=None)\n",
    "df.head()"
   ]
  },
  {
   "cell_type": "code",
   "execution_count": 186,
   "id": "05379e5e-1f5e-49ce-969a-927e56626449",
   "metadata": {},
   "outputs": [],
   "source": [
    "X1 = df.loc[:,0].to_numpy().reshape(-1,1)\n",
    "X2 = df.loc[:,1].to_numpy().reshape(-1,1)\n",
    "X = np.concatenate((X1,X2),1)\n",
    "y = df.loc[:,2].to_numpy().reshape(-1,1)"
   ]
  },
  {
   "cell_type": "code",
   "execution_count": 187,
   "id": "ebdc611d-9d0a-4604-9dc8-cbf9c3d10704",
   "metadata": {},
   "outputs": [],
   "source": [
    "# Split the data\n",
    "def train_val_split(X,y,train_size):\n",
    "    m = X.shape[0]\n",
    "    order = np.arange(m)\n",
    "    np.random.shuffle(order)\n",
    "    train_len = int(m*train_size)\n",
    "    train_in = order[:train_len]\n",
    "    val_in = order[train_len:]\n",
    "    X_train = X[train_in,:]\n",
    "    y_train = y[train_in,:]\n",
    "    X_val = X[val_in,:]\n",
    "    y_val = y[val_in,:]\n",
    "    return X_train,y_train,X_val,y_val\n",
    "X_train,y_train,X_val,y_val = train_val_split(X,y,0.8)"
   ]
  },
  {
   "cell_type": "code",
   "execution_count": 178,
   "id": "2665bc5b-2517-41e8-8722-0caf8f406f85",
   "metadata": {},
   "outputs": [
    {
     "data": {
      "image/png": "[encoded data removed]",
      "text/plain": [
       "<Figure size 1440x432 with 2 Axes>"
      ]
     },
     "metadata": {
      "needs_background": "light"
     },
     "output_type": "display_data"
    }
   ],
   "source": [
    "#Plot the data\n",
    "matplotlib.rcParams['figure.figsize'] = [20,6]\n",
    "fig,(ax1,ax2) = plt.subplots(1,2)\n",
    "\n",
    "#Trainng data\n",
    "ax1.set_title('Training data')\n",
    "ax1.plot(X_train[y_train.reshape(-1)==-1,0],X_train[y_train.reshape(-1)==-1,1],'ro',label='Class 1')\n",
    "ax1.plot(X_train[y_train.reshape(-1)==1,0],X_train[y_train.reshape(-1)==1,1],'go',label='Class 2')\n",
    "ax1.legend()\n",
    "\n",
    "# Validationdata\n",
    "ax2.set_title('Validation data')\n",
    "ax2.plot(X_val[y_val.reshape(-1)==-1,0],X_val[y_val.reshape(-1)==-1,1],'ro',label='Class 1')\n",
    "ax2.plot(X_val[y_val.reshape(-1)==1,0],X_val[y_val.reshape(-1)==1,1],'go',label='Class 2')\n",
    "ax1.legend()\n",
    "\n",
    "plt.show()"
   ]
  },
  {
   "cell_type": "markdown",
   "id": "1186befd-3474-4595-86d8-734cc960e7ab",
   "metadata": {},
   "source": [
    "## Question 3 (Coding, 10 points)\n",
    "\n",
    "Since the data in Question 2 are not linearly separable, we would need a nonlinear classifier\n",
    "such as a RBF SVM or a neural network.\n",
    "\n",
    "In the cell below, write code to calculate the Gram matrix (kernel matrix) $\\mathtt{K}$ for\n",
    "the Gaussian/RBF kernel with $\\sigma=1.0$.\n"
   ]
  },
  {
   "cell_type": "code",
   "execution_count": 179,
   "id": "58803097-6368-4d3b-bbc3-937ba385a03b",
   "metadata": {},
   "outputs": [
    {
     "data": {
      "text/plain": [
       "array([[1.00000000e+00, 5.52010667e-44, 6.84859985e-38, ...,\n",
       "        5.77268892e-13, 8.34556166e-16, 1.80902204e-46],\n",
       "       [5.52010667e-44, 1.00000000e+00, 3.25480324e-02, ...,\n",
       "        4.22942289e-24, 1.56354076e-09, 1.11840355e-10],\n",
       "       [6.84859985e-38, 3.25480324e-02, 1.00000000e+00, ...,\n",
       "        3.31160803e-26, 8.08709148e-10, 3.50473756e-18],\n",
       "       ...,\n",
       "       [5.77268892e-13, 4.22942289e-24, 3.31160803e-26, ...,\n",
       "        1.00000000e+00, 6.71526442e-05, 8.23991877e-14],\n",
       "       [8.34556166e-16, 1.56354076e-09, 8.08709148e-10, ...,\n",
       "        6.71526442e-05, 1.00000000e+00, 2.10625401e-10],\n",
       "       [1.80902204e-46, 1.11840355e-10, 3.50473756e-18, ...,\n",
       "        8.23991877e-14, 2.10625401e-10, 1.00000000e+00]])"
      ]
     },
     "execution_count": 179,
     "metadata": {},
     "output_type": "execute_result"
    }
   ],
   "source": [
    "# Code to calculate K goes here\n",
    "def rbf_kernel (X,sigma):\n",
    "    m = X.shape[0]\n",
    "    K = np.zeros((m,m))\n",
    "    for i in range (m):\n",
    "        for j in range (m):\n",
    "            K[i,j] = (X[i,:]-X[j,:])@(X[i,:]-X[j,:])\n",
    "    K = np.exp(-K/(2*sigma**2))\n",
    "    return K\n",
    "K = rbf_kernel (X,sigma=1.0)\n",
    "K"
   ]
  },
  {
   "cell_type": "markdown",
   "id": "863c4139-ad8c-41d2-af4e-fe2d4b6ae636",
   "metadata": {},
   "source": [
    "## Question 4 (Short answer, 10 points)\n",
    "\n",
    "Suppose that the data in Question 2 were not labeled and the goal was to cluster them.\n",
    "Which clustering method, k-means or the GMM, would be better suited to this dataset?\n",
    "\n",
    "*Write your answer here.*\n",
    "\n",
    "Beacuse the K-Means Clustering classifies samples based on the distance between sample and the centroid so that oes not work efficiently with complex geometrical shaped data(Non-Linear). Otherwise, GMM uses probability of a sample to determine the feasibility of it belonging to a cluster so it works well with non-linear geometric distributions as well\n",
    "\n",
    "**With the data in Question 2 GMM would be better**"
   ]
  },
  {
   "cell_type": "markdown",
   "id": "f0882d0b-d433-4128-885c-e4fdb451fead",
   "metadata": {},
   "source": [
    "## Question 5 (Short answer, 10 points)\n",
    "\n",
    "If you were to design a neural network to classify the data from Question 2, what would be\n",
    "the structure of the network (number of layers, number of units, activation functions, etc.)?\n",
    "\n",
    "*Write your answer here.*\n",
    "\n",
    "The data in Question 2 is quite simple. So the structure of neural network propose is:\n",
    "\n",
    "- Input layer with two inputs\n",
    "- 01 hidden layer 4 units with ReLU activation function\n",
    "- Output layer with a single output, with sigmoid activation function\n",
    "- Binary cross entropy loss function, and Stochastic gradient descent for the optimizer."
   ]
  },
  {
   "cell_type": "markdown",
   "id": "46d17a22-c71d-4ad9-a602-43759d246386",
   "metadata": {},
   "source": [
    "## Question 6 (Coding, 10 points)\n",
    "\n",
    "Implement the neural network you described in Question 5 using PyTorch.\n",
    "You only need to provide the Python class inheriting from `torch.nn.Module` here."
   ]
  },
  {
   "cell_type": "code",
   "execution_count": 180,
   "id": "23870d24-e789-458d-bdf6-8c908f782a65",
   "metadata": {},
   "outputs": [],
   "source": [
    "import torch\n",
    "\n",
    "# Classification network\n",
    "class Network(torch.nn.Module):\n",
    "    def __init__(self):\n",
    "        super().__init__()\n",
    "        self.fc1 = torch.nn.Linear(2,4)\n",
    "        self.fc2 = torch.nn.Linear(4,1)\n",
    "    \n",
    "    def forward(self,x):\n",
    "        x = self.fc1(x)\n",
    "        x = torch.nn.functional.relu(x)\n",
    "        x = self.fc2(x)\n",
    "        x = torch.nn.functional.sigmoid(x)\n",
    "        return x\n",
    "    pass"
   ]
  },
  {
   "cell_type": "code",
   "execution_count": 181,
   "id": "c3b8444a-6947-4d88-9308-e8c653543961",
   "metadata": {},
   "outputs": [],
   "source": [
    "transform = torchvision.transforms.Compose([torchvision.transforms.ToTensor()])\n",
    "class dataset():\n",
    "    def __init__(self,X,y,transform=None):\n",
    "        self.inputs = X\n",
    "        self.labels = y\n",
    "        self.transform = transform\n",
    "    \n",
    "    def __len__(self):\n",
    "        return len(self.inputs)\n",
    "    \n",
    "    def __getitem__(self,index):\n",
    "        inputs = self.transform(self.inputs)\n",
    "        labels = self.transform(self.labels)\n",
    "        return inputs.float(), labels.float()"
   ]
  },
  {
   "cell_type": "markdown",
   "id": "e38e6b6e-c21b-4fb4-b469-9968203f27d9",
   "metadata": {},
   "source": [
    "## Question 7 (Coding, 20 points)\n",
    "\n",
    "Write a function `train()` using the template below to train the neural network\n",
    "from Question 6 for a given number of epochs and demonstrate that it is working\n",
    "correctly by plotting the training and validation loss over the training process.\n"
   ]
  },
  {
   "cell_type": "code",
   "execution_count": 182,
   "id": "aa76f142-7b8d-4faf-ac18-804b81789ac4",
   "metadata": {},
   "outputs": [],
   "source": [
    "# Set up data loaders\n",
    "train_data = dataset(X_train,y_train,transform)\n",
    "val_data = dataset(X_val,y_val,transform)\n",
    "batch_size = 32\n",
    "train_loader = torch.utils.data.DataLoader(train_data,batch_size =batch_size,shuffle=True)\n",
    "val_loader = torch.utils.data.DataLoader(val_data,batch_size =batch_size,shuffle=False)"
   ]
  },
  {
   "cell_type": "code",
   "execution_count": 183,
   "id": "71b9b707-3684-4906-863a-3a8501803a34",
   "metadata": {},
   "outputs": [
    {
     "data": {
      "application/vnd.jupyter.widget-view+json": {
       "model_id": "3784b0641506440da3d7dc01f47fba20",
       "version_major": 2,
       "version_minor": 0
      },
      "text/plain": [
       "Progress bar:   0%|          | 0/1000 [00:00<?, ?it/s]"
      ]
     },
     "metadata": {},
     "output_type": "display_data"
    },
    {
     "name": "stderr",
     "output_type": "stream",
     "text": [
      "/opt/conda/lib/python3.9/site-packages/torch/nn/functional.py:1806: UserWarning: nn.functional.sigmoid is deprecated. Use torch.sigmoid instead.\n",
      "  warnings.warn(\"nn.functional.sigmoid is deprecated. Use torch.sigmoid instead.\")\n"
     ]
    }
   ],
   "source": [
    "# Network training function\n",
    "\n",
    "def train(net, epochs,  train_data,  val_data, alpha):\n",
    "    \n",
    "    train_loss = []\n",
    "    val_loss = []\n",
    "           \n",
    "    # Train for \"epochs\" epochs\n",
    "    for epoch in tqdm(range(epochs),desc='Progress bar'):\n",
    "        net.train()\n",
    "        epoch_loss = 0\n",
    "        iters = 0\n",
    "        for i,(input,target) in enumerate(train_loader):\n",
    "            #if torch.cuda.is_available():\n",
    "                #input = input.cuda()\n",
    "                #target = target.cuda()\n",
    "            optimizer.zero_grad()\n",
    "            # Forward pass\n",
    "            output = net(input)\n",
    "            loss = criterion(output, target)\n",
    "            # Backward\n",
    "            loss.backward()\n",
    "            # Update weight\n",
    "            optimizer.step()\n",
    "            # Record training loss\n",
    "            epoch_loss += loss.item()\n",
    "            iters += 1\n",
    "            \n",
    "        train_loss.append(epoch_loss/iters)\n",
    "\n",
    "    # Return training and validation loss\n",
    "        net.eval()\n",
    "        epoch_loss = 0\n",
    "        iters = 0\n",
    "        for i,(input,target) in enumerate(val_loader):\n",
    "            #if torch.cuda.is_available():\n",
    "                #input = input.cuda()\n",
    "                #target = target.cuda()\n",
    "            optimizer.zero_grad() \n",
    "        # Forward pass\n",
    "            output = net(input)\n",
    "            loss = criterion(output, target)\n",
    "        # Record validation loss\n",
    "            epoch_loss += loss.item()\n",
    "            iters += 1\n",
    "    \n",
    "        val_loss.append(epoch_loss/iters)\n",
    "\n",
    "    \n",
    "    return train_loss, val_loss\n",
    "\n",
    "\n",
    "net = Network()\n",
    "criterion = torch.nn.BCELoss()\n",
    "optimizer = torch.optim.SGD(net.parameters(),lr=0.001,momentum=0.9)\n",
    "#if torch.cuda.is_available:\n",
    "    #net = net.cuda()\n",
    "\n",
    "X_train = None\n",
    "X_val = None\n",
    "y_train = None\n",
    "y_val = None\n",
    "\n",
    "train_loss, val_loss = train(net, 1000,  train_data,  val_data, 0.01)"
   ]
  },
  {
   "cell_type": "code",
   "execution_count": 184,
   "id": "771bcbe9-d527-4905-b7aa-0e119ffd43b4",
   "metadata": {},
   "outputs": [
    {
     "data": {
      "image/png": "[encoded data removed]",
      "text/plain": [
       "<Figure size 720x576 with 1 Axes>"
      ]
     },
     "metadata": {
      "needs_background": "light"
     },
     "output_type": "display_data"
    }
   ],
   "source": [
    "# Plot train_loss, val_loss\n",
    "fig = plt.figure(figsize=(10,8))\n",
    "plt.plot(train_loss, label='Training loss')\n",
    "plt.plot(val_loss, label='Validation loss')\n",
    "plt.title('Training loss and Validation loss per epoch')\n",
    "plt.legend()\n",
    "plt.show()"
   ]
  },
  {
   "cell_type": "markdown",
   "id": "c9f5cd06-b66e-46e4-96d5-c482fae11b85",
   "metadata": {
    "tags": []
   },
   "source": [
    "## Question 8 (Coding, 10 points)\n",
    "\n",
    "Write a function `predict()` using the template below that runs inference\n",
    "using the trained network from Question 7 on a test/validation set."
   ]
  },
  {
   "cell_type": "code",
   "execution_count": 188,
   "id": "c5f1933b-228e-4530-8df9-4303278fd0dc",
   "metadata": {},
   "outputs": [],
   "source": [
    "y_val1 = y_val.copy()\n",
    "for y in y_val1:\n",
    "    y[y==-1]=0"
   ]
  },
  {
   "cell_type": "code",
   "execution_count": 189,
   "id": "8d885ee9-f7de-40b4-b783-b4aa1b4f290b",
   "metadata": {},
   "outputs": [],
   "source": [
    "# Inference function\n",
    "\n",
    "def predict(x):\n",
    "    x = transform(x).float()\n",
    "    output = net(x)\n",
    "    preds = torch.where(output.data>=0.5,1,0)\n",
    "    return preds.numpy().reshape(-1,1)\n",
    "\n",
    "def accracy(x,y):\n",
    "    x = transform(x).float()\n",
    "    output = net(x)\n",
    "    preds = torch.where(output.data>=0.5,1,0)\n",
    "    preds = preds.numpy().reshape(-1,1)\n",
    "    acc = (preds.reshape(-1) == y.reshape(-1)).sum()/len(y)\n",
    "    return acc*100"
   ]
  },
  {
   "cell_type": "code",
   "execution_count": 190,
   "id": "a737f026-6168-4fe1-9182-f37a65210364",
   "metadata": {},
   "outputs": [
    {
     "name": "stdout",
     "output_type": "stream",
     "text": [
      "Validation accuracy: 100.000000\n"
     ]
    }
   ],
   "source": [
    "y_pred = predict(X_val)\n",
    "accuracy = accracy(X_val,y_val1)\n",
    "print('Validation accuracy: %f' % accuracy)"
   ]
  },
  {
   "cell_type": "code",
   "execution_count": 191,
   "id": "82c4c473-2737-4782-8d8a-5744cefa61c0",
   "metadata": {},
   "outputs": [
    {
     "name": "stderr",
     "output_type": "stream",
     "text": [
      "/opt/conda/lib/python3.9/site-packages/torch/nn/functional.py:1806: UserWarning: nn.functional.sigmoid is deprecated. Use torch.sigmoid instead.\n",
      "  warnings.warn(\"nn.functional.sigmoid is deprecated. Use torch.sigmoid instead.\")\n"
     ]
    },
    {
     "data": {
      "image/png": "[encoded data removed]",
      "text/plain": [
       "<Figure size 1440x432 with 2 Axes>"
      ]
     },
     "metadata": {
      "needs_background": "light"
     },
     "output_type": "display_data"
    }
   ],
   "source": [
    "# Plot the result\n",
    "matplotlib.rcParams['figure.figsize'] = [20,6]\n",
    "fig,(ax1,ax2) = plt.subplots(1,2)\n",
    "\n",
    "# Training set\n",
    "ax1.set_title('Training set')\n",
    "\n",
    "grid_x,grid_y = np.mgrid[-5:20:100j,-5:20:100j]\n",
    "grid_xy = np.vstack([grid_x.ravel(),grid_y.ravel()]).T\n",
    "z = predict(grid_xy).reshape((100,100))\n",
    "ax1.contourf(grid_x , grid_y, z, alpha = 0.2)\n",
    "\n",
    "ax1.plot(X_train[y_train.reshape(-1)==-1,0],X_train[y_train.reshape(-1)==-1,1],'ro',label='Class 1')\n",
    "ax1.plot(X_train[y_train.reshape(-1)==1,0],X_train[y_train.reshape(-1)==1,1],'go',label='Class 2')\n",
    "\n",
    "ax1.legend()\n",
    "\n",
    "\n",
    "# Training set\n",
    "ax2.set_title('Validation set')\n",
    "\n",
    "grid_x,grid_y = np.mgrid[-5:20:100j,-5:20:100j]\n",
    "grid_xy = np.vstack([grid_x.ravel(),grid_y.ravel()]).T\n",
    "z = predict(grid_xy).reshape((100,100))\n",
    "ax2.contourf(grid_x , grid_y, z, alpha = 0.2)\n",
    "\n",
    "ax2.plot(X_val[y_val.reshape(-1)==-1,0],X_val[y_val.reshape(-1)==-1,1],'ro',label='Class 1')\n",
    "ax2.plot(X_val[y_val.reshape(-1)==1,0],X_val[y_val.reshape(-1)==1,1],'go',label='Class 2')\n",
    "\n",
    "ax2.legend()\n",
    "\n",
    "plt.show()"
   ]
  }
 ],
 "metadata": {
  "kernelspec": {
   "display_name": "Python 3 (ipykernel)",
   "language": "python",
   "name": "python3"
  },
  "language_info": {
   "codemirror_mode": {
    "name": "ipython",
    "version": 3
   },
   "file_extension": ".py",
   "mimetype": "text/x-python",
   "name": "python",
   "nbconvert_exporter": "python",
   "pygments_lexer": "ipython3",
   "version": "3.9.7"
  }
 },
 "nbformat": 4,
 "nbformat_minor": 5
}
